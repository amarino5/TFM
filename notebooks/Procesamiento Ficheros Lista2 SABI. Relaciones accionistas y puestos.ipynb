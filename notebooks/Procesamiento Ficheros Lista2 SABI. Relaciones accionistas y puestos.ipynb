{
 "cells": [
  {
   "cell_type": "code",
   "execution_count": 2,
   "metadata": {
    "collapsed": false
   },
   "outputs": [],
   "source": [
    "from os import listdir\n",
    "from os.path import isfile, join\n",
    "import os.path\n",
    "import openpyxl\n",
    "import pandas as pd\n",
    "import math\n",
    "import openpyxl\n",
    "import pickle"
   ]
  },
  {
   "cell_type": "code",
   "execution_count": 3,
   "metadata": {
    "collapsed": false
   },
   "outputs": [
    {
     "name": "stdout",
     "output_type": "stream",
     "text": [
      "['39 Lista2 Empresas 275001-280115.xlsx', '08 Lista2 Empresas 52502_60001.xlsx', '29 Lista2 Empresas 209001-216000.xlsx', '37 Lista2 Empresas 261001-268000.xlsx', '13 Lista2 Empresas 97001_104000.xlsx', '10 Lista2 Empresas 67501_75001.xlsx', '07 Lista2 Empresas 45002-52501.xlsx', '12 Lista2 Empresas 82501_90001.xlsx', '22 Lista2 Empresas 160001-167000.xlsx', '30 Lista2 Empresas 216001-223000.xlsx', '15 Lista2 Empresas 111001_118000.xlsx', '09 Lista2 Empresas 60002_67501.xlsx', '02 Lista2 Empresas 7501_15000.xlsx', '35 Lista2 Empresas 247001-254000.xlsx', '16 Lista2 Empresas 181001_125000.xlsx', '01 Lista2 Empresas 1_7500.xlsx', '03 Lista2 Empresas 15001_22501.xlsx', '19 Lista2 Empresas 139001-146000.xlsx', '36 Lista2 Empresas 254001-261000.xlsx', '38 Lista2 Empresas 268001-275000.xlsx', '32 Lista2 Empresas 230001_233000.xlsx', '31 Lista2 Empresas 223001_230000.xlsx', '17 Lista2 Empresas 125001_132000.xlsx', '21 Lista2 Empresas 153001-160000.xlsx', '24 Lista2 Empresas 174001-181000.xlsx', '25 Lista2 Empresas 181001-188000.xlsx', '28 Lista2 Empresas 202001-209000.xlsx', '14 Lista2 Empresas 104001_111000.xlsx', '12 Lista2 Empresas 90001_97000.xlsx', '20 Lista2 Empresas 146001_153000.xlsx', '23 Lista2 Empresas 167001-174000.xlsx', '33 Lista2 empresas 233001-240000.xlsx', '06 Lista2 Empresas 37502_45001.xlsx', '26 Lista2 Empresas 188001_195000.xlsx', '04 Lista2 Empresas 22502_30001.xlsx', '34 Lista2 Empresas 240001-247000.xlsx', '05 Lista 2 Empresas 30002_37501.xlsx', '18 Lista2 Empresas 132000-139000.xlsx', '11 Lista2 Empresas 75002_82501.xlsx', '27 Lista2 Empresas 195001-202000.xlsx']\n"
     ]
    }
   ],
   "source": [
    "#Definiciones iniciales.\n",
    "dffileRelacionesPuestos = 'RelacionesPuestos'\n",
    "dffileRelacionesAccionistas ='RelacionesAccionistas'\n",
    "counter_file_name = 'file_processed_counter_lista2'\n",
    "\n",
    "path1 = '../../data/datasets/SABI/lista1'\n",
    "path2 = '../../data/datasets/SABI/lista2'\n",
    "\n",
    "onlyfiles1 = [f for f in listdir(path1) if isfile(join(path1, f))]\n",
    "onlyfiles2 = [f for f in listdir(path2) if isfile(join(path2, f))]\n",
    "\n",
    "if (not(os.path.isfile(counter_file_name))):\n",
    "    with open(counter_file_name, 'wb') as dumpPickleCounter:\n",
    "        pickle.dump(onlyfiles2, dumpPickleCounter)\n",
    "else:\n",
    "    with open(counter_file_name, 'rb') as dumpPickleCounter:\n",
    "        onlyfiles2 = pickle.load(dumpPickleCounter)\n",
    "\n",
    "print onlyfiles2"
   ]
  },
  {
   "cell_type": "markdown",
   "metadata": {},
   "source": [
    "Definimos una funcion a la que se le pase un fichero, y añada a un dataframe los registros que necesitamos. Ojo a los campos que se definen como útiles de la excel, en cuyo caso si queremos añadir mas, solo tenemos que completar esta funcion. \n",
    "Se crean 2 dataframes, uno con los datos de las empresas y otro con las relaciones entre empresas y participadas. "
   ]
  },
  {
   "cell_type": "code",
   "execution_count": 4,
   "metadata": {
    "collapsed": false
   },
   "outputs": [],
   "source": [
    "#Proceso que genera un DF con los nodos empresa y sus datos \n",
    "#un dataframe con las relaciones de las empresas participadas.\n",
    "#un dataframe con los cargos. \n",
    "#Todo sacado de los ficheros de la lista1\n",
    "\n",
    "if (not(os.path.isfile(dffileRelacionesPuestos))):\n",
    "    dfRelacionesPuestos = pd.DataFrame(columns=('nombreEmpresa', 'CIF','fechaUltimaDocRecibida','numEmpresasTieneFuncion','nombreCargo','cargo','fechaCita','actual','numAccionistas','file'))\n",
    "else:\n",
    "    print 'loading dataframe dfRelacionesPuestos from pickle file......'\n",
    "    dfRelacionesPuestos = pd.read_pickle(dffileRelacionesPuestos)\n",
    "\n",
    "if (not(os.path.isfile(dffileRelacionesAccionistas))):\n",
    "    dfRelacionesAccionistas = pd.DataFrame(columns=('nombreEmpresa', 'CIF','nombreAccionista','idAccionista','isoPaisAccionista','%directo','%total'))\n",
    "else:\n",
    "    print 'loading dataframe dfRelacionesAccionistas from pickle file......'\n",
    "    dfRelacionesAccionistas =pd.read_pickle(dffileRelacionesAccionistas)\n",
    "\n",
    "\n",
    "    \n",
    "def append_file_to_df(f):\n",
    "    wb = openpyxl.load_workbook(f)\n",
    "    sheetnames = wb.get_sheet_names()\n",
    "    sheet =  wb.get_sheet_by_name('Resultados')\n",
    "    lastname = ''\n",
    "    lastcif=''\n",
    "    for rowNum in range(3, sheet.max_row):  # skip the first row\n",
    "        if not(pd.isnull(sheet.cell(row=rowNum, column=2).value)):\n",
    "            lastname=sheet.cell(row=rowNum, column=2).value\n",
    "            lastcif=sheet.cell(row=rowNum, column=3).value\n",
    "            dfRelacionesPuestos.loc[len(dfRelacionesPuestos)] = [sheet.cell(row=rowNum, column=2).value,sheet.cell(row=rowNum, column=3).value,sheet.cell(row=rowNum, column=9).value,sheet.cell(row=rowNum, column=12).value,sheet.cell(row=rowNum, column=17).value,sheet.cell(row=rowNum, column=19).value,sheet.cell(row=rowNum, column=20).value,sheet.cell(row=rowNum, column=22).value,sheet.cell(row=rowNum, column=25).value,f]\n",
    "        if pd.isnull(sheet.cell(row=rowNum, column=2).value):\n",
    "            if not(pd.isnull(sheet.cell(row=rowNum, column=26).value)):\n",
    "                dfRelacionesAccionistas.loc[len(dfRelacionesAccionistas)] = [lastname,lastcif,sheet.cell(row=rowNum, column=26).value,sheet.cell(row=rowNum, column=27).value,sheet.cell(row=rowNum, column=28).value,sheet.cell(row=rowNum, column=29).value,sheet.cell(row=rowNum, column=30).value]\n",
    "      "
   ]
  },
  {
   "cell_type": "markdown",
   "metadata": {},
   "source": [
    "Para cada fichero dentro de la ruta, procesamos cada fichero añadiendo al dataframe los registros."
   ]
  },
  {
   "cell_type": "code",
   "execution_count": null,
   "metadata": {
    "collapsed": false
   },
   "outputs": [
    {
     "name": "stdout",
     "output_type": "stream",
     "text": [
      "processing file:  ../../data/datasets/SABI/lista2/39 Lista2 Empresas 275001-280115.xlsx\n",
      "file:  ../../data/datasets/SABI/lista2/39 Lista2 Empresas 275001-280115.xlsx  appended\n",
      "processing file:  ../../data/datasets/SABI/lista2/08 Lista2 Empresas 52502_60001.xlsx\n",
      "file:  ../../data/datasets/SABI/lista2/08 Lista2 Empresas 52502_60001.xlsx  appended\n",
      "processing file:  ../../data/datasets/SABI/lista2/29 Lista2 Empresas 209001-216000.xlsx\n",
      "file:  ../../data/datasets/SABI/lista2/29 Lista2 Empresas 209001-216000.xlsx  appended\n",
      "processing file:  ../../data/datasets/SABI/lista2/37 Lista2 Empresas 261001-268000.xlsx\n",
      "file:  ../../data/datasets/SABI/lista2/37 Lista2 Empresas 261001-268000.xlsx  appended\n",
      "processing file:  ../../data/datasets/SABI/lista2/13 Lista2 Empresas 97001_104000.xlsx\n",
      "file:  ../../data/datasets/SABI/lista2/13 Lista2 Empresas 97001_104000.xlsx  appended\n",
      "processing file:  ../../data/datasets/SABI/lista2/10 Lista2 Empresas 67501_75001.xlsx\n",
      "file:  ../../data/datasets/SABI/lista2/10 Lista2 Empresas 67501_75001.xlsx  appended\n",
      "processing file:  ../../data/datasets/SABI/lista2/07 Lista2 Empresas 45002-52501.xlsx\n",
      "file:  ../../data/datasets/SABI/lista2/07 Lista2 Empresas 45002-52501.xlsx  appended\n",
      "processing file:  ../../data/datasets/SABI/lista2/12 Lista2 Empresas 82501_90001.xlsx\n",
      "file:  ../../data/datasets/SABI/lista2/12 Lista2 Empresas 82501_90001.xlsx  appended\n",
      "processing file:  ../../data/datasets/SABI/lista2/22 Lista2 Empresas 160001-167000.xlsx\n",
      "file:  ../../data/datasets/SABI/lista2/22 Lista2 Empresas 160001-167000.xlsx  appended\n",
      "processing file:  ../../data/datasets/SABI/lista2/30 Lista2 Empresas 216001-223000.xlsx\n",
      "file:  ../../data/datasets/SABI/lista2/30 Lista2 Empresas 216001-223000.xlsx  appended\n",
      "processing file:  ../../data/datasets/SABI/lista2/15 Lista2 Empresas 111001_118000.xlsx\n",
      "file:  ../../data/datasets/SABI/lista2/15 Lista2 Empresas 111001_118000.xlsx  appended\n",
      "processing file:  ../../data/datasets/SABI/lista2/09 Lista2 Empresas 60002_67501.xlsx\n",
      "file:  ../../data/datasets/SABI/lista2/09 Lista2 Empresas 60002_67501.xlsx  appended\n",
      "processing file:  ../../data/datasets/SABI/lista2/02 Lista2 Empresas 7501_15000.xlsx\n",
      "file:  ../../data/datasets/SABI/lista2/02 Lista2 Empresas 7501_15000.xlsx  appended\n",
      "processing file:  ../../data/datasets/SABI/lista2/35 Lista2 Empresas 247001-254000.xlsx\n",
      "file:  ../../data/datasets/SABI/lista2/35 Lista2 Empresas 247001-254000.xlsx  appended\n",
      "processing file:  ../../data/datasets/SABI/lista2/16 Lista2 Empresas 181001_125000.xlsx\n",
      "file:  ../../data/datasets/SABI/lista2/16 Lista2 Empresas 181001_125000.xlsx  appended\n",
      "processing file:  ../../data/datasets/SABI/lista2/01 Lista2 Empresas 1_7500.xlsx\n",
      "file:  ../../data/datasets/SABI/lista2/01 Lista2 Empresas 1_7500.xlsx  appended\n",
      "processing file:  ../../data/datasets/SABI/lista2/03 Lista2 Empresas 15001_22501.xlsx\n",
      "file:  ../../data/datasets/SABI/lista2/03 Lista2 Empresas 15001_22501.xlsx  appended\n",
      "processing file:  ../../data/datasets/SABI/lista2/19 Lista2 Empresas 139001-146000.xlsx\n",
      "file:  ../../data/datasets/SABI/lista2/19 Lista2 Empresas 139001-146000.xlsx  appended\n",
      "processing file:  ../../data/datasets/SABI/lista2/36 Lista2 Empresas 254001-261000.xlsx\n",
      "file:  ../../data/datasets/SABI/lista2/36 Lista2 Empresas 254001-261000.xlsx  appended\n",
      "processing file:  ../../data/datasets/SABI/lista2/38 Lista2 Empresas 268001-275000.xlsx\n",
      "file:  ../../data/datasets/SABI/lista2/38 Lista2 Empresas 268001-275000.xlsx  appended\n",
      "processing file:  ../../data/datasets/SABI/lista2/32 Lista2 Empresas 230001_233000.xlsx\n",
      "file:  ../../data/datasets/SABI/lista2/32 Lista2 Empresas 230001_233000.xlsx  appended\n",
      "processing file:  ../../data/datasets/SABI/lista2/31 Lista2 Empresas 223001_230000.xlsx\n",
      "file:  ../../data/datasets/SABI/lista2/31 Lista2 Empresas 223001_230000.xlsx  appended\n",
      "processing file:  ../../data/datasets/SABI/lista2/17 Lista2 Empresas 125001_132000.xlsx\n",
      "file:  ../../data/datasets/SABI/lista2/17 Lista2 Empresas 125001_132000.xlsx  appended\n",
      "processing file:  ../../data/datasets/SABI/lista2/21 Lista2 Empresas 153001-160000.xlsx\n",
      "file:  ../../data/datasets/SABI/lista2/21 Lista2 Empresas 153001-160000.xlsx  appended\n",
      "processing file:  ../../data/datasets/SABI/lista2/24 Lista2 Empresas 174001-181000.xlsx\n",
      "file:  ../../data/datasets/SABI/lista2/24 Lista2 Empresas 174001-181000.xlsx  appended\n",
      "processing file:  ../../data/datasets/SABI/lista2/25 Lista2 Empresas 181001-188000.xlsx\n",
      "file:  ../../data/datasets/SABI/lista2/25 Lista2 Empresas 181001-188000.xlsx  appended\n",
      "processing file:  ../../data/datasets/SABI/lista2/28 Lista2 Empresas 202001-209000.xlsx\n",
      "file:  ../../data/datasets/SABI/lista2/28 Lista2 Empresas 202001-209000.xlsx  appended\n",
      "processing file:  ../../data/datasets/SABI/lista2/14 Lista2 Empresas 104001_111000.xlsx\n",
      "file:  ../../data/datasets/SABI/lista2/14 Lista2 Empresas 104001_111000.xlsx  appended\n",
      "processing file:  ../../data/datasets/SABI/lista2/12 Lista2 Empresas 90001_97000.xlsx\n",
      "file:  ../../data/datasets/SABI/lista2/12 Lista2 Empresas 90001_97000.xlsx  appended\n",
      "processing file:  ../../data/datasets/SABI/lista2/20 Lista2 Empresas 146001_153000.xlsx\n",
      "file:  ../../data/datasets/SABI/lista2/20 Lista2 Empresas 146001_153000.xlsx  appended\n",
      "processing file:  ../../data/datasets/SABI/lista2/23 Lista2 Empresas 167001-174000.xlsx\n",
      "file:  ../../data/datasets/SABI/lista2/23 Lista2 Empresas 167001-174000.xlsx  appended\n",
      "processing file:  ../../data/datasets/SABI/lista2/33 Lista2 empresas 233001-240000.xlsx\n",
      "file:  ../../data/datasets/SABI/lista2/33 Lista2 empresas 233001-240000.xlsx  appended\n",
      "processing file:  ../../data/datasets/SABI/lista2/06 Lista2 Empresas 37502_45001.xlsx\n",
      "file:  ../../data/datasets/SABI/lista2/06 Lista2 Empresas 37502_45001.xlsx  appended\n",
      "processing file:  ../../data/datasets/SABI/lista2/26 Lista2 Empresas 188001_195000.xlsx\n",
      "file:  ../../data/datasets/SABI/lista2/26 Lista2 Empresas 188001_195000.xlsx  appended\n",
      "processing file:  ../../data/datasets/SABI/lista2/04 Lista2 Empresas 22502_30001.xlsx\n",
      "file:  ../../data/datasets/SABI/lista2/04 Lista2 Empresas 22502_30001.xlsx  appended\n",
      "processing file:  ../../data/datasets/SABI/lista2/34 Lista2 Empresas 240001-247000.xlsx\n",
      "file:  ../../data/datasets/SABI/lista2/05 Lista 2 Empresas 30002_37501.xlsx  appended\n",
      "processing file:  ../../data/datasets/SABI/lista2/18 Lista2 Empresas 132000-139000.xlsx\n",
      "file:  ../../data/datasets/SABI/lista2/18 Lista2 Empresas 132000-139000.xlsx  appended\n",
      "processing file:  ../../data/datasets/SABI/lista2/11 Lista2 Empresas 75002_82501.xlsx\n"
     ]
    }
   ],
   "source": [
    "#Primero procesamos los datos base de la lista1, creando los nodos empresa y la lista de participadas.\n",
    "iterator = list(onlyfiles2)\n",
    "for file in iterator:\n",
    "    f=join(path2, file)\n",
    "    print 'processing file: ',f\n",
    "    append_file_to_df(f)\n",
    "    print 'file: ',f,' appended'\n",
    "    dfRelacionesPuestos.to_pickle(dffileRelacionesPuestos)\n",
    "    dfRelacionesAccionistas.to_pickle(dffileRelacionesAccionistas)\n",
    "    onlyfiles2.remove(file)\n",
    "    with open(counter_file_name, 'wb') as dumpPickleCounter:\n",
    "        pickle.dump(onlyfiles2, dumpPickleCounter)\n",
    "    "
   ]
  },
  {
   "cell_type": "code",
   "execution_count": null,
   "metadata": {
    "collapsed": true
   },
   "outputs": [],
   "source": []
  }
 ],
 "metadata": {
  "anaconda-cloud": {},
  "kernelspec": {
   "display_name": "Python [conda root]",
   "language": "python",
   "name": "conda-root-py"
  },
  "language_info": {
   "codemirror_mode": {
    "name": "ipython",
    "version": 2
   },
   "file_extension": ".py",
   "mimetype": "text/x-python",
   "name": "python",
   "nbconvert_exporter": "python",
   "pygments_lexer": "ipython2",
   "version": "2.7.13"
  }
 },
 "nbformat": 4,
 "nbformat_minor": 2
}
