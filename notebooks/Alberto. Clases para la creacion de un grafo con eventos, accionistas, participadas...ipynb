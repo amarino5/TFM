{
 "cells": [
  {
   "cell_type": "code",
   "execution_count": 1,
   "metadata": {
    "collapsed": true
   },
   "outputs": [],
   "source": [
    "import pandas as pd\n",
    "import time\n",
    "import networkx as nx"
   ]
  },
  {
   "cell_type": "code",
   "execution_count": 2,
   "metadata": {
    "collapsed": true
   },
   "outputs": [],
   "source": [
    "import sys  \n",
    "reload(sys)  \n",
    "sys.setdefaultencoding('utf8')"
   ]
  },
  {
   "cell_type": "code",
   "execution_count": 3,
   "metadata": {
    "collapsed": false
   },
   "outputs": [],
   "source": [
    "dfrelacionesCargos = pd.DataFrame()\n",
    "dfrelacionesParticipadas= pd.DataFrame()\n",
    "dfempresas= pd.DataFrame()\n",
    "dfrelacionesParticipadas= pd.read_pickle('./Alberto.data/RelacionesEmpresasParticipadas')\n",
    "dfwork = pd.read_pickle('./Alberto.data/NodosEmpresa')\n",
    "dfrelacionesCargos = pd.read_pickle('./Alberto.data/RelacionesCargos')\n",
    "dfrelacionesAccionistas = pd.read_pickle('./Alberto.data/RelacionesAccionistas')\n",
    "dfrelacionesPuestos = pd.read_pickle('./Alberto.data/RelacionesPuestos')\n",
    "dfeventosborme= pd.read_csv('BORMEEvents.csv')"
   ]
  },
  {
   "cell_type": "code",
   "execution_count": 4,
   "metadata": {
    "collapsed": false
   },
   "outputs": [
    {
     "data": {
      "text/html": [
       "<div>\n",
       "<table border=\"1\" class=\"dataframe\">\n",
       "  <thead>\n",
       "    <tr style=\"text-align: right;\">\n",
       "      <th></th>\n",
       "      <th>Unnamed: 0</th>\n",
       "      <th>rowID</th>\n",
       "      <th>razon</th>\n",
       "      <th>evento</th>\n",
       "      <th>subevento</th>\n",
       "      <th>codevento</th>\n",
       "      <th>actor</th>\n",
       "      <th>fecha_publicacion</th>\n",
       "      <th>cif</th>\n",
       "      <th>nombre</th>\n",
       "    </tr>\n",
       "  </thead>\n",
       "  <tbody>\n",
       "    <tr>\n",
       "      <th>0</th>\n",
       "      <td>0</td>\n",
       "      <td>6826517</td>\n",
       "      <td>SL</td>\n",
       "      <td>Nombramientos.</td>\n",
       "      <td>vicepresidente</td>\n",
       "      <td>44014</td>\n",
       "      <td>PENA RUSHTON JUAN ANTONIO</td>\n",
       "      <td>11/02/2010</td>\n",
       "      <td>B15371222</td>\n",
       "      <td>CENTRAL ELECTRODOMESTICOS NOROESTE</td>\n",
       "    </tr>\n",
       "    <tr>\n",
       "      <th>1</th>\n",
       "      <td>1</td>\n",
       "      <td>6826518</td>\n",
       "      <td>SL</td>\n",
       "      <td>Nombramientos.</td>\n",
       "      <td>secretario</td>\n",
       "      <td>4409</td>\n",
       "      <td>BABIO  LOPEZ  JESUS</td>\n",
       "      <td>11/02/2010</td>\n",
       "      <td>B15371222</td>\n",
       "      <td>CENTRAL ELECTRODOMESTICOS NOROESTE</td>\n",
       "    </tr>\n",
       "  </tbody>\n",
       "</table>\n",
       "</div>"
      ],
      "text/plain": [
       "   Unnamed: 0    rowID razon          evento       subevento  codevento  \\\n",
       "0           0  6826517    SL  Nombramientos.  vicepresidente      44014   \n",
       "1           1  6826518    SL  Nombramientos.      secretario       4409   \n",
       "\n",
       "                       actor fecha_publicacion        cif  \\\n",
       "0  PENA RUSHTON JUAN ANTONIO        11/02/2010  B15371222   \n",
       "1        BABIO  LOPEZ  JESUS        11/02/2010  B15371222   \n",
       "\n",
       "                               nombre  \n",
       "0  CENTRAL ELECTRODOMESTICOS NOROESTE  \n",
       "1  CENTRAL ELECTRODOMESTICOS NOROESTE  "
      ]
     },
     "execution_count": 4,
     "metadata": {},
     "output_type": "execute_result"
    }
   ],
   "source": [
    "dfeventosborme.head(2)"
   ]
  },
  {
   "cell_type": "code",
   "execution_count": 5,
   "metadata": {
    "collapsed": false
   },
   "outputs": [
    {
     "data": {
      "text/plain": [
       "array(['Nombramientos.', 'Reelecciones.', 'Ceses/Dimisiones.',\n",
       "       'Situaci\\xc3\\xb3n concursal.', 'Disoluci\\xc3\\xb3n.',\n",
       "       'Modificaciones estatutarias.',\n",
       "       'Declaraci\\xc3\\xb3n de unipersonalidad.', 'Revocaciones.',\n",
       "       'Sociedad unipersonal.', 'Fusi\\xc3\\xb3n por absorci\\xc3\\xb3n.',\n",
       "       'Declaraci\\xc3\\xb3n  de unipersonalidad.',\n",
       "       'Articulo 378.5 del Reglamento del Registro Mercantil.',\n",
       "       'Escisi\\xc3\\xb3n parcial.', 'Escisi\\xc3\\xb3n total.',\n",
       "       'Otros conceptos', 'Transformaci\\xc3\\xb3n de sociedad.',\n",
       "       'P\\xc3\\xa1gina web de la sociedad.'], dtype=object)"
      ]
     },
     "execution_count": 5,
     "metadata": {},
     "output_type": "execute_result"
    }
   ],
   "source": [
    "dfeventosborme.evento.unique()"
   ]
  },
  {
   "cell_type": "code",
   "execution_count": 6,
   "metadata": {
    "collapsed": false
   },
   "outputs": [
    {
     "data": {
      "text/plain": [
       "array(['vicepresidente', 'secretario', 'consejero', 'presidente',\n",
       "       'num0concurso', 'auditor', 'apoderado0solid', 'liquidador',\n",
       "       'admin0unico', 'voluntaria', 'admin0solid', 'cambio0organo0admin',\n",
       "       'apoderado', 'apoderado0mancom', 'consejero0delegado',\n",
       "       'admin0mancom', 'socio0unico', 'consejero0delegado0mancom',\n",
       "       'representan', 'socio', 'apoderado0solid0mancom',\n",
       "       'secretario0noconsej', 'vicesecretario0noconsej',\n",
       "       'consejero0delegado0solid', 'vicesecretario', 'benef0absorcion',\n",
       "       'no0aprobac0cuentas', 'escindidas', 'gerente', 'entidad0gestora',\n",
       "       'admin0conc', 'insolvencia', 'cambio0socio0unico', 'crea0web',\n",
       "       'miem0cons0rector'], dtype=object)"
      ]
     },
     "execution_count": 6,
     "metadata": {},
     "output_type": "execute_result"
    }
   ],
   "source": [
    "dfeventosborme.subevento.unique()"
   ]
  },
  {
   "cell_type": "code",
   "execution_count": 7,
   "metadata": {
    "collapsed": false
   },
   "outputs": [
    {
     "data": {
      "text/plain": [
       "Index([u'nombre', u'CIF', u'ISIN', u'forma', u'fconst', u'Estado',\n",
       "       u'fechaCambioEstado', u'Pres', u'DE', u'tipoCuentasDisponible',\n",
       "       u'numEmpresasEnCorporacion', u'numparticipadas', u'codPrimarioCNAE',\n",
       "       u'incidenciasJudiciales', u'reclamacionesAdministrativas',\n",
       "       u'numMiembrosJuntas', u'numMiembrosJuntasDireccion',\n",
       "       u'numEmpresasGrupo', u'long', u'lat', u'cotizoBolsa', u'totActivo2015',\n",
       "       u'totActivo2014', u'fondosPropios2015', u'fondosPropios2014',\n",
       "       u'numEmpleados2015', u'numEmpleados2015', u'netoVentas2015',\n",
       "       u'netoVentas2014', u'file'],\n",
       "      dtype='object')"
      ]
     },
     "execution_count": 7,
     "metadata": {},
     "output_type": "execute_result"
    }
   ],
   "source": [
    "dfwork.columns"
   ]
  },
  {
   "cell_type": "code",
   "execution_count": 8,
   "metadata": {
    "collapsed": false
   },
   "outputs": [
    {
     "data": {
      "text/html": [
       "<div>\n",
       "<table border=\"1\" class=\"dataframe\">\n",
       "  <thead>\n",
       "    <tr style=\"text-align: right;\">\n",
       "      <th></th>\n",
       "      <th>nombre</th>\n",
       "      <th>CIF</th>\n",
       "      <th>ISIN</th>\n",
       "      <th>forma</th>\n",
       "      <th>fconst</th>\n",
       "      <th>Estado</th>\n",
       "      <th>fechaCambioEstado</th>\n",
       "      <th>Pres</th>\n",
       "      <th>DE</th>\n",
       "      <th>tipoCuentasDisponible</th>\n",
       "      <th>...</th>\n",
       "      <th>cotizoBolsa</th>\n",
       "      <th>totActivo2015</th>\n",
       "      <th>totActivo2014</th>\n",
       "      <th>fondosPropios2015</th>\n",
       "      <th>fondosPropios2014</th>\n",
       "      <th>numEmpleados2015</th>\n",
       "      <th>numEmpleados2015</th>\n",
       "      <th>netoVentas2015</th>\n",
       "      <th>netoVentas2014</th>\n",
       "      <th>file</th>\n",
       "    </tr>\n",
       "  </thead>\n",
       "  <tbody>\n",
       "    <tr>\n",
       "      <th>0</th>\n",
       "      <td>NOVAMAS2002 SL</td>\n",
       "      <td>B62893151</td>\n",
       "      <td>No cotiza en bolsa</td>\n",
       "      <td>Sociedad limitada</td>\n",
       "      <td>2002-06-17 00:00:00</td>\n",
       "      <td>Desconocido</td>\n",
       "      <td>None</td>\n",
       "      <td>None</td>\n",
       "      <td>None</td>\n",
       "      <td>No Consolidadas</td>\n",
       "      <td>...</td>\n",
       "      <td>No cotiza en bolsa</td>\n",
       "      <td>106.13797</td>\n",
       "      <td>43.45643</td>\n",
       "      <td>35.5551</td>\n",
       "      <td>-11.8354</td>\n",
       "      <td>n.d.</td>\n",
       "      <td>n.d.</td>\n",
       "      <td>n.d.</td>\n",
       "      <td>4.075</td>\n",
       "      <td>../../data/datasets/SABI/lista1/50 Lista1 empr...</td>\n",
       "    </tr>\n",
       "    <tr>\n",
       "      <th>1</th>\n",
       "      <td>NOVAPAPA SL</td>\n",
       "      <td>B53859765</td>\n",
       "      <td>No cotiza en bolsa</td>\n",
       "      <td>Sociedad limitada</td>\n",
       "      <td>2004-02-23 00:00:00</td>\n",
       "      <td>Desconocido</td>\n",
       "      <td>None</td>\n",
       "      <td>None</td>\n",
       "      <td>None</td>\n",
       "      <td>No Consolidadas</td>\n",
       "      <td>...</td>\n",
       "      <td>No cotiza en bolsa</td>\n",
       "      <td>372.23437</td>\n",
       "      <td>455.31208</td>\n",
       "      <td>372.234</td>\n",
       "      <td>373.415</td>\n",
       "      <td>n.d.</td>\n",
       "      <td>n.d.</td>\n",
       "      <td>n.d.</td>\n",
       "      <td>n.d.</td>\n",
       "      <td>../../data/datasets/SABI/lista1/50 Lista1 empr...</td>\n",
       "    </tr>\n",
       "  </tbody>\n",
       "</table>\n",
       "<p>2 rows × 30 columns</p>\n",
       "</div>"
      ],
      "text/plain": [
       "           nombre        CIF                ISIN              forma  \\\n",
       "0  NOVAMAS2002 SL  B62893151  No cotiza en bolsa  Sociedad limitada   \n",
       "1     NOVAPAPA SL  B53859765  No cotiza en bolsa  Sociedad limitada   \n",
       "\n",
       "                fconst       Estado fechaCambioEstado  Pres    DE  \\\n",
       "0  2002-06-17 00:00:00  Desconocido              None  None  None   \n",
       "1  2004-02-23 00:00:00  Desconocido              None  None  None   \n",
       "\n",
       "  tipoCuentasDisponible                        ...                          \\\n",
       "0       No Consolidadas                        ...                           \n",
       "1       No Consolidadas                        ...                           \n",
       "\n",
       "          cotizoBolsa  totActivo2015 totActivo2014 fondosPropios2015  \\\n",
       "0  No cotiza en bolsa      106.13797      43.45643           35.5551   \n",
       "1  No cotiza en bolsa      372.23437     455.31208           372.234   \n",
       "\n",
       "  fondosPropios2014  numEmpleados2015  numEmpleados2015 netoVentas2015  \\\n",
       "0          -11.8354              n.d.              n.d.           n.d.   \n",
       "1           373.415              n.d.              n.d.           n.d.   \n",
       "\n",
       "  netoVentas2014                                               file  \n",
       "0          4.075  ../../data/datasets/SABI/lista1/50 Lista1 empr...  \n",
       "1           n.d.  ../../data/datasets/SABI/lista1/50 Lista1 empr...  \n",
       "\n",
       "[2 rows x 30 columns]"
      ]
     },
     "execution_count": 8,
     "metadata": {},
     "output_type": "execute_result"
    }
   ],
   "source": [
    "dfwork.head(2)"
   ]
  },
  {
   "cell_type": "code",
   "execution_count": 9,
   "metadata": {
    "collapsed": false
   },
   "outputs": [],
   "source": [
    "dfwork.columns\n",
    "dfwork.fconst=dfwork.fconst.str.encode('utf-8')\n",
    "dfwork.Estado.fillna('Desconocido')\n",
    "dfwork.Estado=dfwork.Estado.str.encode('utf-8')\n",
    "dfwork.nombre=dfwork.nombre.str.encode('utf-8')\n",
    "dfwork.ISIN=dfwork.ISIN.str.encode('utf-8')\n",
    "dfwork.forma=dfwork.forma.str.encode('utf-8')\n",
    "dfwork.CIF=dfwork.CIF.str.encode('utf-8')\n"
   ]
  },
  {
   "cell_type": "code",
   "execution_count": 10,
   "metadata": {
    "collapsed": false
   },
   "outputs": [
    {
     "data": {
      "text/html": [
       "<div>\n",
       "<table border=\"1\" class=\"dataframe\">\n",
       "  <thead>\n",
       "    <tr style=\"text-align: right;\">\n",
       "      <th></th>\n",
       "      <th>nombre</th>\n",
       "      <th>CIF</th>\n",
       "      <th>tipoRelacion</th>\n",
       "      <th>nombre</th>\n",
       "      <th>participadaId</th>\n",
       "      <th>participadaCodPais</th>\n",
       "      <th>porcentajeDirecto</th>\n",
       "      <th>porcentajeTotal</th>\n",
       "    </tr>\n",
       "  </thead>\n",
       "  <tbody>\n",
       "    <tr>\n",
       "      <th>0</th>\n",
       "      <td>NOVASERRA SA</td>\n",
       "      <td>A28940542</td>\n",
       "      <td>participada</td>\n",
       "      <td>NAVAL 77 SA</td>\n",
       "      <td>ESA84203181</td>\n",
       "      <td>ES</td>\n",
       "      <td>49,75</td>\n",
       "      <td>n.d.</td>\n",
       "    </tr>\n",
       "    <tr>\n",
       "      <th>1</th>\n",
       "      <td>NOVASERRA SA</td>\n",
       "      <td>A28940542</td>\n",
       "      <td>participada</td>\n",
       "      <td>GEURCO SA</td>\n",
       "      <td>ESA28832335</td>\n",
       "      <td>ES</td>\n",
       "      <td>46,82</td>\n",
       "      <td>n.d.</td>\n",
       "    </tr>\n",
       "  </tbody>\n",
       "</table>\n",
       "</div>"
      ],
      "text/plain": [
       "         nombre        CIF tipoRelacion       nombre participadaId  \\\n",
       "0  NOVASERRA SA  A28940542  participada  NAVAL 77 SA   ESA84203181   \n",
       "1  NOVASERRA SA  A28940542  participada    GEURCO SA   ESA28832335   \n",
       "\n",
       "  participadaCodPais porcentajeDirecto porcentajeTotal  \n",
       "0                 ES             49,75            n.d.  \n",
       "1                 ES             46,82            n.d.  "
      ]
     },
     "execution_count": 10,
     "metadata": {},
     "output_type": "execute_result"
    }
   ],
   "source": [
    "dfrelacionesParticipadas.head(2)"
   ]
  },
  {
   "cell_type": "code",
   "execution_count": 11,
   "metadata": {
    "collapsed": false
   },
   "outputs": [
    {
     "data": {
      "text/html": [
       "<div>\n",
       "<table border=\"1\" class=\"dataframe\">\n",
       "  <thead>\n",
       "    <tr style=\"text-align: right;\">\n",
       "      <th></th>\n",
       "      <th>nombre</th>\n",
       "      <th>CIF</th>\n",
       "      <th>tipoRelacion</th>\n",
       "      <th>nombre</th>\n",
       "      <th>fechaNombramiento</th>\n",
       "      <th>actual</th>\n",
       "    </tr>\n",
       "  </thead>\n",
       "  <tbody>\n",
       "    <tr>\n",
       "      <th>0</th>\n",
       "      <td>NOVATECH CONSULTING ESTRATEGIA Y TECNOLOGIAS D...</td>\n",
       "      <td>B84000678</td>\n",
       "      <td>Administrador Único</td>\n",
       "      <td>Don Jose Vicente Escanciano Herranz</td>\n",
       "      <td>2006-07-25 00:00:00</td>\n",
       "      <td>Current</td>\n",
       "    </tr>\n",
       "    <tr>\n",
       "      <th>1</th>\n",
       "      <td>NOVES DIMENSIONS INTEGRALS SL</td>\n",
       "      <td>B62034103</td>\n",
       "      <td>Administrador Único;Administrador único</td>\n",
       "      <td>Don Jordi Abellan Mercade</td>\n",
       "      <td>2006-08-01 00:00:00</td>\n",
       "      <td>Current</td>\n",
       "    </tr>\n",
       "  </tbody>\n",
       "</table>\n",
       "</div>"
      ],
      "text/plain": [
       "                                              nombre        CIF  \\\n",
       "0  NOVATECH CONSULTING ESTRATEGIA Y TECNOLOGIAS D...  B84000678   \n",
       "1                      NOVES DIMENSIONS INTEGRALS SL  B62034103   \n",
       "\n",
       "                              tipoRelacion  \\\n",
       "0                      Administrador Único   \n",
       "1  Administrador Único;Administrador único   \n",
       "\n",
       "                                nombre    fechaNombramiento   actual  \n",
       "0  Don Jose Vicente Escanciano Herranz  2006-07-25 00:00:00  Current  \n",
       "1            Don Jordi Abellan Mercade  2006-08-01 00:00:00  Current  "
      ]
     },
     "execution_count": 11,
     "metadata": {},
     "output_type": "execute_result"
    }
   ],
   "source": [
    "dfrelacionesCargos.head(2)"
   ]
  },
  {
   "cell_type": "code",
   "execution_count": 12,
   "metadata": {
    "collapsed": false
   },
   "outputs": [],
   "source": [
    "print len(dfrelacionesCargos.tipoRelacion.unique())"
   ]
  },
  {
   "cell_type": "code",
   "execution_count": 13,
   "metadata": {
    "collapsed": false
   },
   "outputs": [
    {
     "data": {
      "text/html": [
       "<div>\n",
       "<table border=\"1\" class=\"dataframe\">\n",
       "  <thead>\n",
       "    <tr style=\"text-align: right;\">\n",
       "      <th></th>\n",
       "      <th>nombreEmpresa</th>\n",
       "      <th>CIF</th>\n",
       "      <th>nombreAccionista</th>\n",
       "      <th>idAccionista</th>\n",
       "      <th>isoPaisAccionista</th>\n",
       "      <th>%directo</th>\n",
       "      <th>%total</th>\n",
       "    </tr>\n",
       "  </thead>\n",
       "  <tbody>\n",
       "    <tr>\n",
       "      <th>0</th>\n",
       "      <td>PLATA HUELMO SL</td>\n",
       "      <td>B01032341</td>\n",
       "      <td>MR JOSE IGNACIO PLATA ORTE</td>\n",
       "      <td>ES*339817771</td>\n",
       "      <td>ES</td>\n",
       "      <td>33,33</td>\n",
       "      <td>n.d.</td>\n",
       "    </tr>\n",
       "    <tr>\n",
       "      <th>1</th>\n",
       "      <td>PLATA HUELMO SL</td>\n",
       "      <td>B01032341</td>\n",
       "      <td>MR VICTOR HUELMO CALDERON</td>\n",
       "      <td>ES*339817770</td>\n",
       "      <td>ES</td>\n",
       "      <td>33,33</td>\n",
       "      <td>n.d.</td>\n",
       "    </tr>\n",
       "  </tbody>\n",
       "</table>\n",
       "</div>"
      ],
      "text/plain": [
       "     nombreEmpresa        CIF            nombreAccionista  idAccionista  \\\n",
       "0  PLATA HUELMO SL  B01032341  MR JOSE IGNACIO PLATA ORTE  ES*339817771   \n",
       "1  PLATA HUELMO SL  B01032341   MR VICTOR HUELMO CALDERON  ES*339817770   \n",
       "\n",
       "  isoPaisAccionista %directo %total  \n",
       "0                ES    33,33   n.d.  \n",
       "1                ES    33,33   n.d.  "
      ]
     },
     "execution_count": 13,
     "metadata": {},
     "output_type": "execute_result"
    }
   ],
   "source": [
    "dfrelacionesAccionistas.head(2)"
   ]
  },
  {
   "cell_type": "code",
   "execution_count": 14,
   "metadata": {
    "collapsed": false
   },
   "outputs": [
    {
     "data": {
      "text/html": [
       "<div>\n",
       "<table border=\"1\" class=\"dataframe\">\n",
       "  <thead>\n",
       "    <tr style=\"text-align: right;\">\n",
       "      <th></th>\n",
       "      <th>nombreEmpresa</th>\n",
       "      <th>CIF</th>\n",
       "      <th>fechaUltimaDocRecibida</th>\n",
       "      <th>numEmpresasTieneFuncion</th>\n",
       "      <th>nombreCargo</th>\n",
       "      <th>cargo</th>\n",
       "      <th>fechaCita</th>\n",
       "      <th>actual</th>\n",
       "      <th>numAccionistas</th>\n",
       "      <th>file</th>\n",
       "    </tr>\n",
       "  </thead>\n",
       "  <tbody>\n",
       "    <tr>\n",
       "      <th>0</th>\n",
       "      <td>PLASTICS DEL TERRI SL</td>\n",
       "      <td>B17368259</td>\n",
       "      <td>None</td>\n",
       "      <td>None</td>\n",
       "      <td>Directors / managers / contacts are available,...</td>\n",
       "      <td>None</td>\n",
       "      <td>None</td>\n",
       "      <td>None</td>\n",
       "      <td>0.0</td>\n",
       "      <td>../../data/datasets/SABI/lista2/39 Lista2 Empr...</td>\n",
       "    </tr>\n",
       "    <tr>\n",
       "      <th>1</th>\n",
       "      <td>PLASTIHORMA SL</td>\n",
       "      <td>B03061223</td>\n",
       "      <td>None</td>\n",
       "      <td>None</td>\n",
       "      <td>Directors / managers / contacts are available,...</td>\n",
       "      <td>None</td>\n",
       "      <td>None</td>\n",
       "      <td>None</td>\n",
       "      <td>1.0</td>\n",
       "      <td>../../data/datasets/SABI/lista2/39 Lista2 Empr...</td>\n",
       "    </tr>\n",
       "  </tbody>\n",
       "</table>\n",
       "</div>"
      ],
      "text/plain": [
       "           nombreEmpresa        CIF fechaUltimaDocRecibida  \\\n",
       "0  PLASTICS DEL TERRI SL  B17368259                   None   \n",
       "1         PLASTIHORMA SL  B03061223                   None   \n",
       "\n",
       "  numEmpresasTieneFuncion                                        nombreCargo  \\\n",
       "0                    None  Directors / managers / contacts are available,...   \n",
       "1                    None  Directors / managers / contacts are available,...   \n",
       "\n",
       "  cargo fechaCita actual  numAccionistas  \\\n",
       "0  None      None   None             0.0   \n",
       "1  None      None   None             1.0   \n",
       "\n",
       "                                                file  \n",
       "0  ../../data/datasets/SABI/lista2/39 Lista2 Empr...  \n",
       "1  ../../data/datasets/SABI/lista2/39 Lista2 Empr...  "
      ]
     },
     "execution_count": 14,
     "metadata": {},
     "output_type": "execute_result"
    }
   ],
   "source": [
    "dfrelacionesPuestos.head(2)"
   ]
  },
  {
   "cell_type": "code",
   "execution_count": 15,
   "metadata": {
    "collapsed": false
   },
   "outputs": [],
   "source": [
    "print len(dfrelacionesPuestos.cargo.unique())"
   ]
  },
  {
   "cell_type": "code",
   "execution_count": 16,
   "metadata": {
    "collapsed": true
   },
   "outputs": [],
   "source": [
    "#enc = lambda x: x.decode('iso-8859-1').encode('utf-8', errors='ignore')\n",
    "class empresa_class:\n",
    "    def __init__(self, nombre, CIF, ISIN, forma, fconst, estado,tipoCuentasDisponible,numEmpresasEnCorporacion,numparticipadas,\n",
    "                 codPrimarioCNAE,incidenciasJudiciales, reclamacionesAdministrativas, numMiembrosJuntas, numMiembrosJuntasDireccion,\n",
    "                 numEmpresasGrupo, longitud, lat):\n",
    "        self.nombre = str(nombre)\n",
    "        self.CIF = str(CIF)\n",
    "        self.ISIN = str(ISIN)\n",
    "        self.forma = str(forma)\n",
    "        self.fconst = str(fconst)\n",
    "        self.estado = str(estado)\n",
    "        self.tipoCuentasDisponible = str(tipoCuentasDisponible)\n",
    "        self.numEmpresasEnCorporacion = str(numEmpresasEnCorporacion)\n",
    "        self.numparticipadas = str(numparticipadas)\n",
    "        self.codPrimarioCNAE = str(codPrimarioCNAE)\n",
    "        self.incidenciasJudiciales = str(incidenciasJudiciales)\n",
    "        self.reclamacionesAdministrativas = str(reclamacionesAdministrativas)\n",
    "        self.numMiembrosJuntas = str(numMiembrosJuntas)\n",
    "        self.numMiembrosJuntasDireccion = str(numMiembrosJuntasDireccion)\n",
    "        self.numEmpresasGrupo = str(numEmpresasGrupo)\n",
    "        self.longitud = str(longitud)\n",
    "        self.lat = str(lat)\n",
    "\n",
    "        \n",
    "class participada_class:\n",
    "    def __init__(self, cifpadre, nombre, participadaId, porcentajeDirecto,porcentajeTotal):\n",
    "        self.cifpadre = str(cifpadre)\n",
    "        self.nombre = str(nombre)\n",
    "        self.participadaId = str(participadaId)\n",
    "        self.porcentajeDirecto = str(porcentajeDirecto)\n",
    "        self.porcentajeTotal = str(porcentajeTotal)\n",
    "\n",
    "class accionista_class:\n",
    "    def __init__(self, cifpadre, nombre, idAccionista, porcentajeDirecto,porcentajeTotal):\n",
    "        self.cifpadre = str(cifpadre)\n",
    "        self.nombre = str(nombre)\n",
    "        self.idAccionista = str(idAccionista)\n",
    "        self.porcentajeDirecto = str(porcentajeDirecto)\n",
    "        self.porcentajeTotal = str(porcentajeTotal)        \n",
    "          \n",
    "class actor_class:\n",
    "    def __init__(self, actor):\n",
    "        self.actor = str(actor)\n",
    "\n",
    "class evento_class:\n",
    "    def __init__(self, evento, cif, actor, subevento,codevento,fecha_publicacion):\n",
    "        self.evento = str(evento)\n",
    "        self.subevento = str(subevento)\n",
    "        self.codevento = str(codevento)\n",
    "        self.cif = str(cif)\n",
    "        self.actor = str(actor)\n",
    "        self.fecha_publicacion = str(fecha_publicacion)   "
   ]
  },
  {
   "cell_type": "code",
   "execution_count": 17,
   "metadata": {
    "collapsed": false
   },
   "outputs": [],
   "source": [
    "def crear_nodo_empresa_x(empresa,g):\n",
    "    try:\n",
    "         g.add_node(enc(empresa.CIF), nodetype='empresa', nombre=enc(empresa.nombre), ISIN=enc(empresa.ISIN),\n",
    "                    forma=enc(empresa.forma), fconst=enc(empresa.fconst), estado=enc(empresa.estado),tipoCuentasDisponible=enc(empresa.tipoCuentasDisponible),\n",
    "                    numEmpresasEnCorporacion=enc(empresa.numEmpresasEnCorporacion),numparticipadas=enc(empresa.numparticipadas),codPrimarioCNAE=enc(empresa.codPrimarioCNAE),\n",
    "                    incidenciasJudiciales=enc(empresa.incidenciasJudiciales), reclamacionesAdministrativas=enc(empresa.reclamacionesAdministrativas),\n",
    "                    numMiembrosJuntas=enc(empresa.numMiembrosJuntas), numMiembrosJuntasDireccion=enc(empresa.numMiembrosJuntasDireccion), numEmpresasGrupo=enc(empresa.numEmpresasGrupo),\n",
    "                    longitud=enc(empresa.longitud), lat=enc(empresa.lat))\n",
    "    except Exception as e:\n",
    "        print 'ERROR:',e.args,':','create_node_empresa_x:en la creacion del nodo EMPRESA:',empresa.CIF\n",
    "        \n",
    "    return empresa\n",
    "\n",
    "def crear_nodo_accionista_x(accionista,g):\n",
    "    try:\n",
    "         g.add_node(enc(accionista.nombre), nodetype='accionista', nombre=enc(accionista.nombre), id=enc(accionista.idAccionista))\n",
    "    except Exception as e:\n",
    "        print 'ERROR:',e.args,':','crear_nodo_accionista_x:en la creacion del nodo ACCIONISTA:',accionista.nombre\n",
    "        \n",
    "    return empresa\n",
    "\n",
    "def crear_nodo_participada_x(participada,g):\n",
    "    try:\n",
    "         g.add_node(enc(participada.nombre), nodetype='participada', nombre=enc(participada.nombre), id=enc(participada.participadaId))\n",
    "    except Exception as e:\n",
    "        print 'ERROR:',e.args,':','crear_nodo_participada_x:en la creacion del nodo PARTICIPADA:',participada.nombre\n",
    "        \n",
    "    return empresa\n",
    "\n",
    "def crear_nodo_actor_x(actor,g):\n",
    "    try:\n",
    "         g.add_node(enc(actor.actor), nodetype='actor')\n",
    "    except Exception as e:\n",
    "        print 'ERROR:',e.args,':','create_node_actor_x:en la creacion de nodo ACTOR:',actor.actor\n",
    "        \n",
    "    return actor\n",
    "\n",
    "def crear_relacion_evento_x(evento,g):\n",
    "    try:   \n",
    "         g.add_edge(evento.cif,evento.actor, edgetype=evento.evento, fecha=evento.fecha_publicacion, sub=evento.subevento)\n",
    "    except Exception as e:\n",
    "        print 'ERROR:',e.args,':','crear_relacion_evento_x:en la creacion de la relacion'\n",
    "\n",
    "def crear_relacion_participada_x(participada,g):\n",
    "    try:   \n",
    "         g.add_edge(participada.cifpadre,participada.nombre, edgetype='PARTICIPADA', porcentajeDirecto=participada.porcentajeDirecto, porcentajeTotal=participada.porcentajeTotal)\n",
    "    except Exception as e:\n",
    "        print 'ERROR:',e.args,':','crear_relacion_participada_x:en la creacion de la relacion',participada.nombre\n",
    "        \n",
    "def crear_relacion_accionista_x(accionista,g):\n",
    "    try:   \n",
    "         g.add_edge(accionista.cifpadre,accionista.nombre, edgetype='ACCIONISTA', porcentajeDirecto=accionista.porcentajeDirecto, porcentajeTotal=accionista.porcentajeTotal)\n",
    "    except Exception as e:\n",
    "        print 'ERROR:',e.args,':','crear_relacion_accionista_x:en la creacion de la relacion',accionista.nombre\n",
    "    \n",
    "#def crear_relacion_auditor_x(auditor,g):"
   ]
  },
  {
   "cell_type": "code",
   "execution_count": 18,
   "metadata": {
    "collapsed": false
   },
   "outputs": [],
   "source": [
    "# Creamos el grafo\n",
    "g=nx.Graph()"
   ]
  },
  {
   "cell_type": "code",
   "execution_count": 19,
   "metadata": {
    "collapsed": false
   },
   "outputs": [
    {
     "data": {
      "text/html": [
       "<div>\n",
       "<table border=\"1\" class=\"dataframe\">\n",
       "  <thead>\n",
       "    <tr style=\"text-align: right;\">\n",
       "      <th></th>\n",
       "      <th>nombre</th>\n",
       "      <th>CIF</th>\n",
       "      <th>ISIN</th>\n",
       "      <th>forma</th>\n",
       "      <th>fconst</th>\n",
       "      <th>Estado</th>\n",
       "      <th>fechaCambioEstado</th>\n",
       "      <th>Pres</th>\n",
       "      <th>DE</th>\n",
       "      <th>tipoCuentasDisponible</th>\n",
       "      <th>...</th>\n",
       "      <th>cotizoBolsa</th>\n",
       "      <th>totActivo2015</th>\n",
       "      <th>totActivo2014</th>\n",
       "      <th>fondosPropios2015</th>\n",
       "      <th>fondosPropios2014</th>\n",
       "      <th>numEmpleados2015</th>\n",
       "      <th>numEmpleados2015</th>\n",
       "      <th>netoVentas2015</th>\n",
       "      <th>netoVentas2014</th>\n",
       "      <th>file</th>\n",
       "    </tr>\n",
       "  </thead>\n",
       "  <tbody>\n",
       "    <tr>\n",
       "      <th>0</th>\n",
       "      <td>NOVAMAS2002 SL</td>\n",
       "      <td>B62893151</td>\n",
       "      <td>No cotiza en bolsa</td>\n",
       "      <td>Sociedad limitada</td>\n",
       "      <td>NaN</td>\n",
       "      <td>Desconocido</td>\n",
       "      <td>None</td>\n",
       "      <td>None</td>\n",
       "      <td>None</td>\n",
       "      <td>No Consolidadas</td>\n",
       "      <td>...</td>\n",
       "      <td>No cotiza en bolsa</td>\n",
       "      <td>106.13797</td>\n",
       "      <td>43.45643</td>\n",
       "      <td>35.5551</td>\n",
       "      <td>-11.8354</td>\n",
       "      <td>n.d.</td>\n",
       "      <td>n.d.</td>\n",
       "      <td>n.d.</td>\n",
       "      <td>4.075</td>\n",
       "      <td>../../data/datasets/SABI/lista1/50 Lista1 empr...</td>\n",
       "    </tr>\n",
       "    <tr>\n",
       "      <th>1</th>\n",
       "      <td>NOVAPAPA SL</td>\n",
       "      <td>B53859765</td>\n",
       "      <td>No cotiza en bolsa</td>\n",
       "      <td>Sociedad limitada</td>\n",
       "      <td>NaN</td>\n",
       "      <td>Desconocido</td>\n",
       "      <td>None</td>\n",
       "      <td>None</td>\n",
       "      <td>None</td>\n",
       "      <td>No Consolidadas</td>\n",
       "      <td>...</td>\n",
       "      <td>No cotiza en bolsa</td>\n",
       "      <td>372.23437</td>\n",
       "      <td>455.31208</td>\n",
       "      <td>372.234</td>\n",
       "      <td>373.415</td>\n",
       "      <td>n.d.</td>\n",
       "      <td>n.d.</td>\n",
       "      <td>n.d.</td>\n",
       "      <td>n.d.</td>\n",
       "      <td>../../data/datasets/SABI/lista1/50 Lista1 empr...</td>\n",
       "    </tr>\n",
       "  </tbody>\n",
       "</table>\n",
       "<p>2 rows × 30 columns</p>\n",
       "</div>"
      ],
      "text/plain": [
       "           nombre        CIF                ISIN              forma fconst  \\\n",
       "0  NOVAMAS2002 SL  B62893151  No cotiza en bolsa  Sociedad limitada    NaN   \n",
       "1     NOVAPAPA SL  B53859765  No cotiza en bolsa  Sociedad limitada    NaN   \n",
       "\n",
       "        Estado fechaCambioEstado  Pres    DE tipoCuentasDisponible  \\\n",
       "0  Desconocido              None  None  None       No Consolidadas   \n",
       "1  Desconocido              None  None  None       No Consolidadas   \n",
       "\n",
       "                         ...                                 cotizoBolsa  \\\n",
       "0                        ...                          No cotiza en bolsa   \n",
       "1                        ...                          No cotiza en bolsa   \n",
       "\n",
       "   totActivo2015 totActivo2014 fondosPropios2015 fondosPropios2014  \\\n",
       "0      106.13797      43.45643           35.5551          -11.8354   \n",
       "1      372.23437     455.31208           372.234           373.415   \n",
       "\n",
       "   numEmpleados2015  numEmpleados2015 netoVentas2015 netoVentas2014  \\\n",
       "0              n.d.              n.d.           n.d.          4.075   \n",
       "1              n.d.              n.d.           n.d.           n.d.   \n",
       "\n",
       "                                                file  \n",
       "0  ../../data/datasets/SABI/lista1/50 Lista1 empr...  \n",
       "1  ../../data/datasets/SABI/lista1/50 Lista1 empr...  \n",
       "\n",
       "[2 rows x 30 columns]"
      ]
     },
     "execution_count": 19,
     "metadata": {},
     "output_type": "execute_result"
    }
   ],
   "source": [
    "dfwork.head(2)"
   ]
  },
  {
   "cell_type": "code",
   "execution_count": 20,
   "metadata": {
    "collapsed": false
   },
   "outputs": [],
   "source": [
    "#los pasos deberia ser los siguientes\n",
    "# 1- Creamos todos los nodos empresa\n",
    "   #Bien añadiendo info al grafo de Gadi o Bien creando uno nuevo a partir del dataframe sacado de SABI\n",
    "for index,row in dfwork.iterrows(): \n",
    "    empresa = empresa_class(row['nombre'], row['CIF'], row['ISIN'], row['forma'], row['fconst'], row['Estado'], row['tipoCuentasDisponible']\n",
    "                           , row['numEmpresasEnCorporacion'], row['numparticipadas'], row['codPrimarioCNAE'], row['incidenciasJudiciales'], row['reclamacionesAdministrativas']\n",
    "                            , row['numMiembrosJuntas'], row['numMiembrosJuntasDireccion'], row['numEmpresasGrupo'], row['long'], row['lat'])   \n",
    "    print empresa.estado \n",
    "    print empresa.tipoCuentasDisponible \n",
    "    try:\n",
    "        crear_nodo_empresa_x(empresa,g)\n",
    "    except Exception as a:\n",
    "        print 'ERROR:',a.args,':','procesando dataFrame para la creacion del grafo y nodos empresa'    \n",
    "    \n"
   ]
  },
  {
   "cell_type": "code",
   "execution_count": 21,
   "metadata": {
    "collapsed": false
   },
   "outputs": [
    {
     "data": {
      "text/html": [
       "<div>\n",
       "<table border=\"1\" class=\"dataframe\">\n",
       "  <thead>\n",
       "    <tr style=\"text-align: right;\">\n",
       "      <th></th>\n",
       "      <th>nombrePadre</th>\n",
       "      <th>cifPadre</th>\n",
       "      <th>tipoRelacion</th>\n",
       "      <th>nombreParticipada</th>\n",
       "      <th>idParticipada</th>\n",
       "      <th>participadaCodPais</th>\n",
       "      <th>porcentajeDirecto</th>\n",
       "      <th>porcentajeTotal</th>\n",
       "    </tr>\n",
       "  </thead>\n",
       "  <tbody>\n",
       "    <tr>\n",
       "      <th>0</th>\n",
       "      <td>NOVASERRA SA</td>\n",
       "      <td>A28940542</td>\n",
       "      <td>participada</td>\n",
       "      <td>NAVAL 77 SA</td>\n",
       "      <td>ESA84203181</td>\n",
       "      <td>ES</td>\n",
       "      <td>49,75</td>\n",
       "      <td>n.d.</td>\n",
       "    </tr>\n",
       "    <tr>\n",
       "      <th>1</th>\n",
       "      <td>NOVASERRA SA</td>\n",
       "      <td>A28940542</td>\n",
       "      <td>participada</td>\n",
       "      <td>GEURCO SA</td>\n",
       "      <td>ESA28832335</td>\n",
       "      <td>ES</td>\n",
       "      <td>46,82</td>\n",
       "      <td>n.d.</td>\n",
       "    </tr>\n",
       "  </tbody>\n",
       "</table>\n",
       "</div>"
      ],
      "text/plain": [
       "    nombrePadre   cifPadre tipoRelacion nombreParticipada idParticipada  \\\n",
       "0  NOVASERRA SA  A28940542  participada       NAVAL 77 SA   ESA84203181   \n",
       "1  NOVASERRA SA  A28940542  participada         GEURCO SA   ESA28832335   \n",
       "\n",
       "  participadaCodPais porcentajeDirecto porcentajeTotal  \n",
       "0                 ES             49,75            n.d.  \n",
       "1                 ES             46,82            n.d.  "
      ]
     },
     "execution_count": 21,
     "metadata": {},
     "output_type": "execute_result"
    }
   ],
   "source": [
    "dfrelacionesParticipadas.columns=['nombrePadre','cifPadre','tipoRelacion','nombreParticipada','idParticipada','participadaCodPais','porcentajeDirecto','porcentajeTotal']\n",
    "dfrelacionesParticipadas.head(2)"
   ]
  },
  {
   "cell_type": "code",
   "execution_count": 22,
   "metadata": {
    "collapsed": false
   },
   "outputs": [],
   "source": [
    "# 2- Añadimos al grafo las relaciones de participadas\n",
    "for index,row in dfrelacionesParticipadas.iterrows(): \n",
    "    participada = participada_class(row['cifPadre'], row['nombreParticipada'], row['idParticipada'], row['porcentajeDirecto'], row['porcentajeTotal'])   \n",
    "    try:\n",
    "        crear_nodo_participada_x(participada,g)\n",
    "    except Exception as a:\n",
    "        print 'ERROR:',a.args,':','procesando dataFrame para la creacion del grafo y nodos de empresas participadas'\n",
    "    try:\n",
    "        crear_relacion_participada_x(participada,g)\n",
    "    except Exception as a:\n",
    "        print 'ERROR:',a.args,':','procesando dataFrame para la creacion del grafo y las relaciones de empresas participadas' "
   ]
  },
  {
   "cell_type": "code",
   "execution_count": 23,
   "metadata": {
    "collapsed": false
   },
   "outputs": [
    {
     "data": {
      "text/html": [
       "<div>\n",
       "<table border=\"1\" class=\"dataframe\">\n",
       "  <thead>\n",
       "    <tr style=\"text-align: right;\">\n",
       "      <th></th>\n",
       "      <th>nombreEmpresa</th>\n",
       "      <th>CIF</th>\n",
       "      <th>nombreAccionista</th>\n",
       "      <th>idAccionista</th>\n",
       "      <th>isoPaisAccionista</th>\n",
       "      <th>%directo</th>\n",
       "      <th>%total</th>\n",
       "    </tr>\n",
       "  </thead>\n",
       "  <tbody>\n",
       "    <tr>\n",
       "      <th>0</th>\n",
       "      <td>PLATA HUELMO SL</td>\n",
       "      <td>B01032341</td>\n",
       "      <td>MR JOSE IGNACIO PLATA ORTE</td>\n",
       "      <td>ES*339817771</td>\n",
       "      <td>ES</td>\n",
       "      <td>33,33</td>\n",
       "      <td>n.d.</td>\n",
       "    </tr>\n",
       "    <tr>\n",
       "      <th>1</th>\n",
       "      <td>PLATA HUELMO SL</td>\n",
       "      <td>B01032341</td>\n",
       "      <td>MR VICTOR HUELMO CALDERON</td>\n",
       "      <td>ES*339817770</td>\n",
       "      <td>ES</td>\n",
       "      <td>33,33</td>\n",
       "      <td>n.d.</td>\n",
       "    </tr>\n",
       "  </tbody>\n",
       "</table>\n",
       "</div>"
      ],
      "text/plain": [
       "     nombreEmpresa        CIF            nombreAccionista  idAccionista  \\\n",
       "0  PLATA HUELMO SL  B01032341  MR JOSE IGNACIO PLATA ORTE  ES*339817771   \n",
       "1  PLATA HUELMO SL  B01032341   MR VICTOR HUELMO CALDERON  ES*339817770   \n",
       "\n",
       "  isoPaisAccionista %directo %total  \n",
       "0                ES    33,33   n.d.  \n",
       "1                ES    33,33   n.d.  "
      ]
     },
     "execution_count": 23,
     "metadata": {},
     "output_type": "execute_result"
    }
   ],
   "source": [
    "dfrelacionesAccionistas.head(2)"
   ]
  },
  {
   "cell_type": "code",
   "execution_count": 24,
   "metadata": {
    "collapsed": true
   },
   "outputs": [],
   "source": [
    "# 3- Añadimos al grafo las relaciones de Accionistas\n",
    "for index,row in dfrelacionesAccionistas.iterrows(): \n",
    "    accionista = accionista_class(row['CIF'], row['nombreAccionista'], row['idAccionista'], row['%directo'], row['%total'])\n",
    "\n",
    "    try:\n",
    "        crear_nodo_accionista_x(accionista,g)\n",
    "    except Exception as a:\n",
    "        print 'ERROR:',a.args,':','procesando dataFrame para la creacion del grafo y nodos de accionistas'\n",
    "    try:\n",
    "        crear_relacion_accionista_x(accionista,g)\n",
    "    except Exception as a:\n",
    "        print 'ERROR:',a.args,':','procesando dataFrame para la creacion del grafo y las relaciones entre accionistas' "
   ]
  },
  {
   "cell_type": "code",
   "execution_count": 25,
   "metadata": {
    "collapsed": true
   },
   "outputs": [],
   "source": [
    "# 4- Añadimos al grado las relaciones de Cargos"
   ]
  },
  {
   "cell_type": "code",
   "execution_count": 26,
   "metadata": {
    "collapsed": false
   },
   "outputs": [],
   "source": [
    "# 5- Añadimos al grafo los eventos del BORME asociados a la empresa o al actor.\n",
    "\n",
    "for index,row in dfeventosborme.iterrows(): \n",
    "    actor = actor_class(row['actor'])\n",
    "    evento = evento_class(row['evento'], row['cif'], row['actor'], row['subevento'], row['codevento'], row['fecha_publicacion'])\n",
    "    try:\n",
    "        crear_nodo_actor_x(actor,g)\n",
    "        crear_relacion_evento_x(evento,g)\n",
    "    except Exception as a:\n",
    "        print 'ERROR:',a.args,':','procesando dataFrame para la creacion del grafo'"
   ]
  },
  {
   "cell_type": "code",
   "execution_count": 39,
   "metadata": {
    "collapsed": false
   },
   "outputs": [
    {
     "data": {
      "text/plain": [
       "975778"
      ]
     },
     "execution_count": 39,
     "metadata": {},
     "output_type": "execute_result"
    }
   ],
   "source": [
    "len(g.nodes())"
   ]
  },
  {
   "cell_type": "code",
   "execution_count": 27,
   "metadata": {
    "collapsed": false
   },
   "outputs": [],
   "source": [
    "#nx.write_gml(g,'CompaniesGraph.gml')\n",
    "nx.write_gpickle(g, 'CompaniesGraph.gpickle')"
   ]
  },
  {
   "cell_type": "code",
   "execution_count": 1,
   "metadata": {
    "collapsed": false
   },
   "outputs": [],
   "source": [
    "import networkx as nx\n",
    "h = nx.read_gpickle('./Alberto.data/CompaniesGraph.gpickle')"
   ]
  },
  {
   "cell_type": "code",
   "execution_count": null,
   "metadata": {
    "collapsed": false
   },
   "outputs": [],
   "source": [
    "h.nodes()"
   ]
  },
  {
   "cell_type": "markdown",
   "metadata": {},
   "source": [
    "Intentamos trabajar y explotar el grafo"
   ]
  },
  {
   "cell_type": "code",
   "execution_count": 7,
   "metadata": {
    "collapsed": false
   },
   "outputs": [
    {
     "data": {
      "text/plain": [
       "326081"
      ]
     },
     "execution_count": 7,
     "metadata": {},
     "output_type": "execute_result"
    }
   ],
   "source": [
    "#list(g.edges_iter(data=True))[0]\n",
    "#Obtencion de nodos empresa. Idem para accionistas, eventos, etc\n",
    "lista = [n for n,d in h.nodes_iter(data=True) if (bool(d) and (d['nodetype']=='empresa' or d['nodetype']=='participada')) ]\n",
    "len(lista)"
   ]
  },
  {
   "cell_type": "code",
   "execution_count": 9,
   "metadata": {
    "collapsed": false
   },
   "outputs": [],
   "source": [
    "#Obtener subgrafo asociado a los nodos empresa y participadas\n",
    "participadasSubGraph = h.subgraph(lista)"
   ]
  },
  {
   "cell_type": "code",
   "execution_count": 10,
   "metadata": {
    "collapsed": false
   },
   "outputs": [],
   "source": [
    "#obtener los nodos con mayor degree (implicaria mayor relacion de participadas)\n",
    "from operator import itemgetter\n",
    "tuples = sorted(participadasSubGraph.degree_iter(),key=itemgetter(1),reverse=True)"
   ]
  },
  {
   "cell_type": "code",
   "execution_count": null,
   "metadata": {
    "collapsed": false
   },
   "outputs": [],
   "source": [
    "#Filtramos las empresas/participadas con grado 0 o grado 1, lo que significa que no hay realciones de participadas\n",
    "filter_set = set((1, 0)) #El tema de eliminar las de grado 1, es porque si el fin es buscar ciclos, no tiene sentido tampoco el grado 1\n",
    "tuples\n",
    "tuples_filtered = [tup for tup in tuples if tup[1] not in filter_set]\n",
    "tuples_filtered"
   ]
  },
  {
   "cell_type": "code",
   "execution_count": 32,
   "metadata": {
    "collapsed": false
   },
   "outputs": [
    {
     "ename": "KeyError",
     "evalue": "'nombre'",
     "output_type": "error",
     "traceback": [
      "\u001b[0;31m\u001b[0m",
      "\u001b[0;31mKeyError\u001b[0mTraceback (most recent call last)",
      "\u001b[0;32m<ipython-input-32-7f2e5e438b67>\u001b[0m in \u001b[0;36m<module>\u001b[0;34m()\u001b[0m\n\u001b[0;32m----> 1\u001b[0;31m \u001b[0mh\u001b[0m\u001b[0;34m.\u001b[0m\u001b[0mnode\u001b[0m\u001b[0;34m[\u001b[0m\u001b[0;34m'A28037224'\u001b[0m\u001b[0;34m]\u001b[0m\u001b[0;34m[\u001b[0m\u001b[0;34m'nombre'\u001b[0m\u001b[0;34m]\u001b[0m\u001b[0;34m\u001b[0m\u001b[0m\n\u001b[0m",
      "\u001b[0;31mKeyError\u001b[0m: 'nombre'"
     ]
    }
   ],
   "source": [
    "h.node['A28037224']['nombre']"
   ]
  },
  {
   "cell_type": "code",
   "execution_count": null,
   "metadata": {
    "collapsed": false
   },
   "outputs": [],
   "source": [
    "#Buscar aquellos posibles ciclos.\n",
    "fraudlist = list(nx.cycle_basis(participadasSubGraph))\n",
    "fraudlist"
   ]
  },
  {
   "cell_type": "code",
   "execution_count": 17,
   "metadata": {
    "collapsed": false
   },
   "outputs": [
    {
     "data": {
      "image/png": "[encoded data removed]",
      "text/plain": [
       "<matplotlib.figure.Figure at 0x7fe86cdc6710>"
      ]
     },
     "metadata": {},
     "output_type": "display_data"
    }
   ],
   "source": [
    "%matplotlib inline\n",
    "#podemos probar a visualizar uno de los ciclos anteriores, por ejemplo\n",
    "#obtenemos el subgrafo de los nodos implicados\n",
    "testfraude = participadasSubGraph.subgraph(fraudlist[53])\n",
    "nx.draw(testfraude)"
   ]
  },
  {
   "cell_type": "code",
   "execution_count": 18,
   "metadata": {
    "collapsed": false
   },
   "outputs": [],
   "source": [
    "#Cogemos el subgrafo anterior y lo salvamos para visualizarlo con Gephi\n",
    "#h.subgraph(fraudlist[20])\n",
    "nx.write_gml(h.subgraph(fraudlist[53]),'./Alberto.data/ejemploGephi53.gml')"
   ]
  },
  {
   "cell_type": "code",
   "execution_count": null,
   "metadata": {
    "collapsed": false
   },
   "outputs": [],
   "source": [
    "lista = [v for u,v,d in participadasSubGraph.edges_iter(data=True) if d['edgetype'] =='PARTICIPADA']"
   ]
  },
  {
   "cell_type": "code",
   "execution_count": null,
   "metadata": {
    "collapsed": false
   },
   "outputs": [],
   "source": [
    "#nodosEmpresa = filter(lambda (n, d): d['nodetype'] == 'accionistas', g.nodes(data=True))\n",
    "dd = set(n for n,d in g.nodes_iter(data=True) if d['nodetype']=='empresa')\n",
    "    \n"
   ]
  },
  {
   "cell_type": "code",
   "execution_count": null,
   "metadata": {
    "collapsed": false
   },
   "outputs": [],
   "source": [
    "#g.node['B90186883']\n",
    "nx.nodes(g)\n",
    "#from operator import itemgetter\n",
    "#sorted(g.degree_iter(),key=itemgetter(1),reverse=True)"
   ]
  },
  {
   "cell_type": "code",
   "execution_count": 3,
   "metadata": {
    "collapsed": false
   },
   "outputs": [
    {
     "name": "stderr",
     "output_type": "stream",
     "text": [
      "/home/ec2-user/anaconda2/lib/python2.7/site-packages/networkx/drawing/nx_pylab.py:126: MatplotlibDeprecationWarning: pyplot.hold is deprecated.\n",
      "    Future behavior will be consistent with the long-time default:\n",
      "    plot commands add elements without first clearing the\n",
      "    Axes and/or Figure.\n",
      "  b = plt.ishold()\n",
      "/home/ec2-user/anaconda2/lib/python2.7/site-packages/networkx/drawing/nx_pylab.py:138: MatplotlibDeprecationWarning: pyplot.hold is deprecated.\n",
      "    Future behavior will be consistent with the long-time default:\n",
      "    plot commands add elements without first clearing the\n",
      "    Axes and/or Figure.\n",
      "  plt.hold(b)\n",
      "/home/ec2-user/anaconda2/lib/python2.7/site-packages/matplotlib/__init__.py:917: UserWarning: axes.hold is deprecated. Please remove it from your matplotlibrc and/or style files.\n",
      "  warnings.warn(self.msg_depr_set % key)\n",
      "/home/ec2-user/anaconda2/lib/python2.7/site-packages/matplotlib/rcsetup.py:152: UserWarning: axes.hold is deprecated, will be removed in 3.0\n",
      "  warnings.warn(\"axes.hold is deprecated, will be removed in 3.0\")\n"
     ]
    },
    {
     "data": {
      "image/png": "[encoded data removed]",
      "text/plain": [
       "<matplotlib.figure.Figure at 0x7f287b09ae50>"
      ]
     },
     "metadata": {},
     "output_type": "display_data"
    }
   ],
   "source": [
    "#i=h.node['B36052876']\n",
    "%matplotlib inline\n",
    "gg = nx.single_source_shortest_path_length(h ,source='B36052876', cutoff=2)\n",
    "nx.draw(h.subgraph(gg))\n",
    "#Cargar un grafo y filtrar por atributos. Obtener grafo solamente de empresas con participadas. \n",
    "\n",
    "#con la lista de nodos, obtener el subgrafo.\n",
    "\n",
    "#filtrar aquellas que "
   ]
  },
  {
   "cell_type": "code",
   "execution_count": 4,
   "metadata": {
    "collapsed": false
   },
   "outputs": [],
   "source": [
    "import networkx as nx\n",
    "nx.write_gpickle(gg, './Alberto.data/visualizacion.gpickle')"
   ]
  },
  {
   "cell_type": "code",
   "execution_count": null,
   "metadata": {
    "collapsed": false
   },
   "outputs": [],
   "source": [
    "#Exportacion de variables para construir en networkx el grafo.\n",
    "\n",
    "import json\n",
    "#h.subgraph(gg).edges(data=True)\n",
    "json.dumps(h.subgraph(gg).nodes(data=True))\n",
    "json.dumps(h.subgraph(gg).edges(data=True))"
   ]
  }
 ],
 "metadata": {
  "anaconda-cloud": {},
  "kernelspec": {
   "display_name": "Python [default]",
   "language": "python",
   "name": "python2"
  },
  "language_info": {
   "codemirror_mode": {
    "name": "ipython",
    "version": 2
   },
   "file_extension": ".py",
   "mimetype": "text/x-python",
   "name": "python",
   "nbconvert_exporter": "python",
   "pygments_lexer": "ipython2",
   "version": "2.7.13"
  }
 },
 "nbformat": 4,
 "nbformat_minor": 2
}
