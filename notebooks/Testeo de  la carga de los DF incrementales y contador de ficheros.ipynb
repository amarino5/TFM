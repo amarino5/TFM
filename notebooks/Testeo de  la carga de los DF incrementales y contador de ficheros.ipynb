{
 "cells": [
  {
   "cell_type": "code",
   "execution_count": 2,
   "metadata": {
    "collapsed": true
   },
   "outputs": [],
   "source": [
    "import pandas as pd\n",
    "import time"
   ]
  },
  {
   "cell_type": "code",
   "execution_count": 3,
   "metadata": {
    "collapsed": false
   },
   "outputs": [],
   "source": [
    "dfrelacionesCargos = pd.DataFrame()\n",
    "dfrelacionesParticipadas= pd.DataFrame()\n",
    "dfwork= pd.DataFrame()\n",
    "dfeventosborme =  pd.DataFrame()"
   ]
  },
  {
   "cell_type": "markdown",
   "metadata": {},
   "source": [
    "Cargamos los ficheros pickle binarios con los dataframes que se han guardado del procesamiento de las excel. A partir de aqui, puede trabajarse con ellos. Hasta que finalice el procesamiento puede trabajarse con estos dataframes mientras no se sobre escriban los ficheros donde se han guardado. "
   ]
  },
  {
   "cell_type": "code",
   "execution_count": 4,
   "metadata": {
    "collapsed": false
   },
   "outputs": [
    {
     "name": "stdout",
     "output_type": "stream",
     "text": [
      "Ficheros restantes de la Lista1 2\n",
      "Ficheros restantes de la Lista2 0\n"
     ]
    }
   ],
   "source": [
    "dfrelacionesParticipadas= pd.read_pickle('RelacionesEmpresasParticipadas')\n",
    "dfwork = pd.read_pickle('NodosEmpresa')\n",
    "dfrelacionesCargos = pd.read_pickle('RelacionesCargos')\n",
    "dfrelacionesAccionistas = pd.read_pickle('RelacionesAccionistas')\n",
    "dfrelacionesPuestos = pd.read_pickle('RelacionesPuestos')\n",
    "dfeventosborme= pd.read_csv('BORMEEvents.csv')\n",
    "counter2 = pd.read_pickle('file_processed_counter_lista2')\n",
    "counter1 = pd.read_pickle('file_processed_counter')\n",
    "print 'Ficheros restantes de la Lista1',len(counter1)\n",
    "print 'Ficheros restantes de la Lista2',len(counter2)"
   ]
  },
  {
   "cell_type": "code",
   "execution_count": 5,
   "metadata": {
    "collapsed": false
   },
   "outputs": [
    {
     "data": {
      "text/html": [
       "<div>\n",
       "<table border=\"1\" class=\"dataframe\">\n",
       "  <thead>\n",
       "    <tr style=\"text-align: right;\">\n",
       "      <th></th>\n",
       "      <th>Unnamed: 0</th>\n",
       "      <th>rowID</th>\n",
       "      <th>razon</th>\n",
       "      <th>evento</th>\n",
       "      <th>subevento</th>\n",
       "      <th>codevento</th>\n",
       "      <th>actor</th>\n",
       "      <th>fecha_publicacion</th>\n",
       "      <th>cif</th>\n",
       "      <th>nombre</th>\n",
       "    </tr>\n",
       "  </thead>\n",
       "  <tbody>\n",
       "    <tr>\n",
       "      <th>0</th>\n",
       "      <td>0</td>\n",
       "      <td>6826517</td>\n",
       "      <td>SL</td>\n",
       "      <td>Nombramientos.</td>\n",
       "      <td>vicepresidente</td>\n",
       "      <td>44014</td>\n",
       "      <td>PENA RUSHTON JUAN ANTONIO</td>\n",
       "      <td>11/02/2010</td>\n",
       "      <td>B15371222</td>\n",
       "      <td>CENTRAL ELECTRODOMESTICOS NOROESTE</td>\n",
       "    </tr>\n",
       "    <tr>\n",
       "      <th>1</th>\n",
       "      <td>1</td>\n",
       "      <td>6826518</td>\n",
       "      <td>SL</td>\n",
       "      <td>Nombramientos.</td>\n",
       "      <td>secretario</td>\n",
       "      <td>4409</td>\n",
       "      <td>BABIO  LOPEZ  JESUS</td>\n",
       "      <td>11/02/2010</td>\n",
       "      <td>B15371222</td>\n",
       "      <td>CENTRAL ELECTRODOMESTICOS NOROESTE</td>\n",
       "    </tr>\n",
       "  </tbody>\n",
       "</table>\n",
       "</div>"
      ],
      "text/plain": [
       "   Unnamed: 0    rowID razon          evento       subevento  codevento  \\\n",
       "0           0  6826517    SL  Nombramientos.  vicepresidente      44014   \n",
       "1           1  6826518    SL  Nombramientos.      secretario       4409   \n",
       "\n",
       "                       actor fecha_publicacion        cif  \\\n",
       "0  PENA RUSHTON JUAN ANTONIO        11/02/2010  B15371222   \n",
       "1        BABIO  LOPEZ  JESUS        11/02/2010  B15371222   \n",
       "\n",
       "                               nombre  \n",
       "0  CENTRAL ELECTRODOMESTICOS NOROESTE  \n",
       "1  CENTRAL ELECTRODOMESTICOS NOROESTE  "
      ]
     },
     "execution_count": 5,
     "metadata": {},
     "output_type": "execute_result"
    }
   ],
   "source": [
    "dfeventosborme.head(2)"
   ]
  },
  {
   "cell_type": "code",
   "execution_count": 82,
   "metadata": {
    "collapsed": false
   },
   "outputs": [
    {
     "data": {
      "text/plain": [
       "Index([u'nombre', u'CIF', u'tipoRelacion', u'nombre', u'participadaId',\n",
       "       u'participadaCodPais', u'porcentajeDirecto', u'porcentajeTotal'],\n",
       "      dtype='object')"
      ]
     },
     "execution_count": 82,
     "metadata": {},
     "output_type": "execute_result"
    }
   ],
   "source": [
    "dfrelacionesParticipadas.columns"
   ]
  },
  {
   "cell_type": "code",
   "execution_count": 75,
   "metadata": {
    "collapsed": false
   },
   "outputs": [
    {
     "data": {
      "text/html": [
       "<div>\n",
       "<table border=\"1\" class=\"dataframe\">\n",
       "  <thead>\n",
       "    <tr style=\"text-align: right;\">\n",
       "      <th></th>\n",
       "      <th>nombre</th>\n",
       "      <th>CIF</th>\n",
       "      <th>tipoRelacion</th>\n",
       "      <th>nombre</th>\n",
       "      <th>participadaId</th>\n",
       "      <th>participadaCodPais</th>\n",
       "      <th>porcentajeDirecto</th>\n",
       "      <th>porcentajeTotal</th>\n",
       "    </tr>\n",
       "  </thead>\n",
       "  <tbody>\n",
       "    <tr>\n",
       "      <th>0</th>\n",
       "      <td>NOVASERRA SA</td>\n",
       "      <td>A28940542</td>\n",
       "      <td>participada</td>\n",
       "      <td>NAVAL 77 SA</td>\n",
       "      <td>ESA84203181</td>\n",
       "      <td>ES</td>\n",
       "      <td>49,75</td>\n",
       "      <td>n.d.</td>\n",
       "    </tr>\n",
       "    <tr>\n",
       "      <th>1</th>\n",
       "      <td>NOVASERRA SA</td>\n",
       "      <td>A28940542</td>\n",
       "      <td>participada</td>\n",
       "      <td>GEURCO SA</td>\n",
       "      <td>ESA28832335</td>\n",
       "      <td>ES</td>\n",
       "      <td>46,82</td>\n",
       "      <td>n.d.</td>\n",
       "    </tr>\n",
       "    <tr>\n",
       "      <th>2</th>\n",
       "      <td>NOVASERRA SA</td>\n",
       "      <td>A28940542</td>\n",
       "      <td>participada</td>\n",
       "      <td>CONSTRUCCIONES MARENA 28 SL</td>\n",
       "      <td>ESB78554466</td>\n",
       "      <td>ES</td>\n",
       "      <td>28,00</td>\n",
       "      <td>n.d.</td>\n",
       "    </tr>\n",
       "    <tr>\n",
       "      <th>3</th>\n",
       "      <td>NUF JHU S.L.</td>\n",
       "      <td>B11603214</td>\n",
       "      <td>participada</td>\n",
       "      <td>NORTH AMERICAN ENVIROMENTAL FU</td>\n",
       "      <td>YY*330848187</td>\n",
       "      <td>n.d.</td>\n",
       "      <td>-</td>\n",
       "      <td>n.d.</td>\n",
       "    </tr>\n",
       "    <tr>\n",
       "      <th>4</th>\n",
       "      <td>NUF JHU S.L.</td>\n",
       "      <td>B11603214</td>\n",
       "      <td>participada</td>\n",
       "      <td>URBINSA SL</td>\n",
       "      <td>ESB80315708</td>\n",
       "      <td>ES</td>\n",
       "      <td>-</td>\n",
       "      <td>n.d.</td>\n",
       "    </tr>\n",
       "  </tbody>\n",
       "</table>\n",
       "</div>"
      ],
      "text/plain": [
       "         nombre        CIF tipoRelacion                          nombre  \\\n",
       "0  NOVASERRA SA  A28940542  participada                     NAVAL 77 SA   \n",
       "1  NOVASERRA SA  A28940542  participada                       GEURCO SA   \n",
       "2  NOVASERRA SA  A28940542  participada     CONSTRUCCIONES MARENA 28 SL   \n",
       "3  NUF JHU S.L.  B11603214  participada  NORTH AMERICAN ENVIROMENTAL FU   \n",
       "4  NUF JHU S.L.  B11603214  participada                      URBINSA SL   \n",
       "\n",
       "  participadaId participadaCodPais porcentajeDirecto porcentajeTotal  \n",
       "0   ESA84203181                 ES             49,75            n.d.  \n",
       "1   ESA28832335                 ES             46,82            n.d.  \n",
       "2   ESB78554466                 ES             28,00            n.d.  \n",
       "3  YY*330848187               n.d.                 -            n.d.  \n",
       "4   ESB80315708                 ES                 -            n.d.  "
      ]
     },
     "execution_count": 75,
     "metadata": {},
     "output_type": "execute_result"
    }
   ],
   "source": [
    "dfrelacionesParticipadas.head(5)"
   ]
  },
  {
   "cell_type": "code",
   "execution_count": 83,
   "metadata": {
    "collapsed": false
   },
   "outputs": [
    {
     "data": {
      "text/plain": [
       "Index([u'nombre', u'CIF', u'ISIN', u'forma', u'fconst', u'Estado',\n",
       "       u'fechaCambioEstado', u'Pres', u'DE', u'tipoCuentasDisponible',\n",
       "       u'numEmpresasEnCorporacion', u'numparticipadas', u'codPrimarioCNAE',\n",
       "       u'incidenciasJudiciales', u'reclamacionesAdministrativas',\n",
       "       u'numMiembrosJuntas', u'numMiembrosJuntasDireccion',\n",
       "       u'numEmpresasGrupo', u'long', u'lat', u'cotizoBolsa', u'totActivo2015',\n",
       "       u'totActivo2014', u'fondosPropios2015', u'fondosPropios2014',\n",
       "       u'numEmpleados2015', u'numEmpleados2015', u'netoVentas2015',\n",
       "       u'netoVentas2014', u'file'],\n",
       "      dtype='object')"
      ]
     },
     "execution_count": 83,
     "metadata": {},
     "output_type": "execute_result"
    }
   ],
   "source": [
    "dfwork.columns"
   ]
  },
  {
   "cell_type": "code",
   "execution_count": 38,
   "metadata": {
    "collapsed": false
   },
   "outputs": [
    {
     "data": {
      "text/html": [
       "<div>\n",
       "<table border=\"1\" class=\"dataframe\">\n",
       "  <thead>\n",
       "    <tr style=\"text-align: right;\">\n",
       "      <th></th>\n",
       "      <th>nombre</th>\n",
       "      <th>CIF</th>\n",
       "      <th>ISIN</th>\n",
       "      <th>forma</th>\n",
       "      <th>fconst</th>\n",
       "      <th>Estado</th>\n",
       "      <th>fechaCambioEstado</th>\n",
       "      <th>Pres</th>\n",
       "      <th>DE</th>\n",
       "      <th>tipoCuentasDisponible</th>\n",
       "      <th>...</th>\n",
       "      <th>cotizoBolsa</th>\n",
       "      <th>totActivo2015</th>\n",
       "      <th>totActivo2014</th>\n",
       "      <th>fondosPropios2015</th>\n",
       "      <th>fondosPropios2014</th>\n",
       "      <th>numEmpleados2015</th>\n",
       "      <th>numEmpleados2015</th>\n",
       "      <th>netoVentas2015</th>\n",
       "      <th>netoVentas2014</th>\n",
       "      <th>file</th>\n",
       "    </tr>\n",
       "  </thead>\n",
       "  <tbody>\n",
       "    <tr>\n",
       "      <th>0</th>\n",
       "      <td>NOVAMAS2002 SL</td>\n",
       "      <td>B62893151</td>\n",
       "      <td>No cotiza en bolsa</td>\n",
       "      <td>Sociedad limitada</td>\n",
       "      <td>2002-06-17 00:00:00</td>\n",
       "      <td>Desconocido</td>\n",
       "      <td>None</td>\n",
       "      <td>None</td>\n",
       "      <td>None</td>\n",
       "      <td>No Consolidadas</td>\n",
       "      <td>...</td>\n",
       "      <td>No cotiza en bolsa</td>\n",
       "      <td>106.13797</td>\n",
       "      <td>43.45643</td>\n",
       "      <td>35.5551</td>\n",
       "      <td>-11.8354</td>\n",
       "      <td>n.d.</td>\n",
       "      <td>n.d.</td>\n",
       "      <td>n.d.</td>\n",
       "      <td>4.075</td>\n",
       "      <td>../../data/datasets/SABI/lista1/50 Lista1 empr...</td>\n",
       "    </tr>\n",
       "    <tr>\n",
       "      <th>1</th>\n",
       "      <td>NOVAPAPA SL</td>\n",
       "      <td>B53859765</td>\n",
       "      <td>No cotiza en bolsa</td>\n",
       "      <td>Sociedad limitada</td>\n",
       "      <td>2004-02-23 00:00:00</td>\n",
       "      <td>Desconocido</td>\n",
       "      <td>None</td>\n",
       "      <td>None</td>\n",
       "      <td>None</td>\n",
       "      <td>No Consolidadas</td>\n",
       "      <td>...</td>\n",
       "      <td>No cotiza en bolsa</td>\n",
       "      <td>372.23437</td>\n",
       "      <td>455.31208</td>\n",
       "      <td>372.234</td>\n",
       "      <td>373.415</td>\n",
       "      <td>n.d.</td>\n",
       "      <td>n.d.</td>\n",
       "      <td>n.d.</td>\n",
       "      <td>n.d.</td>\n",
       "      <td>../../data/datasets/SABI/lista1/50 Lista1 empr...</td>\n",
       "    </tr>\n",
       "    <tr>\n",
       "      <th>2</th>\n",
       "      <td>NOVAR ET DULCE SL</td>\n",
       "      <td>B97415228</td>\n",
       "      <td>No cotiza en bolsa</td>\n",
       "      <td>Sociedad limitada</td>\n",
       "      <td>2003-01-02 00:00:00</td>\n",
       "      <td>Desconocido</td>\n",
       "      <td>None</td>\n",
       "      <td>None</td>\n",
       "      <td>None</td>\n",
       "      <td>No Consolidadas</td>\n",
       "      <td>...</td>\n",
       "      <td>No cotiza en bolsa</td>\n",
       "      <td>115.69942</td>\n",
       "      <td>115.70300</td>\n",
       "      <td>93.4977</td>\n",
       "      <td>93.5593</td>\n",
       "      <td>n.d.</td>\n",
       "      <td>n.d.</td>\n",
       "      <td>n.d.</td>\n",
       "      <td>n.d.</td>\n",
       "      <td>../../data/datasets/SABI/lista1/50 Lista1 empr...</td>\n",
       "    </tr>\n",
       "    <tr>\n",
       "      <th>3</th>\n",
       "      <td>NOVAS CONSTRUCCIONS &amp; AR SL</td>\n",
       "      <td>B36875557</td>\n",
       "      <td>No cotiza en bolsa</td>\n",
       "      <td>Sociedad limitada</td>\n",
       "      <td>2000-09-06 00:00:00</td>\n",
       "      <td>Desconocido</td>\n",
       "      <td>2014-12-31 00:00:00</td>\n",
       "      <td>None</td>\n",
       "      <td>None</td>\n",
       "      <td>No Consolidadas</td>\n",
       "      <td>...</td>\n",
       "      <td>No cotiza en bolsa</td>\n",
       "      <td>265.44908</td>\n",
       "      <td>265.44908</td>\n",
       "      <td>-59.4695</td>\n",
       "      <td>-59.4695</td>\n",
       "      <td>n.d.</td>\n",
       "      <td>n.d.</td>\n",
       "      <td>n.d.</td>\n",
       "      <td>n.d.</td>\n",
       "      <td>../../data/datasets/SABI/lista1/50 Lista1 empr...</td>\n",
       "    </tr>\n",
       "    <tr>\n",
       "      <th>4</th>\n",
       "      <td>NOVASERRA SA</td>\n",
       "      <td>A28940542</td>\n",
       "      <td>No cotiza en bolsa</td>\n",
       "      <td>Sociedad anonima</td>\n",
       "      <td>1984-05-25 00:00:00</td>\n",
       "      <td>Desconocido</td>\n",
       "      <td>None</td>\n",
       "      <td>None</td>\n",
       "      <td>None</td>\n",
       "      <td>No Consolidadas</td>\n",
       "      <td>...</td>\n",
       "      <td>No cotiza en bolsa</td>\n",
       "      <td>9506.72897</td>\n",
       "      <td>29836.80170</td>\n",
       "      <td>2471.88</td>\n",
       "      <td>21726.3</td>\n",
       "      <td>4</td>\n",
       "      <td>3</td>\n",
       "      <td>n.d.</td>\n",
       "      <td>n.d.</td>\n",
       "      <td>../../data/datasets/SABI/lista1/50 Lista1 empr...</td>\n",
       "    </tr>\n",
       "  </tbody>\n",
       "</table>\n",
       "<p>5 rows × 30 columns</p>\n",
       "</div>"
      ],
      "text/plain": [
       "                        nombre        CIF                ISIN  \\\n",
       "0               NOVAMAS2002 SL  B62893151  No cotiza en bolsa   \n",
       "1                  NOVAPAPA SL  B53859765  No cotiza en bolsa   \n",
       "2            NOVAR ET DULCE SL  B97415228  No cotiza en bolsa   \n",
       "3  NOVAS CONSTRUCCIONS & AR SL  B36875557  No cotiza en bolsa   \n",
       "4                 NOVASERRA SA  A28940542  No cotiza en bolsa   \n",
       "\n",
       "               forma               fconst       Estado    fechaCambioEstado  \\\n",
       "0  Sociedad limitada  2002-06-17 00:00:00  Desconocido                 None   \n",
       "1  Sociedad limitada  2004-02-23 00:00:00  Desconocido                 None   \n",
       "2  Sociedad limitada  2003-01-02 00:00:00  Desconocido                 None   \n",
       "3  Sociedad limitada  2000-09-06 00:00:00  Desconocido  2014-12-31 00:00:00   \n",
       "4   Sociedad anonima  1984-05-25 00:00:00  Desconocido                 None   \n",
       "\n",
       "   Pres    DE tipoCuentasDisponible  \\\n",
       "0  None  None       No Consolidadas   \n",
       "1  None  None       No Consolidadas   \n",
       "2  None  None       No Consolidadas   \n",
       "3  None  None       No Consolidadas   \n",
       "4  None  None       No Consolidadas   \n",
       "\n",
       "                         ...                                 cotizoBolsa  \\\n",
       "0                        ...                          No cotiza en bolsa   \n",
       "1                        ...                          No cotiza en bolsa   \n",
       "2                        ...                          No cotiza en bolsa   \n",
       "3                        ...                          No cotiza en bolsa   \n",
       "4                        ...                          No cotiza en bolsa   \n",
       "\n",
       "   totActivo2015 totActivo2014 fondosPropios2015 fondosPropios2014  \\\n",
       "0      106.13797      43.45643           35.5551          -11.8354   \n",
       "1      372.23437     455.31208           372.234           373.415   \n",
       "2      115.69942     115.70300           93.4977           93.5593   \n",
       "3      265.44908     265.44908          -59.4695          -59.4695   \n",
       "4     9506.72897   29836.80170           2471.88           21726.3   \n",
       "\n",
       "   numEmpleados2015  numEmpleados2015 netoVentas2015 netoVentas2014  \\\n",
       "0              n.d.              n.d.           n.d.          4.075   \n",
       "1              n.d.              n.d.           n.d.           n.d.   \n",
       "2              n.d.              n.d.           n.d.           n.d.   \n",
       "3              n.d.              n.d.           n.d.           n.d.   \n",
       "4                 4                 3           n.d.           n.d.   \n",
       "\n",
       "                                                file  \n",
       "0  ../../data/datasets/SABI/lista1/50 Lista1 empr...  \n",
       "1  ../../data/datasets/SABI/lista1/50 Lista1 empr...  \n",
       "2  ../../data/datasets/SABI/lista1/50 Lista1 empr...  \n",
       "3  ../../data/datasets/SABI/lista1/50 Lista1 empr...  \n",
       "4  ../../data/datasets/SABI/lista1/50 Lista1 empr...  \n",
       "\n",
       "[5 rows x 30 columns]"
      ]
     },
     "execution_count": 38,
     "metadata": {},
     "output_type": "execute_result"
    }
   ],
   "source": [
    "dfwork.head(5)"
   ]
  },
  {
   "cell_type": "code",
   "execution_count": 84,
   "metadata": {
    "collapsed": false
   },
   "outputs": [
    {
     "data": {
      "text/plain": [
       "Index([u'nombre', u'CIF', u'tipoRelacion', u'nombre', u'fechaNombramiento',\n",
       "       u'actual'],\n",
       "      dtype='object')"
      ]
     },
     "execution_count": 84,
     "metadata": {},
     "output_type": "execute_result"
    }
   ],
   "source": [
    "dfrelacionesCargos.columns"
   ]
  },
  {
   "cell_type": "code",
   "execution_count": 85,
   "metadata": {
    "collapsed": false
   },
   "outputs": [
    {
     "data": {
      "text/html": [
       "<div>\n",
       "<table border=\"1\" class=\"dataframe\">\n",
       "  <thead>\n",
       "    <tr style=\"text-align: right;\">\n",
       "      <th></th>\n",
       "      <th>nombre</th>\n",
       "      <th>CIF</th>\n",
       "      <th>tipoRelacion</th>\n",
       "      <th>nombre</th>\n",
       "      <th>fechaNombramiento</th>\n",
       "      <th>actual</th>\n",
       "    </tr>\n",
       "  </thead>\n",
       "  <tbody>\n",
       "    <tr>\n",
       "      <th>0</th>\n",
       "      <td>NOVATECH CONSULTING ESTRATEGIA Y TECNOLOGIAS D...</td>\n",
       "      <td>B84000678</td>\n",
       "      <td>Administrador Único</td>\n",
       "      <td>Don Jose Vicente Escanciano Herranz</td>\n",
       "      <td>2006-07-25 00:00:00</td>\n",
       "      <td>Current</td>\n",
       "    </tr>\n",
       "    <tr>\n",
       "      <th>1</th>\n",
       "      <td>NOVES DIMENSIONS INTEGRALS SL</td>\n",
       "      <td>B62034103</td>\n",
       "      <td>Administrador Único;Administrador único</td>\n",
       "      <td>Don Jordi Abellan Mercade</td>\n",
       "      <td>2006-08-01 00:00:00</td>\n",
       "      <td>Current</td>\n",
       "    </tr>\n",
       "    <tr>\n",
       "      <th>2</th>\n",
       "      <td>NOVES SENDES DEL GARRAF SL</td>\n",
       "      <td>B62874631</td>\n",
       "      <td>Administrador</td>\n",
       "      <td>Doña Ana Lopez Lopez</td>\n",
       "      <td>2002-09-18 00:00:00</td>\n",
       "      <td>Current</td>\n",
       "    </tr>\n",
       "    <tr>\n",
       "      <th>3</th>\n",
       "      <td>NOVIEMBRES INVERSIONES SICAV SA.</td>\n",
       "      <td>A82215930</td>\n",
       "      <td>Presidente</td>\n",
       "      <td>Don Francisco Manuel Delgado Rodriguez</td>\n",
       "      <td>2012-02-09 00:00:00</td>\n",
       "      <td>Current</td>\n",
       "    </tr>\n",
       "    <tr>\n",
       "      <th>4</th>\n",
       "      <td>NOVOPOUSO INVERSIONES SL</td>\n",
       "      <td>B70050356</td>\n",
       "      <td>Administrador</td>\n",
       "      <td>Don Jose Baldomero Novo Mera</td>\n",
       "      <td>2006-05-24 00:00:00</td>\n",
       "      <td>Current</td>\n",
       "    </tr>\n",
       "  </tbody>\n",
       "</table>\n",
       "</div>"
      ],
      "text/plain": [
       "                                              nombre        CIF  \\\n",
       "0  NOVATECH CONSULTING ESTRATEGIA Y TECNOLOGIAS D...  B84000678   \n",
       "1                      NOVES DIMENSIONS INTEGRALS SL  B62034103   \n",
       "2                         NOVES SENDES DEL GARRAF SL  B62874631   \n",
       "3                   NOVIEMBRES INVERSIONES SICAV SA.  A82215930   \n",
       "4                           NOVOPOUSO INVERSIONES SL  B70050356   \n",
       "\n",
       "                              tipoRelacion  \\\n",
       "0                      Administrador Único   \n",
       "1  Administrador Único;Administrador único   \n",
       "2                            Administrador   \n",
       "3                               Presidente   \n",
       "4                            Administrador   \n",
       "\n",
       "                                   nombre    fechaNombramiento   actual  \n",
       "0     Don Jose Vicente Escanciano Herranz  2006-07-25 00:00:00  Current  \n",
       "1               Don Jordi Abellan Mercade  2006-08-01 00:00:00  Current  \n",
       "2                    Doña Ana Lopez Lopez  2002-09-18 00:00:00  Current  \n",
       "3  Don Francisco Manuel Delgado Rodriguez  2012-02-09 00:00:00  Current  \n",
       "4            Don Jose Baldomero Novo Mera  2006-05-24 00:00:00  Current  "
      ]
     },
     "execution_count": 85,
     "metadata": {},
     "output_type": "execute_result"
    }
   ],
   "source": [
    "dfrelacionesCargos.head(5)"
   ]
  },
  {
   "cell_type": "code",
   "execution_count": 86,
   "metadata": {
    "collapsed": false
   },
   "outputs": [
    {
     "data": {
      "text/plain": [
       "Index([u'nombreEmpresa', u'CIF', u'nombreAccionista', u'idAccionista',\n",
       "       u'isoPaisAccionista', u'%directo', u'%total'],\n",
       "      dtype='object')"
      ]
     },
     "execution_count": 86,
     "metadata": {},
     "output_type": "execute_result"
    }
   ],
   "source": [
    "dfrelacionesAccionistas.columns"
   ]
  },
  {
   "cell_type": "code",
   "execution_count": 40,
   "metadata": {
    "collapsed": false
   },
   "outputs": [
    {
     "data": {
      "text/html": [
       "<div>\n",
       "<table border=\"1\" class=\"dataframe\">\n",
       "  <thead>\n",
       "    <tr style=\"text-align: right;\">\n",
       "      <th></th>\n",
       "      <th>nombreEmpresa</th>\n",
       "      <th>CIF</th>\n",
       "      <th>nombreAccionista</th>\n",
       "      <th>idAccionista</th>\n",
       "      <th>isoPaisAccionista</th>\n",
       "      <th>%directo</th>\n",
       "      <th>%total</th>\n",
       "    </tr>\n",
       "  </thead>\n",
       "  <tbody>\n",
       "    <tr>\n",
       "      <th>0</th>\n",
       "      <td>PLATA HUELMO SL</td>\n",
       "      <td>B01032341</td>\n",
       "      <td>MR JOSE IGNACIO PLATA ORTE</td>\n",
       "      <td>ES*339817771</td>\n",
       "      <td>ES</td>\n",
       "      <td>33,33</td>\n",
       "      <td>n.d.</td>\n",
       "    </tr>\n",
       "    <tr>\n",
       "      <th>1</th>\n",
       "      <td>PLATA HUELMO SL</td>\n",
       "      <td>B01032341</td>\n",
       "      <td>MR VICTOR HUELMO CALDERON</td>\n",
       "      <td>ES*339817770</td>\n",
       "      <td>ES</td>\n",
       "      <td>33,33</td>\n",
       "      <td>n.d.</td>\n",
       "    </tr>\n",
       "    <tr>\n",
       "      <th>2</th>\n",
       "      <td>PLATANOS CAMARASA SL</td>\n",
       "      <td>B46427779</td>\n",
       "      <td>MR ENRIQUE CAMARASA TRIANA</td>\n",
       "      <td>ES*330182174</td>\n",
       "      <td>ES</td>\n",
       "      <td>33,33</td>\n",
       "      <td>n.d.</td>\n",
       "    </tr>\n",
       "    <tr>\n",
       "      <th>3</th>\n",
       "      <td>PLATANOS CAMARASA SL</td>\n",
       "      <td>B46427779</td>\n",
       "      <td>MR RAFAEL CAMARASA TRIANA</td>\n",
       "      <td>ES*330182175</td>\n",
       "      <td>ES</td>\n",
       "      <td>33,33</td>\n",
       "      <td>n.d.</td>\n",
       "    </tr>\n",
       "    <tr>\n",
       "      <th>4</th>\n",
       "      <td>PLATINIUM INVESTMENT, SICAV, SA</td>\n",
       "      <td>A82406604</td>\n",
       "      <td>SELF OWNED</td>\n",
       "      <td>ZZ*J0088500</td>\n",
       "      <td>-</td>\n",
       "      <td>-</td>\n",
       "      <td>n.d.</td>\n",
       "    </tr>\n",
       "  </tbody>\n",
       "</table>\n",
       "</div>"
      ],
      "text/plain": [
       "                     nombreEmpresa        CIF            nombreAccionista  \\\n",
       "0                  PLATA HUELMO SL  B01032341  MR JOSE IGNACIO PLATA ORTE   \n",
       "1                  PLATA HUELMO SL  B01032341   MR VICTOR HUELMO CALDERON   \n",
       "2             PLATANOS CAMARASA SL  B46427779  MR ENRIQUE CAMARASA TRIANA   \n",
       "3             PLATANOS CAMARASA SL  B46427779   MR RAFAEL CAMARASA TRIANA   \n",
       "4  PLATINIUM INVESTMENT, SICAV, SA  A82406604                  SELF OWNED   \n",
       "\n",
       "   idAccionista isoPaisAccionista %directo %total  \n",
       "0  ES*339817771                ES    33,33   n.d.  \n",
       "1  ES*339817770                ES    33,33   n.d.  \n",
       "2  ES*330182174                ES    33,33   n.d.  \n",
       "3  ES*330182175                ES    33,33   n.d.  \n",
       "4   ZZ*J0088500                 -        -   n.d.  "
      ]
     },
     "execution_count": 40,
     "metadata": {},
     "output_type": "execute_result"
    }
   ],
   "source": [
    "dfrelacionesAccionistas.head(5)"
   ]
  },
  {
   "cell_type": "code",
   "execution_count": 87,
   "metadata": {
    "collapsed": false
   },
   "outputs": [
    {
     "data": {
      "text/plain": [
       "Index([u'nombreEmpresa', u'CIF', u'fechaUltimaDocRecibida',\n",
       "       u'numEmpresasTieneFuncion', u'nombreCargo', u'cargo', u'fechaCita',\n",
       "       u'actual', u'numAccionistas', u'file'],\n",
       "      dtype='object')"
      ]
     },
     "execution_count": 87,
     "metadata": {},
     "output_type": "execute_result"
    }
   ],
   "source": [
    "dfrelacionesPuestos.columns"
   ]
  },
  {
   "cell_type": "code",
   "execution_count": 41,
   "metadata": {
    "collapsed": false
   },
   "outputs": [
    {
     "data": {
      "text/html": [
       "<div>\n",
       "<table border=\"1\" class=\"dataframe\">\n",
       "  <thead>\n",
       "    <tr style=\"text-align: right;\">\n",
       "      <th></th>\n",
       "      <th>nombreEmpresa</th>\n",
       "      <th>CIF</th>\n",
       "      <th>fechaUltimaDocRecibida</th>\n",
       "      <th>numEmpresasTieneFuncion</th>\n",
       "      <th>nombreCargo</th>\n",
       "      <th>cargo</th>\n",
       "      <th>fechaCita</th>\n",
       "      <th>actual</th>\n",
       "      <th>numAccionistas</th>\n",
       "      <th>file</th>\n",
       "    </tr>\n",
       "  </thead>\n",
       "  <tbody>\n",
       "    <tr>\n",
       "      <th>0</th>\n",
       "      <td>PLASTICS DEL TERRI SL</td>\n",
       "      <td>B17368259</td>\n",
       "      <td>None</td>\n",
       "      <td>None</td>\n",
       "      <td>Directors / managers / contacts are available,...</td>\n",
       "      <td>None</td>\n",
       "      <td>None</td>\n",
       "      <td>None</td>\n",
       "      <td>0.0</td>\n",
       "      <td>../../data/datasets/SABI/lista2/39 Lista2 Empr...</td>\n",
       "    </tr>\n",
       "    <tr>\n",
       "      <th>1</th>\n",
       "      <td>PLASTIHORMA SL</td>\n",
       "      <td>B03061223</td>\n",
       "      <td>None</td>\n",
       "      <td>None</td>\n",
       "      <td>Directors / managers / contacts are available,...</td>\n",
       "      <td>None</td>\n",
       "      <td>None</td>\n",
       "      <td>None</td>\n",
       "      <td>1.0</td>\n",
       "      <td>../../data/datasets/SABI/lista2/39 Lista2 Empr...</td>\n",
       "    </tr>\n",
       "    <tr>\n",
       "      <th>2</th>\n",
       "      <td>PLATA HUELMO SL</td>\n",
       "      <td>B01032341</td>\n",
       "      <td>None</td>\n",
       "      <td>None</td>\n",
       "      <td>Directors / managers / contacts are available,...</td>\n",
       "      <td>None</td>\n",
       "      <td>None</td>\n",
       "      <td>None</td>\n",
       "      <td>3.0</td>\n",
       "      <td>../../data/datasets/SABI/lista2/39 Lista2 Empr...</td>\n",
       "    </tr>\n",
       "    <tr>\n",
       "      <th>3</th>\n",
       "      <td>PLATAFORMA EOLICA GALEGA SL</td>\n",
       "      <td>B70036751</td>\n",
       "      <td>None</td>\n",
       "      <td>None</td>\n",
       "      <td>Directors / managers / contacts are available,...</td>\n",
       "      <td>None</td>\n",
       "      <td>None</td>\n",
       "      <td>None</td>\n",
       "      <td>1.0</td>\n",
       "      <td>../../data/datasets/SABI/lista2/39 Lista2 Empr...</td>\n",
       "    </tr>\n",
       "    <tr>\n",
       "      <th>4</th>\n",
       "      <td>PLATANOS CAMARASA SL</td>\n",
       "      <td>B46427779</td>\n",
       "      <td>None</td>\n",
       "      <td>None</td>\n",
       "      <td>Directors / managers / contacts are available,...</td>\n",
       "      <td>None</td>\n",
       "      <td>None</td>\n",
       "      <td>None</td>\n",
       "      <td>3.0</td>\n",
       "      <td>../../data/datasets/SABI/lista2/39 Lista2 Empr...</td>\n",
       "    </tr>\n",
       "  </tbody>\n",
       "</table>\n",
       "</div>"
      ],
      "text/plain": [
       "                 nombreEmpresa        CIF fechaUltimaDocRecibida  \\\n",
       "0        PLASTICS DEL TERRI SL  B17368259                   None   \n",
       "1               PLASTIHORMA SL  B03061223                   None   \n",
       "2              PLATA HUELMO SL  B01032341                   None   \n",
       "3  PLATAFORMA EOLICA GALEGA SL  B70036751                   None   \n",
       "4         PLATANOS CAMARASA SL  B46427779                   None   \n",
       "\n",
       "  numEmpresasTieneFuncion                                        nombreCargo  \\\n",
       "0                    None  Directors / managers / contacts are available,...   \n",
       "1                    None  Directors / managers / contacts are available,...   \n",
       "2                    None  Directors / managers / contacts are available,...   \n",
       "3                    None  Directors / managers / contacts are available,...   \n",
       "4                    None  Directors / managers / contacts are available,...   \n",
       "\n",
       "  cargo fechaCita actual  numAccionistas  \\\n",
       "0  None      None   None             0.0   \n",
       "1  None      None   None             1.0   \n",
       "2  None      None   None             3.0   \n",
       "3  None      None   None             1.0   \n",
       "4  None      None   None             3.0   \n",
       "\n",
       "                                                file  \n",
       "0  ../../data/datasets/SABI/lista2/39 Lista2 Empr...  \n",
       "1  ../../data/datasets/SABI/lista2/39 Lista2 Empr...  \n",
       "2  ../../data/datasets/SABI/lista2/39 Lista2 Empr...  \n",
       "3  ../../data/datasets/SABI/lista2/39 Lista2 Empr...  \n",
       "4  ../../data/datasets/SABI/lista2/39 Lista2 Empr...  "
      ]
     },
     "execution_count": 41,
     "metadata": {},
     "output_type": "execute_result"
    }
   ],
   "source": [
    "dfrelacionesPuestos.head(5)"
   ]
  },
  {
   "cell_type": "code",
   "execution_count": 67,
   "metadata": {
    "collapsed": false
   },
   "outputs": [
    {
     "data": {
      "text/html": [
       "<div>\n",
       "<table border=\"1\" class=\"dataframe\">\n",
       "  <thead>\n",
       "    <tr style=\"text-align: right;\">\n",
       "      <th></th>\n",
       "      <th>nombreEmpresa</th>\n",
       "      <th>CIF</th>\n",
       "      <th>nombreAccionista</th>\n",
       "      <th>idAccionista</th>\n",
       "      <th>isoPaisAccionista</th>\n",
       "      <th>%directo</th>\n",
       "      <th>%total</th>\n",
       "    </tr>\n",
       "  </thead>\n",
       "  <tbody>\n",
       "    <tr>\n",
       "      <th>75740</th>\n",
       "      <td>REPSOL COMERCIAL DE PRODUCTOS PETROLIFEROS SA</td>\n",
       "      <td>A80298839</td>\n",
       "      <td>PETROLEOS DEL NORTE SOCIEDAD ANONIMA</td>\n",
       "      <td>ESA48053243</td>\n",
       "      <td>ES</td>\n",
       "      <td>22,09</td>\n",
       "      <td>n.d.</td>\n",
       "    </tr>\n",
       "    <tr>\n",
       "      <th>75741</th>\n",
       "      <td>REPSOL COMERCIAL DE PRODUCTOS PETROLIFEROS SA</td>\n",
       "      <td>A80298839</td>\n",
       "      <td>REPSOL SA.</td>\n",
       "      <td>ESA78374725</td>\n",
       "      <td>ES</td>\n",
       "      <td>18,39</td>\n",
       "      <td>n.d.</td>\n",
       "    </tr>\n",
       "  </tbody>\n",
       "</table>\n",
       "</div>"
      ],
      "text/plain": [
       "                                       nombreEmpresa        CIF  \\\n",
       "75740  REPSOL COMERCIAL DE PRODUCTOS PETROLIFEROS SA  A80298839   \n",
       "75741  REPSOL COMERCIAL DE PRODUCTOS PETROLIFEROS SA  A80298839   \n",
       "\n",
       "                           nombreAccionista idAccionista isoPaisAccionista  \\\n",
       "75740  PETROLEOS DEL NORTE SOCIEDAD ANONIMA  ESA48053243                ES   \n",
       "75741                            REPSOL SA.  ESA78374725                ES   \n",
       "\n",
       "      %directo %total  \n",
       "75740    22,09   n.d.  \n",
       "75741    18,39   n.d.  "
      ]
     },
     "execution_count": 67,
     "metadata": {},
     "output_type": "execute_result"
    }
   ],
   "source": [
    "dfrelacionesAccionistas[dfrelacionesAccionistas.CIF=='A80298839']"
   ]
  }
 ],
 "metadata": {
  "anaconda-cloud": {},
  "kernelspec": {
   "display_name": "Python [conda root]",
   "language": "python",
   "name": "conda-root-py"
  },
  "language_info": {
   "codemirror_mode": {
    "name": "ipython",
    "version": 2
   },
   "file_extension": ".py",
   "mimetype": "text/x-python",
   "name": "python",
   "nbconvert_exporter": "python",
   "pygments_lexer": "ipython2",
   "version": "2.7.13"
  }
 },
 "nbformat": 4,
 "nbformat_minor": 2
}
