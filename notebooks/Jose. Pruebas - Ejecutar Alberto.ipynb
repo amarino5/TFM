{
 "cells": [
  {
   "cell_type": "code",
   "execution_count": null,
   "metadata": {
    "collapsed": true
   },
   "outputs": [],
   "source": [
    "import pandas as pd\n",
    "import time\n",
    "import networkx as nx\n",
    "import sys  \n",
    "\n",
    "reload(sys)  \n",
    "sys.setdefaultencoding('utf8')"
   ]
  },
  {
   "cell_type": "code",
   "execution_count": 2,
   "metadata": {
    "collapsed": true
   },
   "outputs": [],
   "source": [
    "dfaudit = pd.read_pickle('dfaudit3')\n",
    "dfwork = pd.read_pickle('dfwork3')"
   ]
  },
  {
   "cell_type": "code",
   "execution_count": 3,
   "metadata": {
    "collapsed": true
   },
   "outputs": [],
   "source": [
    "g = nx.read_gpickle('graphSimple2.gpickle')"
   ]
  },
  {
   "cell_type": "code",
   "execution_count": 4,
   "metadata": {
    "collapsed": true
   },
   "outputs": [],
   "source": [
    "# DataFrame de empresas\n",
    "dfwork[u'Fecha constitución'] = dfwork[u'Fecha constitución'].str.encode('utf-8')\n",
    "dfwork.Nombre = dfwork.Nombre.str.encode('utf-8')\n",
    "dfwork.Estado = dfwork.Estado.str.encode('utf-8')\n",
    "dfwork.Estado = dfwork.Estado.fillna('Desconocido')\n",
    "dfwork[u'Incidencias Judiciales'] = dfwork[u'Incidencias Judiciales'].str.encode('utf-8')\n",
    "dfwork[u'Incidencias Judiciales'] = dfwork[u'Incidencias Judiciales'].fillna('0')\n",
    "dfwork[u'Reclamaciones administrativas'] = dfwork[u'Reclamaciones administrativas'].str.encode('utf-8')\n",
    "dfwork[u'Reclamaciones administrativas'] = dfwork[u'Reclamaciones administrativas'].fillna('0')\n",
    "dfwork[u'Código primario CNAE 2009'] = dfwork[u'Código primario CNAE 2009'].str.encode('utf-8')\n",
    "dfwork[u'Fecha constitución'] = dfwork[u'Fecha constitución'].fillna('0')\n",
    "\n",
    "# DataFrame de auditores\n",
    "dfaudit = dfaudit.dropna(subset=[u'Nombre auditor',u'Salvedades'], how='any')"
   ]
  },
  {
   "cell_type": "code",
   "execution_count": 5,
   "metadata": {
    "collapsed": true
   },
   "outputs": [],
   "source": [
    "def crear_nodo_auditor_x(dfaudit,g):\n",
    "    try:\n",
    "        g.add_node(dfaudit[u'Nombre auditor'], nodetype='auditor')\n",
    "    except Exception as e:\n",
    "        print 'ERROR:',e.args,':','create_node_auditor_x:en la creacion de nodo AUDITOR:',dfaudit[u'Nombre auditor']\n",
    "\n",
    "def crear_relacion_auditor_x(dfaudit,g):\n",
    "    try:\n",
    "        g.add_edge(dfaudit[u'Número BvD'], dfaudit[u'Nombre auditor'], edgetype='AUDITOR', salvedades=dfaudit.Salvedades)\n",
    "    except Exception as e:\n",
    "        print 'ERROR:',e.args,':','crear_relacion_auditor_x:en la creacion de la relacion',auditor[u'Nombre auditor']"
   ]
  },
  {
   "cell_type": "code",
   "execution_count": null,
   "metadata": {
    "collapsed": true
   },
   "outputs": [],
   "source": [
    "def add_empresa_attributes(dfwork,g):\n",
    "    if dfwork[u'Número BvD'] in g.nodes():\n",
    "        g.node[dfwork[u'Número BvD']]['cif'] = dfwork[u'Código NIF']\n",
    "        g.node[dfwork[u'Número BvD']]['fecha_const'] = dfwork[u'Fecha constitución']\n",
    "        g.node[dfwork[u'Número BvD']]['estado'] = dfwork['Estado']\n",
    "        g.node[dfwork[u'Número BvD']]['cnae'] = dfwork[u'Código primario CNAE 2009']\n",
    "        g.node[dfwork[u'Número BvD']]['inc_judic'] = dfwork[u'Incidencias Judiciales']\n",
    "        g.node[dfwork[u'Número BvD']]['recl_admin'] = dfwork[u'Reclamaciones administrativas']\n",
    "        g.node[dfwork[u'Número BvD']]['long_x'] = dfwork[u'Coordenada - X']\n",
    "        g.node[dfwork[u'Número BvD']]['lat_y'] = dfwork[u'Coordenada - Y']"
   ]
  },
  {
   "cell_type": "code",
   "execution_count": null,
   "metadata": {
    "collapsed": false
   },
   "outputs": [],
   "source": [
    "time1 = time.time()\n",
    "# Pegamos los atributos\n",
    "dfwork.apply(add_empresa_attributes, axis=1, args=(g,))\n",
    "\n",
    "time2 = time.time()\n",
    "\n",
    "nx.write_gpickle(g, 'FraudAnalysisGraph.gpickle')\n",
    "\n",
    "print 'Function took %0.3f ms' % ((time2-time1)*1000.0)"
   ]
  },
  {
   "cell_type": "code",
   "execution_count": null,
   "metadata": {
    "collapsed": true
   },
   "outputs": [],
   "source": [
    "# Creamos los nodos auditor y sus relaciones\n",
    "dfaudit.apply(crear_nodo_auditor_x, axis=1, args=(g,))\n",
    "dfaudit.apply(crear_relacion_auditor_x, axis=1, args=(g,))\n"
   ]
  }
 ],
 "metadata": {
  "anaconda-cloud": {},
  "kernelspec": {
   "display_name": "Python [default]",
   "language": "python",
   "name": "python2"
  },
  "language_info": {
   "codemirror_mode": {
    "name": "ipython",
    "version": 2
   },
   "file_extension": ".py",
   "mimetype": "text/x-python",
   "name": "python",
   "nbconvert_exporter": "python",
   "pygments_lexer": "ipython2",
   "version": "2.7.13"
  }
 },
 "nbformat": 4,
 "nbformat_minor": 2
}
