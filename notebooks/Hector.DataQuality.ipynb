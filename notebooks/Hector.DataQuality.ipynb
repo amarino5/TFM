{
 "cells": [
  {
   "cell_type": "code",
   "execution_count": 1,
   "metadata": {
    "collapsed": true
   },
   "outputs": [],
   "source": [
    "import pandas as pd\n",
    "import numpy as np\n",
    "import io"
   ]
  },
  {
   "cell_type": "code",
   "execution_count": 31,
   "metadata": {
    "collapsed": false
   },
   "outputs": [
    {
     "data": {
      "text/html": [
       "<div>\n",
       "<table border=\"1\" class=\"dataframe\">\n",
       "  <thead>\n",
       "    <tr style=\"text-align: right;\">\n",
       "      <th></th>\n",
       "      <th>allborme_22022016_cclie.i</th>\n",
       "      <th>allborme_22022016_cclie.firm</th>\n",
       "      <th>allborme_22022016_cclie.razon</th>\n",
       "      <th>allborme_22022016_cclie.event</th>\n",
       "      <th>allborme_22022016_cclie.subevent</th>\n",
       "      <th>allborme_22022016_cclie.cod_event</th>\n",
       "      <th>allborme_22022016_cclie.actor</th>\n",
       "      <th>allborme_22022016_cclie.publication_date</th>\n",
       "      <th>allborme_22022016_cclie.cod_persctpn</th>\n",
       "      <th>allborme_22022016_cclie.firm_clean</th>\n",
       "      <th>allborme_22022016_cclie.nif</th>\n",
       "      <th>allborme_22022016_cclie.new_firm</th>\n",
       "    </tr>\n",
       "  </thead>\n",
       "  <tbody>\n",
       "    <tr>\n",
       "      <th>0</th>\n",
       "      <td>6826517</td>\n",
       "      <td>CENTRAL ELECTRODOMESTICOS NOROESTE</td>\n",
       "      <td>SL</td>\n",
       "      <td>Nombramientos.</td>\n",
       "      <td>vicepresidente</td>\n",
       "      <td>44_14</td>\n",
       "      <td>PENA RUSHTON JUAN ANTONIO</td>\n",
       "      <td>11/02/2010</td>\n",
       "      <td>901731.0</td>\n",
       "      <td>CENTRAL ELECTRODOMESTICOS NOROESTE</td>\n",
       "      <td>B15371222</td>\n",
       "      <td>CENTRAL ELECTRODOMESTICOS NOROESTE</td>\n",
       "    </tr>\n",
       "    <tr>\n",
       "      <th>1</th>\n",
       "      <td>6826518</td>\n",
       "      <td>CENTRAL ELECTRODOMESTICOS NOROESTE</td>\n",
       "      <td>SL</td>\n",
       "      <td>Nombramientos.</td>\n",
       "      <td>secretario</td>\n",
       "      <td>44_9</td>\n",
       "      <td>BABIO  LOPEZ  JESUS</td>\n",
       "      <td>11/02/2010</td>\n",
       "      <td>901731.0</td>\n",
       "      <td>CENTRAL ELECTRODOMESTICOS NOROESTE</td>\n",
       "      <td>B15371222</td>\n",
       "      <td>CENTRAL ELECTRODOMESTICOS NOROESTE</td>\n",
       "    </tr>\n",
       "    <tr>\n",
       "      <th>2</th>\n",
       "      <td>6826519</td>\n",
       "      <td>CENTRAL ELECTRODOMESTICOS NOROESTE</td>\n",
       "      <td>SL</td>\n",
       "      <td>Nombramientos.</td>\n",
       "      <td>consejero</td>\n",
       "      <td>44_5</td>\n",
       "      <td>QUEIJO  COLLAZO  MARIA OTILIA</td>\n",
       "      <td>11/02/2010</td>\n",
       "      <td>901731.0</td>\n",
       "      <td>CENTRAL ELECTRODOMESTICOS NOROESTE</td>\n",
       "      <td>B15371222</td>\n",
       "      <td>CENTRAL ELECTRODOMESTICOS NOROESTE</td>\n",
       "    </tr>\n",
       "    <tr>\n",
       "      <th>3</th>\n",
       "      <td>6826520</td>\n",
       "      <td>CENTRAL ELECTRODOMESTICOS NOROESTE</td>\n",
       "      <td>SL</td>\n",
       "      <td>Nombramientos.</td>\n",
       "      <td>consejero</td>\n",
       "      <td>44_5</td>\n",
       "      <td>GONZALEZ  CONDE  CARLOS</td>\n",
       "      <td>11/02/2010</td>\n",
       "      <td>901731.0</td>\n",
       "      <td>CENTRAL ELECTRODOMESTICOS NOROESTE</td>\n",
       "      <td>B15371222</td>\n",
       "      <td>CENTRAL ELECTRODOMESTICOS NOROESTE</td>\n",
       "    </tr>\n",
       "    <tr>\n",
       "      <th>4</th>\n",
       "      <td>6826521</td>\n",
       "      <td>CENTRAL ELECTRODOMESTICOS NOROESTE</td>\n",
       "      <td>SL</td>\n",
       "      <td>Nombramientos.</td>\n",
       "      <td>consejero</td>\n",
       "      <td>44_5</td>\n",
       "      <td>DOMINGUEZ  VILA  MARCOS</td>\n",
       "      <td>11/02/2010</td>\n",
       "      <td>901731.0</td>\n",
       "      <td>CENTRAL ELECTRODOMESTICOS NOROESTE</td>\n",
       "      <td>B15371222</td>\n",
       "      <td>CENTRAL ELECTRODOMESTICOS NOROESTE</td>\n",
       "    </tr>\n",
       "  </tbody>\n",
       "</table>\n",
       "</div>"
      ],
      "text/plain": [
       "   allborme_22022016_cclie.i        allborme_22022016_cclie.firm  \\\n",
       "0                    6826517  CENTRAL ELECTRODOMESTICOS NOROESTE   \n",
       "1                    6826518  CENTRAL ELECTRODOMESTICOS NOROESTE   \n",
       "2                    6826519  CENTRAL ELECTRODOMESTICOS NOROESTE   \n",
       "3                    6826520  CENTRAL ELECTRODOMESTICOS NOROESTE   \n",
       "4                    6826521  CENTRAL ELECTRODOMESTICOS NOROESTE   \n",
       "\n",
       "  allborme_22022016_cclie.razon allborme_22022016_cclie.event  \\\n",
       "0                            SL                Nombramientos.   \n",
       "1                            SL                Nombramientos.   \n",
       "2                            SL                Nombramientos.   \n",
       "3                            SL                Nombramientos.   \n",
       "4                            SL                Nombramientos.   \n",
       "\n",
       "  allborme_22022016_cclie.subevent allborme_22022016_cclie.cod_event  \\\n",
       "0                   vicepresidente                             44_14   \n",
       "1                       secretario                              44_9   \n",
       "2                        consejero                              44_5   \n",
       "3                        consejero                              44_5   \n",
       "4                        consejero                              44_5   \n",
       "\n",
       "   allborme_22022016_cclie.actor allborme_22022016_cclie.publication_date  \\\n",
       "0      PENA RUSHTON JUAN ANTONIO                               11/02/2010   \n",
       "1            BABIO  LOPEZ  JESUS                               11/02/2010   \n",
       "2  QUEIJO  COLLAZO  MARIA OTILIA                               11/02/2010   \n",
       "3        GONZALEZ  CONDE  CARLOS                               11/02/2010   \n",
       "4        DOMINGUEZ  VILA  MARCOS                               11/02/2010   \n",
       "\n",
       "   allborme_22022016_cclie.cod_persctpn  allborme_22022016_cclie.firm_clean  \\\n",
       "0                              901731.0  CENTRAL ELECTRODOMESTICOS NOROESTE   \n",
       "1                              901731.0  CENTRAL ELECTRODOMESTICOS NOROESTE   \n",
       "2                              901731.0  CENTRAL ELECTRODOMESTICOS NOROESTE   \n",
       "3                              901731.0  CENTRAL ELECTRODOMESTICOS NOROESTE   \n",
       "4                              901731.0  CENTRAL ELECTRODOMESTICOS NOROESTE   \n",
       "\n",
       "  allborme_22022016_cclie.nif    allborme_22022016_cclie.new_firm  \n",
       "0                   B15371222  CENTRAL ELECTRODOMESTICOS NOROESTE  \n",
       "1                   B15371222  CENTRAL ELECTRODOMESTICOS NOROESTE  \n",
       "2                   B15371222  CENTRAL ELECTRODOMESTICOS NOROESTE  \n",
       "3                   B15371222  CENTRAL ELECTRODOMESTICOS NOROESTE  \n",
       "4                   B15371222  CENTRAL ELECTRODOMESTICOS NOROESTE  "
      ]
     },
     "execution_count": 31,
     "metadata": {},
     "output_type": "execute_result"
    }
   ],
   "source": [
    "na_values = ['.', '', 'NULL','NaN']\n",
    "dftemp = pd.read_csv('../../data/datasets/2015BORMEEvents.csv',na_values=na_values,encoding='utf-8')\n",
    "dftemp1 = pd.read_csv('../../data/datasets/2014BORMEEvents.csv',na_values=na_values,encoding='utf-8')\n",
    "\n",
    "dftemp.head()"
   ]
  },
  {
   "cell_type": "code",
   "execution_count": 39,
   "metadata": {
    "collapsed": true
   },
   "outputs": [],
   "source": [
    "dftemp3=pd.concat([dftemp,dftemp1])"
   ]
  },
  {
   "cell_type": "code",
   "execution_count": 40,
   "metadata": {
    "collapsed": false
   },
   "outputs": [
    {
     "data": {
      "text/plain": [
       "(1666664, 12)"
      ]
     },
     "execution_count": 40,
     "metadata": {},
     "output_type": "execute_result"
    }
   ],
   "source": [
    "dftemp3.shape"
   ]
  },
  {
   "cell_type": "code",
   "execution_count": 41,
   "metadata": {
    "collapsed": false
   },
   "outputs": [
    {
     "data": {
      "text/plain": [
       "allborme_22022016_cclie.i                   False\n",
       "allborme_22022016_cclie.firm                 True\n",
       "allborme_22022016_cclie.razon                True\n",
       "allborme_22022016_cclie.event               False\n",
       "allborme_22022016_cclie.subevent             True\n",
       "allborme_22022016_cclie.cod_event            True\n",
       "allborme_22022016_cclie.actor                True\n",
       "allborme_22022016_cclie.publication_date    False\n",
       "allborme_22022016_cclie.cod_persctpn         True\n",
       "allborme_22022016_cclie.firm_clean           True\n",
       "allborme_22022016_cclie.nif                  True\n",
       "allborme_22022016_cclie.new_firm             True\n",
       "dtype: bool"
      ]
     },
     "execution_count": 41,
     "metadata": {},
     "output_type": "execute_result"
    }
   ],
   "source": [
    "dftemp3.isnull().any()"
   ]
  },
  {
   "cell_type": "code",
   "execution_count": 42,
   "metadata": {
    "collapsed": false
   },
   "outputs": [
    {
     "name": "stdout",
     "output_type": "stream",
     "text": [
      "833332\n",
      "833332\n",
      "1666664\n"
     ]
    }
   ],
   "source": [
    "print len(dftemp)\n",
    "print len(dftemp1)\n",
    "print len(dftemp3)"
   ]
  },
  {
   "cell_type": "code",
   "execution_count": 43,
   "metadata": {
    "collapsed": false
   },
   "outputs": [
    {
     "data": {
      "text/plain": [
       "allborme_22022016_cclie.i                     int64\n",
       "allborme_22022016_cclie.firm                 object\n",
       "allborme_22022016_cclie.razon                object\n",
       "allborme_22022016_cclie.event                object\n",
       "allborme_22022016_cclie.subevent             object\n",
       "allborme_22022016_cclie.cod_event            object\n",
       "allborme_22022016_cclie.actor                object\n",
       "allborme_22022016_cclie.publication_date     object\n",
       "allborme_22022016_cclie.cod_persctpn        float64\n",
       "allborme_22022016_cclie.firm_clean           object\n",
       "allborme_22022016_cclie.nif                  object\n",
       "allborme_22022016_cclie.new_firm             object\n",
       "dtype: object"
      ]
     },
     "execution_count": 43,
     "metadata": {},
     "output_type": "execute_result"
    }
   ],
   "source": [
    "dftemp3.dtypes"
   ]
  },
  {
   "cell_type": "code",
   "execution_count": 44,
   "metadata": {
    "collapsed": false
   },
   "outputs": [
    {
     "name": "stdout",
     "output_type": "stream",
     "text": [
      "        allborme_22022016_cclie.i  \\\n",
      "0                         6826517   \n",
      "1                         6826518   \n",
      "2                         6826519   \n",
      "3                         6826520   \n",
      "4                         6826521   \n",
      "5                         6826522   \n",
      "6                         6826523   \n",
      "7                         6826524   \n",
      "8                         6826525   \n",
      "9                         6826526   \n",
      "10                        6826527   \n",
      "11                        6826528   \n",
      "12                        6826529   \n",
      "13                        6826530   \n",
      "14                        6826531   \n",
      "15                        6826532   \n",
      "16                        6826533   \n",
      "17                        6826534   \n",
      "18                        6826535   \n",
      "19                        6826536   \n",
      "20                        6826537   \n",
      "21                        6826538   \n",
      "22                        6826539   \n",
      "23                        6826540   \n",
      "24                        6826541   \n",
      "25                        6826542   \n",
      "26                        6826543   \n",
      "27                        6826544   \n",
      "28                        6826545   \n",
      "29                        6826546   \n",
      "...                           ...   \n",
      "833302                    4349900   \n",
      "833303                    4349901   \n",
      "833304                    4349902   \n",
      "833305                    4349903   \n",
      "833306                    4349904   \n",
      "833307                    4349905   \n",
      "833308                    4349906   \n",
      "833309                    4349907   \n",
      "833310                    4349908   \n",
      "833311                    4349909   \n",
      "833312                    4349910   \n",
      "833313                    4349911   \n",
      "833314                    4349912   \n",
      "833315                    4349913   \n",
      "833316                    4349914   \n",
      "833317                    4349915   \n",
      "833318                    4349916   \n",
      "833319                    4349917   \n",
      "833320                    4349918   \n",
      "833321                    4349919   \n",
      "833322                    4349920   \n",
      "833323                    4349921   \n",
      "833324                    4349922   \n",
      "833325                    4349923   \n",
      "833326                    4349924   \n",
      "833327                    4349925   \n",
      "833328                    4349926   \n",
      "833329                    4349927   \n",
      "833330                    4349928   \n",
      "833331                    4349929   \n",
      "\n",
      "                             allborme_22022016_cclie.firm  \\\n",
      "0                      CENTRAL ELECTRODOMESTICOS NOROESTE   \n",
      "1                      CENTRAL ELECTRODOMESTICOS NOROESTE   \n",
      "2                      CENTRAL ELECTRODOMESTICOS NOROESTE   \n",
      "3                      CENTRAL ELECTRODOMESTICOS NOROESTE   \n",
      "4                      CENTRAL ELECTRODOMESTICOS NOROESTE   \n",
      "5                      CENTRAL ELECTRODOMESTICOS NOROESTE   \n",
      "6                      CENTRAL ELECTRODOMESTICOS NOROESTE   \n",
      "7                      CENTRAL ELECTRODOMESTICOS NOROESTE   \n",
      "8                      CENTRAL ELECTRODOMESTICOS NOROESTE   \n",
      "9                      CENTRAL ELECTRODOMESTICOS NOROESTE   \n",
      "10                     CENTRAL ELECTRODOMESTICOS NOROESTE   \n",
      "11                     CENTRAL ELECTRODOMESTICOS NOROESTE   \n",
      "12                     CENTRAL ELECTRODOMESTICOS NOROESTE   \n",
      "13                               GENS DIGITAL INCORPORATE   \n",
      "14                               GENS DIGITAL INCORPORATE   \n",
      "15                                       ENCOMUN ANALISIS   \n",
      "16                                       ENCOMUN ANALISIS   \n",
      "17                                        CARNICAS ALBINO   \n",
      "18                                URBANIZADORA PENINSULAR   \n",
      "19                                               RALOCASA   \n",
      "20                              MAEXPA GRUPO INMOBILIARIO   \n",
      "21                              MAEXPA GRUPO INMOBILIARIO   \n",
      "22                              MAEXPA GRUPO INMOBILIARIO   \n",
      "23                                       BREACAR SANTIAGO   \n",
      "24                                       BREACAR SANTIAGO   \n",
      "25                                       BREACAR SANTIAGO   \n",
      "26                                          GEXPA GESTION   \n",
      "27                                   INSTITUTO PEDIATRICO   \n",
      "28                                   INSTITUTO PEDIATRICO   \n",
      "29                                   INSTITUTO PEDIATRICO   \n",
      "...                                                   ...   \n",
      "833302                                   AUTOMATICOS C.L.   \n",
      "833303                                   AUTOMATICOS C.L.   \n",
      "833304                              RUSTICAS ROQUETAS 001   \n",
      "833305                                           ASPAPROS   \n",
      "833306                                           ASPAPROS   \n",
      "833307            TALLER DE CHAPA Y PINTURA HNOS POVEDANO   \n",
      "833308                                             CRUMAR   \n",
      "833309                               BEALMERIA PROMOTORES   \n",
      "833310                               BEALMERIA PROMOTORES   \n",
      "833311                               BEALMERIA PROMOTORES   \n",
      "833312                                      MORE LIFE VAP   \n",
      "833313                                      MORE LIFE VAP   \n",
      "833314                                      MORE LIFE VAP   \n",
      "833315                                MEZUR INSTALACIONES   \n",
      "833316                                MEZUR INSTALACIONES   \n",
      "833317                                          FEGA-2004   \n",
      "833318                                   SOL DEL GUADIANA   \n",
      "833319                                APORTES ENERGETICOS   \n",
      "833320  SUMINISTRO DE MATERIALES DE CONSTRUCCION EXTRE...   \n",
      "833321          SUMAN INGENIERIA Y SERVICIOS DE SEGURIDAD   \n",
      "833322                   JOCA INGENIERIA Y CONSTRUCCIONES   \n",
      "833323                                        RESTAMERIDA   \n",
      "833324                                        RESTAMERIDA   \n",
      "833325                                     OLEOVENZA 2014   \n",
      "833326                                     OLEOVENZA 2014   \n",
      "833327                                           CIFUCANO   \n",
      "833328                                           CIFUCANO   \n",
      "833329                                    NUTREX AGRIFOOD   \n",
      "833330                                    NUTREX AGRIFOOD   \n",
      "833331                                    NUTREX AGRIFOOD   \n",
      "\n",
      "       allborme_22022016_cclie.razon    allborme_22022016_cclie.event  \\\n",
      "0                                 SL                   Nombramientos.   \n",
      "1                                 SL                   Nombramientos.   \n",
      "2                                 SL                   Nombramientos.   \n",
      "3                                 SL                   Nombramientos.   \n",
      "4                                 SL                   Nombramientos.   \n",
      "5                                 SL                    Reelecciones.   \n",
      "6                                 SL                    Reelecciones.   \n",
      "7                                 SL                    Reelecciones.   \n",
      "8                                 SL                    Reelecciones.   \n",
      "9                                 SL                Ceses/Dimisiones.   \n",
      "10                                SL                Ceses/Dimisiones.   \n",
      "11                                SL                Ceses/Dimisiones.   \n",
      "12                                SL     Modificaciones estatutarias.   \n",
      "13                                SL     Modificaciones estatutarias.   \n",
      "14                                SL      Cambio de domicilio social.   \n",
      "15                                SL     Modificaciones estatutarias.   \n",
      "16                                SL      Cambio de domicilio social.   \n",
      "17                                SL             Situación concursal.   \n",
      "18                                SL                   Nombramientos.   \n",
      "19                                SL                    Reelecciones.   \n",
      "20                                SL                   Nombramientos.   \n",
      "21                                SL                    Reelecciones.   \n",
      "22                                SL                    Constitución.   \n",
      "23                                SL                   Nombramientos.   \n",
      "24                                SL                   Nombramientos.   \n",
      "25                                SL                   Nombramientos.   \n",
      "26                                SL                    Reelecciones.   \n",
      "27                                SL                   Nombramientos.   \n",
      "28                                SL                Ceses/Dimisiones.   \n",
      "29                                SL                      Disolución.   \n",
      "...                              ...                              ...   \n",
      "833302                            SL                      Disolución.   \n",
      "833303                            SL                       Extinción.   \n",
      "833304                            SL                   Nombramientos.   \n",
      "833305             SOCIEDAD LIMITADA     Modificaciones estatutarias.   \n",
      "833306             SOCIEDAD LIMITADA    Ampliacion del objeto social.   \n",
      "833307                           SLL             Situación concursal.   \n",
      "833308             SA EN LIQUIDACION             Situación concursal.   \n",
      "833309             SOCIEDAD LIMITADA                   Nombramientos.   \n",
      "833310             SOCIEDAD LIMITADA  Declaración de unipersonalidad.   \n",
      "833311             SOCIEDAD LIMITADA                    Constitución.   \n",
      "833312             SOCIEDAD LIMITADA                   Nombramientos.   \n",
      "833313             SOCIEDAD LIMITADA  Declaración de unipersonalidad.   \n",
      "833314             SOCIEDAD LIMITADA      Cambio de domicilio social.   \n",
      "833315             SOCIEDAD LIMITADA                   Nombramientos.   \n",
      "833316             SOCIEDAD LIMITADA  Declaración de unipersonalidad.   \n",
      "833317                            SL                   Fe de erratas.   \n",
      "833318                            SL                   Nombramientos.   \n",
      "833319                            SL                   Nombramientos.   \n",
      "833320                            SL                   Nombramientos.   \n",
      "833321                            SL                   Nombramientos.   \n",
      "833322                            SA                   Nombramientos.   \n",
      "833323                            SL                   Nombramientos.   \n",
      "833324                            SL                    Constitución.   \n",
      "833325                            SL     Modificaciones estatutarias.   \n",
      "833326                            SL           Ampliación de capital.   \n",
      "833327                            SL     Modificaciones estatutarias.   \n",
      "833328                            SL           Ampliación de capital.   \n",
      "833329                            SL                   Nombramientos.   \n",
      "833330                            SL  Declaración de unipersonalidad.   \n",
      "833331                            SL                    Constitución.   \n",
      "\n",
      "       allborme_22022016_cclie.subevent allborme_22022016_cclie.cod_event  \\\n",
      "0                        vicepresidente                             44_14   \n",
      "1                            secretario                              44_9   \n",
      "2                             consejero                              44_5   \n",
      "3                             consejero                              44_5   \n",
      "4                             consejero                              44_5   \n",
      "5                             consejero                              46_5   \n",
      "6                             consejero                              46_5   \n",
      "7                             consejero                              46_5   \n",
      "8                            presidente                             46_13   \n",
      "9                             consejero                              42_5   \n",
      "10                            consejero                              42_5   \n",
      "11                           secretario                              42_9   \n",
      "12                                otros                               702   \n",
      "13                                otros                               702   \n",
      "14                                  NaN                               603   \n",
      "15                                otros                               702   \n",
      "16                                  NaN                               603   \n",
      "17                         num_concurso                                26   \n",
      "18                              auditor                             44_25   \n",
      "19                              auditor                             46_25   \n",
      "20                          admin_unico                              44_2   \n",
      "21                              auditor                             46_25   \n",
      "22                                  NaN                                40   \n",
      "23                      apoderado_solid                             44_22   \n",
      "24                      apoderado_solid                             44_22   \n",
      "25                      apoderado_solid                             44_22   \n",
      "26                              auditor                             46_25   \n",
      "27                           liquidador                             44_15   \n",
      "28                          admin_unico                              42_2   \n",
      "29                           voluntaria                                16   \n",
      "...                                 ...                               ...   \n",
      "833302                       voluntaria                                16   \n",
      "833303                            otros                              16_1   \n",
      "833304                        apoderado                             44_21   \n",
      "833305                            otros                               702   \n",
      "833306                              NaN                               NaN   \n",
      "833307                     num_concurso                                26   \n",
      "833308                     num_concurso                                26   \n",
      "833309                      admin_unico                              44_2   \n",
      "833310                      socio_unico                              50_1   \n",
      "833311                              NaN                                40   \n",
      "833312                      admin_unico                              44_2   \n",
      "833313                      socio_unico                              50_1   \n",
      "833314                              NaN                               603   \n",
      "833315                      admin_unico                              44_2   \n",
      "833316                      socio_unico                              50_1   \n",
      "833317                            otros                               700   \n",
      "833318                        apoderado                             44_21   \n",
      "833319                        apoderado                             44_21   \n",
      "833320                        apoderado                             44_21   \n",
      "833321                        apoderado                             44_21   \n",
      "833322                          auditor                             44_25   \n",
      "833323                      admin_unico                              44_2   \n",
      "833324                              NaN                                40   \n",
      "833325                            otros                               702   \n",
      "833326                              NaN                                18   \n",
      "833327                            otros                               702   \n",
      "833328                              NaN                                18   \n",
      "833329                      admin_unico                              44_2   \n",
      "833330                      socio_unico                              50_1   \n",
      "833331                              NaN                                40   \n",
      "\n",
      "                allborme_22022016_cclie.actor  \\\n",
      "0                   PENA RUSHTON JUAN ANTONIO   \n",
      "1                         BABIO  LOPEZ  JESUS   \n",
      "2               QUEIJO  COLLAZO  MARIA OTILIA   \n",
      "3                     GONZALEZ  CONDE  CARLOS   \n",
      "4                     DOMINGUEZ  VILA  MARCOS   \n",
      "5                   PENA RUSHTON JUAN ANTONIO   \n",
      "6                           BABIO LOPEZ JESUS   \n",
      "7                        RATO OLAY JOSE RAMON   \n",
      "8                        RATO OLAY JOSE RAMON   \n",
      "9                      SANESTEBAN VEZ MARCIAL   \n",
      "10                   GARCIA FERNANDEZ ANTONIO   \n",
      "11                     SANESTEBAN VEZ MARCIAL   \n",
      "12                                        NaN   \n",
      "13                                        NaN   \n",
      "14                                        NaN   \n",
      "15                                        NaN   \n",
      "16                                        NaN   \n",
      "17                                   141/2009   \n",
      "18                                  AUCTOR SL   \n",
      "19                                  AUCTOR SL   \n",
      "20                                VEYMOSAN SL   \n",
      "21                                  AUCTOR SL   \n",
      "22                                        NaN   \n",
      "23                       HERVES ALVAREZ PEDRO   \n",
      "24                    BREA HERVES MARIA ELENA   \n",
      "25                      BREA HERVES JOSE LUIS   \n",
      "26                                  AUCTOR SL   \n",
      "27               FERNANDEZ LORENZO JOSE RAMON   \n",
      "28               FERNANDEZ LORENZO JOSE RAMON   \n",
      "29                                Voluntaria.   \n",
      "...                                       ...   \n",
      "833302                            Voluntaria.   \n",
      "833303                                    NaN   \n",
      "833304                       LOPEZ RIVAS LUIS   \n",
      "833305                                    NaN   \n",
      "833306                                    NaN   \n",
      "833307                               513/2014   \n",
      "833308                               485/2013   \n",
      "833309         FLORES FLORES MARIA DEL CARMEN   \n",
      "833310             NUÑEZ QUILES PEDRO ANTONIO   \n",
      "833311                                    NaN   \n",
      "833312  RODRIGUEZ  HANNIKAINEN  KENNET  DAVEN   \n",
      "833313     RODRIGUEZ HANNIKAINEN KENNET DAVEN   \n",
      "833314                                    NaN   \n",
      "833315                      PECO MOLINA DAVID   \n",
      "833316                      PECO MOLINA DAVID   \n",
      "833317                                    NaN   \n",
      "833318                      MERA GOMEZ LEONOR   \n",
      "833319                      MERA GOMEZ LEONOR   \n",
      "833320                      MERA GOMEZ LEONOR   \n",
      "833321              SERRANO EPAIZABAL ALBERTO   \n",
      "833322                ESTEO SANCHEZ FRANCISCO   \n",
      "833323           GARCIA SANTAMARIA JUAN FELIX   \n",
      "833324                                    NaN   \n",
      "833325                                    NaN   \n",
      "833326                                    NaN   \n",
      "833327                                    NaN   \n",
      "833328                                    NaN   \n",
      "833329            GARCIA GUILLEN MANUEL JESUS   \n",
      "833330            GARCIA GUILLEN MANUEL JESUS   \n",
      "833331                                    NaN   \n",
      "\n",
      "       allborme_22022016_cclie.publication_date  \\\n",
      "0                                    11/02/2010   \n",
      "1                                    11/02/2010   \n",
      "2                                    11/02/2010   \n",
      "3                                    11/02/2010   \n",
      "4                                    11/02/2010   \n",
      "5                                    11/02/2010   \n",
      "6                                    11/02/2010   \n",
      "7                                    11/02/2010   \n",
      "8                                    11/02/2010   \n",
      "9                                    11/02/2010   \n",
      "10                                   11/02/2010   \n",
      "11                                   11/02/2010   \n",
      "12                                   11/02/2010   \n",
      "13                                   11/02/2010   \n",
      "14                                   11/02/2010   \n",
      "15                                   11/02/2010   \n",
      "16                                   11/02/2010   \n",
      "17                                   11/02/2010   \n",
      "18                                   11/02/2010   \n",
      "19                                   11/02/2010   \n",
      "20                                   11/02/2010   \n",
      "21                                   11/02/2010   \n",
      "22                                   11/02/2010   \n",
      "23                                   11/02/2010   \n",
      "24                                   11/02/2010   \n",
      "25                                   11/02/2010   \n",
      "26                                   11/02/2010   \n",
      "27                                   11/02/2010   \n",
      "28                                   11/02/2010   \n",
      "29                                   11/02/2010   \n",
      "...                                         ...   \n",
      "833302                               31/03/2015   \n",
      "833303                               31/03/2015   \n",
      "833304                               31/03/2015   \n",
      "833305                               31/03/2015   \n",
      "833306                               31/03/2015   \n",
      "833307                               31/03/2015   \n",
      "833308                               31/03/2015   \n",
      "833309                               31/03/2015   \n",
      "833310                               31/03/2015   \n",
      "833311                               31/03/2015   \n",
      "833312                               31/03/2015   \n",
      "833313                               31/03/2015   \n",
      "833314                               31/03/2015   \n",
      "833315                               31/03/2015   \n",
      "833316                               31/03/2015   \n",
      "833317                               31/03/2015   \n",
      "833318                               31/03/2015   \n",
      "833319                               31/03/2015   \n",
      "833320                               31/03/2015   \n",
      "833321                               31/03/2015   \n",
      "833322                               31/03/2015   \n",
      "833323                               31/03/2015   \n",
      "833324                               31/03/2015   \n",
      "833325                               31/03/2015   \n",
      "833326                               31/03/2015   \n",
      "833327                               31/03/2015   \n",
      "833328                               31/03/2015   \n",
      "833329                               31/03/2015   \n",
      "833330                               31/03/2015   \n",
      "833331                               31/03/2015   \n",
      "\n",
      "        allborme_22022016_cclie.cod_persctpn  \\\n",
      "0                                   901731.0   \n",
      "1                                   901731.0   \n",
      "2                                   901731.0   \n",
      "3                                   901731.0   \n",
      "4                                   901731.0   \n",
      "5                                   901731.0   \n",
      "6                                   901731.0   \n",
      "7                                   901731.0   \n",
      "8                                   901731.0   \n",
      "9                                   901731.0   \n",
      "10                                  901731.0   \n",
      "11                                  901731.0   \n",
      "12                                  901731.0   \n",
      "13                               998191371.0   \n",
      "14                               998191371.0   \n",
      "15                               997154026.0   \n",
      "16                               997154026.0   \n",
      "17                                 6067272.0   \n",
      "18                                 5462048.0   \n",
      "19                                18061127.0   \n",
      "20                                       NaN   \n",
      "21                                       NaN   \n",
      "22                                       NaN   \n",
      "23                                32223768.0   \n",
      "24                                32223768.0   \n",
      "25                                32223768.0   \n",
      "26                               997325877.0   \n",
      "27                                21692415.0   \n",
      "28                                21692415.0   \n",
      "29                                21692415.0   \n",
      "...                                      ...   \n",
      "833302                                   NaN   \n",
      "833303                                   NaN   \n",
      "833304                           987126893.0   \n",
      "833305                           998567227.0   \n",
      "833306                           998567227.0   \n",
      "833307                           997352415.0   \n",
      "833308                           997383556.0   \n",
      "833309                           983156939.0   \n",
      "833310                           983156939.0   \n",
      "833311                           983156939.0   \n",
      "833312                           997977872.0   \n",
      "833313                           997977872.0   \n",
      "833314                           997977872.0   \n",
      "833315                           983157007.0   \n",
      "833316                           983157007.0   \n",
      "833317                           998561745.0   \n",
      "833318                           998561114.0   \n",
      "833319                            28423451.0   \n",
      "833320                                   NaN   \n",
      "833321                           986976552.0   \n",
      "833322                            13627476.0   \n",
      "833323                            35395228.0   \n",
      "833324                            35395228.0   \n",
      "833325                            33447742.0   \n",
      "833326                            33447742.0   \n",
      "833327                           986988173.0   \n",
      "833328                           986988173.0   \n",
      "833329                           983156853.0   \n",
      "833330                           983156853.0   \n",
      "833331                           983156853.0   \n",
      "\n",
      "               allborme_22022016_cclie.firm_clean allborme_22022016_cclie.nif  \\\n",
      "0              CENTRAL ELECTRODOMESTICOS NOROESTE                   B15371222   \n",
      "1              CENTRAL ELECTRODOMESTICOS NOROESTE                   B15371222   \n",
      "2              CENTRAL ELECTRODOMESTICOS NOROESTE                   B15371222   \n",
      "3              CENTRAL ELECTRODOMESTICOS NOROESTE                   B15371222   \n",
      "4              CENTRAL ELECTRODOMESTICOS NOROESTE                   B15371222   \n",
      "5              CENTRAL ELECTRODOMESTICOS NOROESTE                   B15371222   \n",
      "6              CENTRAL ELECTRODOMESTICOS NOROESTE                   B15371222   \n",
      "7              CENTRAL ELECTRODOMESTICOS NOROESTE                   B15371222   \n",
      "8              CENTRAL ELECTRODOMESTICOS NOROESTE                   B15371222   \n",
      "9              CENTRAL ELECTRODOMESTICOS NOROESTE                   B15371222   \n",
      "10             CENTRAL ELECTRODOMESTICOS NOROESTE                   B15371222   \n",
      "11             CENTRAL ELECTRODOMESTICOS NOROESTE                   B15371222   \n",
      "12             CENTRAL ELECTRODOMESTICOS NOROESTE                   B15371222   \n",
      "13                       GENS DIGITAL INCORPORATE                   B70180260   \n",
      "14                       GENS DIGITAL INCORPORATE                   B70180260   \n",
      "15                               ENCOMUN ANALISIS                   B70159405   \n",
      "16                               ENCOMUN ANALISIS                   B70159405   \n",
      "17                                CARNICAS ALBINO                   B15447634   \n",
      "18                        URBANIZADORA PENINSULAR                   B15856248   \n",
      "19                                       RALOCASA                   B15804404   \n",
      "20                                            NaN                         NaN   \n",
      "21                                            NaN                         NaN   \n",
      "22                                            NaN                         NaN   \n",
      "23                               BREACAR SANTIAGO                   B70237375   \n",
      "24                               BREACAR SANTIAGO                   B70237375   \n",
      "25                               BREACAR SANTIAGO                   B70237375   \n",
      "26                                  GEXPA GESTION                   B15647795   \n",
      "27                           INSTITUTO PEDIATRICO                   B15920358   \n",
      "28                           INSTITUTO PEDIATRICO                   B15920358   \n",
      "29                           INSTITUTO PEDIATRICO                   B15920358   \n",
      "...                                           ...                         ...   \n",
      "833302                                        NaN                         NaN   \n",
      "833303                                        NaN                         NaN   \n",
      "833304                      RUSTICAS ROQUETAS 001                   B04799581   \n",
      "833305                                   ASPAPROS                   B04711941   \n",
      "833306                                   ASPAPROS                   B04711941   \n",
      "833307    TALLER DE CHAPA Y PINTURA HNOS POVEDANO                   B04625489   \n",
      "833308                                     CRUMAR                   A04111308   \n",
      "833309                       BEALMERIA PROMOTORES                   B04812285   \n",
      "833310                       BEALMERIA PROMOTORES                   B04812285   \n",
      "833311                       BEALMERIA PROMOTORES                   B04812285   \n",
      "833312                              MORE LIFE VAP                   B04776456   \n",
      "833313                              MORE LIFE VAP                   B04776456   \n",
      "833314                              MORE LIFE VAP                   B04776456   \n",
      "833315                        MEZUR INSTALACIONES                   B04812301   \n",
      "833316                        MEZUR INSTALACIONES                   B04812301   \n",
      "833317                                  FEGA-2004                   B06413397   \n",
      "833318                           SOL DEL GUADIANA                   B06462121   \n",
      "833319                        APORTES ENERGETICOS                   B06495568   \n",
      "833320                                        NaN                         NaN   \n",
      "833321  SUMAN INGENIERIA Y SERVICIOS DE SEGURIDAD                   B82109703   \n",
      "833322           JOCA INGENIERIA Y CONSTRUCCIONES                   A06009104   \n",
      "833323                                RESTAMERIDA                   B06675037   \n",
      "833324                                RESTAMERIDA                   B06675037   \n",
      "833325                             OLEOVENZA 2014                   B06477244   \n",
      "833326                             OLEOVENZA 2014                   B06477244   \n",
      "833327                                   CIFUCANO                   B06667158   \n",
      "833328                                   CIFUCANO                   B06667158   \n",
      "833329                            NUTREX AGRIFOOD                   B06671903   \n",
      "833330                            NUTREX AGRIFOOD                   B06671903   \n",
      "833331                            NUTREX AGRIFOOD                   B06671903   \n",
      "\n",
      "                         allborme_22022016_cclie.new_firm  \n",
      "0                      CENTRAL ELECTRODOMESTICOS NOROESTE  \n",
      "1                      CENTRAL ELECTRODOMESTICOS NOROESTE  \n",
      "2                      CENTRAL ELECTRODOMESTICOS NOROESTE  \n",
      "3                      CENTRAL ELECTRODOMESTICOS NOROESTE  \n",
      "4                      CENTRAL ELECTRODOMESTICOS NOROESTE  \n",
      "5                      CENTRAL ELECTRODOMESTICOS NOROESTE  \n",
      "6                      CENTRAL ELECTRODOMESTICOS NOROESTE  \n",
      "7                      CENTRAL ELECTRODOMESTICOS NOROESTE  \n",
      "8                      CENTRAL ELECTRODOMESTICOS NOROESTE  \n",
      "9                      CENTRAL ELECTRODOMESTICOS NOROESTE  \n",
      "10                     CENTRAL ELECTRODOMESTICOS NOROESTE  \n",
      "11                     CENTRAL ELECTRODOMESTICOS NOROESTE  \n",
      "12                     CENTRAL ELECTRODOMESTICOS NOROESTE  \n",
      "13                               GENS DIGITAL INCORPORATE  \n",
      "14                               GENS DIGITAL INCORPORATE  \n",
      "15                                       ENCOMUN ANALISIS  \n",
      "16                                       ENCOMUN ANALISIS  \n",
      "17                                        CARNICAS ALBINO  \n",
      "18                                URBANIZADORA PENINSULAR  \n",
      "19                                               RALOCASA  \n",
      "20                              MAEXPA GRUPO INMOBILIARIO  \n",
      "21                              MAEXPA GRUPO INMOBILIARIO  \n",
      "22                              MAEXPA GRUPO INMOBILIARIO  \n",
      "23                                       BREACAR SANTIAGO  \n",
      "24                                       BREACAR SANTIAGO  \n",
      "25                                       BREACAR SANTIAGO  \n",
      "26                                          GEXPA GESTION  \n",
      "27                                   INSTITUTO PEDIATRICO  \n",
      "28                                   INSTITUTO PEDIATRICO  \n",
      "29                                   INSTITUTO PEDIATRICO  \n",
      "...                                                   ...  \n",
      "833302                                   AUTOMATICOS C.L.  \n",
      "833303                                   AUTOMATICOS C.L.  \n",
      "833304                              RUSTICAS ROQUETAS 001  \n",
      "833305                                           ASPAPROS  \n",
      "833306                                           ASPAPROS  \n",
      "833307            TALLER DE CHAPA Y PINTURA HNOS POVEDANO  \n",
      "833308                                             CRUMAR  \n",
      "833309                               BEALMERIA PROMOTORES  \n",
      "833310                               BEALMERIA PROMOTORES  \n",
      "833311                               BEALMERIA PROMOTORES  \n",
      "833312                                      MORE LIFE VAP  \n",
      "833313                                      MORE LIFE VAP  \n",
      "833314                                      MORE LIFE VAP  \n",
      "833315                                MEZUR INSTALACIONES  \n",
      "833316                                MEZUR INSTALACIONES  \n",
      "833317                                          FEGA-2004  \n",
      "833318                                   SOL DEL GUADIANA  \n",
      "833319                                APORTES ENERGETICOS  \n",
      "833320  SUMINISTRO DE MATERIALES DE CONSTRUCCION EXTRE...  \n",
      "833321          SUMAN INGENIERIA Y SERVICIOS DE SEGURIDAD  \n",
      "833322                   JOCA INGENIERIA Y CONSTRUCCIONES  \n",
      "833323                                        RESTAMERIDA  \n",
      "833324                                        RESTAMERIDA  \n",
      "833325                                     OLEOVENZA 2014  \n",
      "833326                                     OLEOVENZA 2014  \n",
      "833327                                           CIFUCANO  \n",
      "833328                                           CIFUCANO  \n",
      "833329                                    NUTREX AGRIFOOD  \n",
      "833330                                    NUTREX AGRIFOOD  \n",
      "833331                                    NUTREX AGRIFOOD  \n",
      "\n",
      "[1666664 rows x 12 columns]\n"
     ]
    }
   ],
   "source": [
    "print dftemp3"
   ]
  },
  {
   "cell_type": "code",
   "execution_count": 45,
   "metadata": {
    "collapsed": false
   },
   "outputs": [
    {
     "name": "stdout",
     "output_type": "stream",
     "text": [
      "\n",
      "Conjunto de empresas:\n",
      "[u'CENTRAL ELECTRODOMESTICOS NOROESTE' u'GENS DIGITAL INCORPORATE'\n",
      " u'ENCOMUN ANALISIS' ..., u'RESTAMERIDA' u'OLEOVENZA 2014'\n",
      " u'NUTREX AGRIFOOD']\n",
      "\n",
      "Razón social:\n",
      "[u'SL' u'SA' u'SLL' nan u'SOCIEDAD ANONIMA' u'SA EN LIQUIDACION' u'SICAV'\n",
      " u'SL EN LIQUIDACION' u'SOCIEDAD LIMITADA' u'SLP EN LIQUIDACION' u'SLP'\n",
      " u'SICAV SA' u'SICAV SOCIEDAD ANONIMA' u'SC' u'SOCIEDAD'\n",
      " u'SOCIEDAD CIVIL PROFESIONAL' u'SA SOCIEDAD ANONIMA'\n",
      " u'SOCIEDAD DE RESPONSABILIDAD LIMITADA EN LIQUIDACION'\n",
      " u'SOCIEDAD DE RESPONSABILIDAD LIMITADA' u'SA SOCIEDAD LIMITADA'\n",
      " u'SGA SOCIEDAD LIMITADA' u'SOCIEDAD LIMITADA EN LIQUIDACION'\n",
      " u'SL SOCIEDAD' u'SAL' u'SOL SOCIEDAD LIMITADA' u'SRL' u'SOCIETAT LIMITADA'\n",
      " u'SOCIEDAD LIMITADA PROFESIONAL' u'SA SOCIEDAD' u'SA SICAV'\n",
      " u'SCA SOCIEDAD ANONIMA' u'SPA SOCIEDAD ANONIMA' u'S L' u'EN LIQUIDACION'\n",
      " u'SEL SOCIEDAD LIMITADA' u'SOCIEDAD ANONIMA EN LIQUIDACION'\n",
      " u'SICAV SA EN LIQUIDACION' u'SAL EN LIQUIDACION' u'S A' u'SMA SOCIEDAD'\n",
      " u'STA SOCIEDAD LIMITADA' u'SA SOCIEDAD LIMITADA EN LIQUIDACION'\n",
      " u'SOCIETAT ANONIMA' u'SA SOCIEDAD DE RESPONSABILIDAD LIMITADA'\n",
      " u'SCA SOCIEDAD LIMITADA' u'SAP' u'SAL SOCIEDAD LIMITADA'\n",
      " u'S ACL SOCIEDAD LIMITADA' u'S L P'\n",
      " u'SOCIEDAD LIMITADA PROFESIONAL EN LIQUIDACION' u'SAL SOCIEDAD ANONIMA'\n",
      " u'SPA SOCIEDAD' u'SALOU SOCIEDAD LIMITADA' u'SOL SOCIEDAD ANONIMA'\n",
      " u'SSA SOCIEDAD LIMITADA' u'SBA SOCIEDAD' u'SMA SOCIEDAD LIMITADA'\n",
      " u'SIA SOCIEDAD LIMITADA' u'SOCIETAT'\n",
      " u'SOCIEDAD DE RESPONSABILIDAD LIMITADA PROFESIONAL' u'SOCIEDAD CIVIL'\n",
      " u'SSA SOCIEDAD ANONIMA' u'FI' u'SOCIEDAD ANONIMA PROFESIONAL'\n",
      " u'SCLAP SOCIEDAD LIMITADA' u'SNA SOCIEDAD LIMITADA' u'SLL EN LIQUIDACION'\n",
      " u'SA EN LIQUIDACION EN LIQUIDACION' u'SC SOCIEDAD LIMITADA' u'SA SOCIETAT'\n",
      " u'SMAEL SOCIEDAD LIMITADA' u'S L L' u'S A SOCIEDAD LIMITADA'\n",
      " u'SUA SOCIEDAD LIMITADA' u'SPA SOCIEDAD DE RESPONSABILIDAD LIMITADA'\n",
      " u'STIGI SOCIEDAD LIMITADA' u'SLA SOCIEDAD ANONIMA'\n",
      " u'SEA SOCIEDAD LIMITADA' u'STAZU SOCIEDAD ANONIMA' u'SSA'\n",
      " u'SAT SOCIEDAD LIMITADA' u'SFALT SOCIEDAD DE RESPONSABILIDAD LIMITADA'\n",
      " u'STADT SOCIEDAD LIMITADA' u'STA SOCIEDAD'\n",
      " u'SMA SOCIEDAD DE RESPONSABILIDAD LIMITADA'\n",
      " u'SOCIEDAD LIMITADA UNIPERSONAL' u'SIA SOCIEDAD LIMITADA PROFESIONAL'\n",
      " u'SLA SOCIEDAD LIMITADA' u'SIL SOCIEDAD LIMITADA' u'SIA SOCIEDAD ANONIMA'\n",
      " u'SRL EN LIQUIDACION' u'SA SOCIEDAD CIVIL PROFESIONAL'\n",
      " u'SPA SOCIEDAD LIMITADA' u'STA SOCIEDAD ANONIMA'\n",
      " u'SOL SOCIEDAD DE RESPONSABILIDAD LIMITADA' u'SMATU SOCIEDAD LIMITADA'\n",
      " u'SL SOCIEDAD LIMITADA' u'SOL SOCIETAT' u'STA' u'S I C A V SA'\n",
      " u'STA SOCIETAT ANONIMA' u'SA SOCIEDAD ANONIMA EN LIQUIDACION'\n",
      " u'SCA SOCIEDAD LIMITADA EN LIQUIDACION' u'SLP SOCIEDAD ANONIMA'\n",
      " u'S L EN LIQUIDACION' u'SYL SOCIEDAD DE RESPONSABILIDAD LIMITADA'\n",
      " u'SL SOCIEDAD UNIPERSONAL' u'SNA SOCIEDAD ANONIMA'\n",
      " u'STA SOCIEDAD LIMITADA PROFESIONAL'\n",
      " u'STA SOCIEDAD ANONIMA EN LIQUIDACION' u'SL EN LIQUIDACION EN LIQUIDACION'\n",
      " u'SKA SOCIEDAD LIMITADA' u'S ART SOCIEDAD LIMITADA'\n",
      " u'SOCIETAT LIMITADA EN LIQUIDACION' u'EN LIQUIDACION EN LIQUIDACION'\n",
      " u'STA SOCIEDAD DE RESPONSABILIDAD LIMITADA' u'SMA SOCIEDAD ANONIMA'\n",
      " u'SAL SOCIEDAD DE RESPONSABILIDAD LIMITADA' u'SOA SOCIEDAD LIMITADA'\n",
      " u'LTD' u'SCAMP SOCIEDAD LIMITADA' u'SOCIEDAD PROFESIONAL'\n",
      " u'S I I SOCIEDAD LIMITADA' u'S III SOCIEDAD LIMITADA' u'SCA'\n",
      " u'S A EN LIQUIDACION' u'SBA SOCIEDAD LIMITADA' u'SEL SOCIEDAD ANONIMA'\n",
      " u'SAL SOCIEDAD LIMITADA EN LIQUIDACION' u'SCL SOCIEDAD LIMITADA' u'SIA'\n",
      " u'LIMITED' u'SCL' u'SAT' u'SAL EN LIQUIDACION EN LIQUIDACION'\n",
      " u'SVA SOCIEDAD LIMITADA' u'SPIMI SOCIEDAD LIMITADA' u'SICAV SL'\n",
      " u'STA SOCIEDAD LIMITADA EN LIQUIDACION' u'STL SOCIEDAD LIMITADA'\n",
      " u'SALOU SOCIEDAD ANONIMA' u'SYA SOCIEDAD LIMITADA'\n",
      " u'S IAI SOCIEDAD ANONIMA' u'SLA SOCIEDAD ANONIMA PROFESIONAL'\n",
      " u'S IBI SOCIEDAD LIMITADA' u'SALOU SOCIEDAD CIVIL PROFESIONAL'\n",
      " u'SKAMP SOCIEDAD LIMITADA' u'S A L' u'SHA SOCIEDAD ANONIMA' u'S III SICAV'\n",
      " u'SOL SOCIEDAD' u'SOCIEDAD LIMITADA LABORAL' u'STABL SOCIEDAD LIMITADA'\n",
      " u'SOL SICAV' u'SAL SOCIEDAD LIMITADA PROFESIONAL'\n",
      " u'SOCIEDAD DE RESPONSABILIDAD' u'SEL SOCIETAT LIMITADA'\n",
      " u'SICAV SOCIEDAD ANONIMA EN LIQUIDACION'\n",
      " u'SSA SOCIEDAD DE RESPONSABILIDAD LIMITADA'\n",
      " u'SIA SOCIEDAD LIMITADA EN LIQUIDACION'\n",
      " u'SC SOCIEDAD LIMITADA PROFESIONAL'\n",
      " u'SOL SOCIEDAD LIMITADA EN LIQUIDACION'\n",
      " u'SCA SOCIEDAD DE RESPONSABILIDAD LIMITADA'\n",
      " u'SEL SOCIEDAD ANONIMA EN LIQUIDACION' u'SA S I C A V'\n",
      " u'S ICI SOCIEDAD LIMITADA' u'SOA SOCIEDAD ANONIMA' u'LDA'\n",
      " u'SUL SOCIEDAD LIMITADA' u'SA SOCIEDAD LIMITADA PROFESIONAL'\n",
      " u'SRAJU SOCIEDAD LIMITADA' u'SVALT SOCIEDAD' u'START SOCIEDAD LIMITADA'\n",
      " u'SILNU SICAV' u'SL SOCIETAT' u'SMALT SOCIEDAD ANONIMA'\n",
      " u'SOCIEDAD CIVIL PROFESIONAL EN LIQUIDACION' u'STANT SOCIEDAD LIMITADA'\n",
      " u'SAL SOCIEDAD ANONIMA EN LIQUIDACION' u'SOCIEDAD ANONIMA UNIPERSONAL'\n",
      " u'SHA SOCIEDAD LIMITADA' u'SOCIETAT LIMITADA PROFESIONAL'\n",
      " u'SOCIETAT ANONIMA EN LIQUIDACION' u'S APP SOCIEDAD LIMITADA'\n",
      " u'SOCIEDAD COOPERATIVA DE CREDITO' u'SDA SOCIEDAD LIMITADA'\n",
      " u'STALT SOCIEDAD LIMITADA' u'SOCIEDAD ANONIMA DE SEGUROS Y REASEGUROS'\n",
      " u'SEA SOCIEDAD ANONIMA' u'SOL SOCIEDAD LIMITADA PROFESIONAL'\n",
      " u'SA SOCIEDAD LIMITADA PROFESIONAL EN LIQUIDACION' u'SMA'\n",
      " u'SA SOCIEDAD DE RESPONSABILIDAD LIMITADA PROFESIONAL'\n",
      " u'SZA SOCIEDAD LIMITADA' u'SHIRI SOCIEDAD LIMITADA' u'GMBH'\n",
      " u'SHARP SOCIEDAD LIMITADA' u'SIL SOCIEDAD ANONIMA'\n",
      " u'SOL SOCIEDAD ANONIMA EN LIQUIDACION'\n",
      " u'SNA SOCIEDAD LIMITADA EN LIQUIDACION'\n",
      " u'SSA SOCIEDAD LIMITADA EN LIQUIDACION' u'SIA SOCIEDAD CIVIL PROFESIONAL'\n",
      " u'AIE' u'SAA SOCIEDAD LIMITADA' u'SIA SICAV' u'STAMP SOCIEDAD LIMITADA'\n",
      " u'SMART SOCIEDAD LIMITADA' u'SLAIT SICAV' u'Sociedad'\n",
      " u'SOCIEDAD ANONIMA PROFESIONAL EN LIQUIDACION' u'SAT SOCIEDAD ANONIMA'\n",
      " u'SBALL SOCIEDAD LIMITADA' u'SDA SOCIEDAD ANONIMA' u'SSA SOCIETAT'\n",
      " u'SIA SOCIEDAD' u'SAL SOCIEDAD CIVIL PROFESIONAL' u'SCL EN LIQUIDACION'\n",
      " u'SOCIETAT CIVIL' u'SRA SOCIEDAD LIMITADA' u'SYL SOCIEDAD LIMITADA'\n",
      " u'S L L EN LIQUIDACION' u'SEART SOCIEDAD LIMITADA'\n",
      " u'SIA SOCIEDAD DE RESPONSABILIDAD LIMITADA' u'SMAKT SOCIEDAD LIMITADA'\n",
      " u'S A&T SOCIEDAD LIMITADA']\n",
      "\n",
      "Eventos empresas:\n",
      "[u'Nombramientos.' u'Reelecciones.' u'Ceses/Dimisiones.'\n",
      " u'Modificaciones estatutarias.' u'Cambio de domicilio social.'\n",
      " u'Situaci\\xf3n concursal.' u'Constituci\\xf3n.' u'Disoluci\\xf3n.'\n",
      " u'Extinci\\xf3n.' u'Ampliaci\\xf3n de capital.' u'Revocaciones.'\n",
      " u'Otros conceptos' u'Reducci\\xf3n de capital.'\n",
      " u'Declaraci\\xf3n de unipersonalidad.' u'Cambio de objeto social.'\n",
      " u'Ampliacion del objeto social.' u'Fe de erratas.'\n",
      " u'Cambio de denominaci\\xf3n social.' u'Fusi\\xf3n por absorci\\xf3n.'\n",
      " u'Sociedad unipersonal.' u'Desembolso de dividendos pasivos.'\n",
      " u'Declaraci\\xf3n  de unipersonalidad.' u'Reapertura hoja registral.'\n",
      " u'Escisi\\xf3n parcial.' u'Transformaci\\xf3n de sociedad.'\n",
      " u'Cancelaciones de Dep\\xf3sitos de proyectos de fusi\\xf3n por absorci\\xf3n'\n",
      " u'Dep\\xf3sitos de proyectos de fusi\\xf3n por absorci\\xf3n'\n",
      " u'Articulo 378.5 del Reglamento del Registro Mercantil.'\n",
      " u'Cr\\xe9dito incobrable.' u'Escisi\\xf3n total.'\n",
      " u'Primera sucursal de sociedad extranjera.' u'Emisi\\xf3n de obligaciones.'\n",
      " u'Apertura de sucursal.' u'Ampliaci\\xf3n del objeto social.'\n",
      " u'Cierre provisional hoja registral por baja en el \\xedndice de Entidades Jur\\xeddicas.'\n",
      " u'Reactivaci\\xf3n de la sociedad.' u'Adaptaci\\xf3n de sociedad.'\n",
      " u'Ampliaci\\xf3n de objeto social.' u'Suspensi\\xf3n de pagos.'\n",
      " u'Dep\\xf3sitos de proyectos de segregaci\\xf3n' u'Segregaci\\xf3n.'\n",
      " u'Dep\\xf3sitos de Proyectos de Cesi\\xf3n Global de Activo y Pasivo'\n",
      " u'Dep\\xf3sitos de proyectos de escisi\\xf3n total'\n",
      " u'P\\xe1gina web de la sociedad.']\n",
      "\n",
      "Subeventos empresas:\n",
      "[u'vicepresidente' u'secretario' u'consejero' u'presidente' u'otros' nan\n",
      " u'num_concurso' u'auditor' u'admin_unico' u'apoderado_solid' u'liquidador'\n",
      " u'voluntaria' u'admin_mancom' u'admin_solid' u'cambio_organo_admin'\n",
      " u'apoderado' u'apoderado_mancom' u'consejero_delegado' u'entidad_gestora'\n",
      " u'socio_unico' u'apoderado_solid_mancom' u'consejero_delegado_mancom'\n",
      " u'representan' u'socio' u'secretario_noconsej' u'vicesecretario_noconsej'\n",
      " u'benef_absorcion' u'consejero_delegado_solid' u'vicesecretario'\n",
      " u'escindidas' u'Absorbidas' u'Absorbente' u'no_aprobac_cuentas'\n",
      " u'secret_cons_rector' u'miem_cons_rector' u'gerente' u'admin_conc'\n",
      " u'Beneficiarias' u'No beneficiaria' u'insolvencia' u'cambio_socio_unico'\n",
      " u'Beneficiarios' u'crea_web']\n"
     ]
    }
   ],
   "source": [
    "print \"\\nConjunto de empresas:\"\n",
    "print dftemp3['allborme_22022016_cclie.firm'].unique()\n",
    "\n",
    "print \"\\nRazón social:\"\n",
    "print dftemp3['allborme_22022016_cclie.razon'].unique()\n",
    "\n",
    "print \"\\nEventos empresas:\"\n",
    "print dftemp3['allborme_22022016_cclie.event'].unique()\n",
    "\n",
    "print \"\\nSubeventos empresas:\"\n",
    "print dftemp3['allborme_22022016_cclie.subevent'].unique()\n"
   ]
  },
  {
   "cell_type": "code",
   "execution_count": 46,
   "metadata": {
    "collapsed": false,
    "scrolled": true
   },
   "outputs": [
    {
     "name": "stdout",
     "output_type": "stream",
     "text": [
      "Missing Values por columnas:\n",
      "allborme_22022016_cclie.i                        0\n",
      "allborme_22022016_cclie.firm                   363\n",
      "allborme_22022016_cclie.razon                43114\n",
      "allborme_22022016_cclie.event                    0\n",
      "allborme_22022016_cclie.subevent            231285\n",
      "allborme_22022016_cclie.cod_event             7406\n",
      "allborme_22022016_cclie.actor               416053\n",
      "allborme_22022016_cclie.publication_date         0\n",
      "allborme_22022016_cclie.cod_persctpn        311366\n",
      "allborme_22022016_cclie.firm_clean          310969\n",
      "allborme_22022016_cclie.nif                 310969\n",
      "allborme_22022016_cclie.new_firm               363\n",
      "dtype: int64\n",
      "\n",
      "Missing Values por filas:\n",
      "0    0\n",
      "1    0\n",
      "2    0\n",
      "3    0\n",
      "4    0\n",
      "dtype: int64\n"
     ]
    }
   ],
   "source": [
    "# Creamos función para Missing Values\n",
    "def missing_val(x):\n",
    "  return sum(x.isnull())\n",
    "\n",
    "# Missing Values por columnas\n",
    "print \"Missing Values por columnas:\"\n",
    "print dftemp3.apply(missing_val, axis=0) \n",
    "\n",
    "# Missing Values por filas\n",
    "print \"\\nMissing Values por filas:\"\n",
    "print dftemp3.apply(missing_val, axis=1).head() "
   ]
  },
  {
   "cell_type": "code",
   "execution_count": 47,
   "metadata": {
    "collapsed": false
   },
   "outputs": [
    {
     "name": "stdout",
     "output_type": "stream",
     "text": [
      "466179\n",
      "44\n",
      "43\n"
     ]
    }
   ],
   "source": [
    "dftemp3.columns = ['rowID','nombre2','razon','evento','subevento','codevento','actor','fecha_publicacion','cod1','cod2','cif','nombre']\n",
    "filter = ['rowID','razon','evento','subevento','codevento','actor','fecha_publicacion','cif','nombre']\n",
    "dfeventsNew2 = dftemp3[filter]\n",
    "dfeventsNew=pd.DataFrame(dfeventsNew2)\n",
    "print len(dfeventsNew.nombre.unique())\n",
    "print len(dfeventsNew.evento.unique())\n",
    "print len(dfeventsNew.subevento.unique())"
   ]
  },
  {
   "cell_type": "code",
   "execution_count": 48,
   "metadata": {
    "collapsed": false
   },
   "outputs": [
    {
     "data": {
      "text/html": [
       "<div>\n",
       "<table border=\"1\" class=\"dataframe\">\n",
       "  <thead>\n",
       "    <tr style=\"text-align: right;\">\n",
       "      <th></th>\n",
       "      <th>rowID</th>\n",
       "      <th>razon</th>\n",
       "      <th>evento</th>\n",
       "      <th>subevento</th>\n",
       "      <th>codevento</th>\n",
       "      <th>actor</th>\n",
       "      <th>fecha_publicacion</th>\n",
       "      <th>cif</th>\n",
       "      <th>nombre</th>\n",
       "    </tr>\n",
       "  </thead>\n",
       "  <tbody>\n",
       "    <tr>\n",
       "      <th>0</th>\n",
       "      <td>6826517</td>\n",
       "      <td>SL</td>\n",
       "      <td>Nombramientos.</td>\n",
       "      <td>vicepresidente</td>\n",
       "      <td>44_14</td>\n",
       "      <td>PENA RUSHTON JUAN ANTONIO</td>\n",
       "      <td>11/02/2010</td>\n",
       "      <td>B15371222</td>\n",
       "      <td>CENTRAL ELECTRODOMESTICOS NOROESTE</td>\n",
       "    </tr>\n",
       "    <tr>\n",
       "      <th>1</th>\n",
       "      <td>6826518</td>\n",
       "      <td>SL</td>\n",
       "      <td>Nombramientos.</td>\n",
       "      <td>secretario</td>\n",
       "      <td>44_9</td>\n",
       "      <td>BABIO  LOPEZ  JESUS</td>\n",
       "      <td>11/02/2010</td>\n",
       "      <td>B15371222</td>\n",
       "      <td>CENTRAL ELECTRODOMESTICOS NOROESTE</td>\n",
       "    </tr>\n",
       "    <tr>\n",
       "      <th>2</th>\n",
       "      <td>6826519</td>\n",
       "      <td>SL</td>\n",
       "      <td>Nombramientos.</td>\n",
       "      <td>consejero</td>\n",
       "      <td>44_5</td>\n",
       "      <td>QUEIJO  COLLAZO  MARIA OTILIA</td>\n",
       "      <td>11/02/2010</td>\n",
       "      <td>B15371222</td>\n",
       "      <td>CENTRAL ELECTRODOMESTICOS NOROESTE</td>\n",
       "    </tr>\n",
       "    <tr>\n",
       "      <th>3</th>\n",
       "      <td>6826520</td>\n",
       "      <td>SL</td>\n",
       "      <td>Nombramientos.</td>\n",
       "      <td>consejero</td>\n",
       "      <td>44_5</td>\n",
       "      <td>GONZALEZ  CONDE  CARLOS</td>\n",
       "      <td>11/02/2010</td>\n",
       "      <td>B15371222</td>\n",
       "      <td>CENTRAL ELECTRODOMESTICOS NOROESTE</td>\n",
       "    </tr>\n",
       "    <tr>\n",
       "      <th>4</th>\n",
       "      <td>6826521</td>\n",
       "      <td>SL</td>\n",
       "      <td>Nombramientos.</td>\n",
       "      <td>consejero</td>\n",
       "      <td>44_5</td>\n",
       "      <td>DOMINGUEZ  VILA  MARCOS</td>\n",
       "      <td>11/02/2010</td>\n",
       "      <td>B15371222</td>\n",
       "      <td>CENTRAL ELECTRODOMESTICOS NOROESTE</td>\n",
       "    </tr>\n",
       "    <tr>\n",
       "      <th>5</th>\n",
       "      <td>6826522</td>\n",
       "      <td>SL</td>\n",
       "      <td>Reelecciones.</td>\n",
       "      <td>consejero</td>\n",
       "      <td>46_5</td>\n",
       "      <td>PENA RUSHTON JUAN ANTONIO</td>\n",
       "      <td>11/02/2010</td>\n",
       "      <td>B15371222</td>\n",
       "      <td>CENTRAL ELECTRODOMESTICOS NOROESTE</td>\n",
       "    </tr>\n",
       "    <tr>\n",
       "      <th>6</th>\n",
       "      <td>6826523</td>\n",
       "      <td>SL</td>\n",
       "      <td>Reelecciones.</td>\n",
       "      <td>consejero</td>\n",
       "      <td>46_5</td>\n",
       "      <td>BABIO LOPEZ JESUS</td>\n",
       "      <td>11/02/2010</td>\n",
       "      <td>B15371222</td>\n",
       "      <td>CENTRAL ELECTRODOMESTICOS NOROESTE</td>\n",
       "    </tr>\n",
       "    <tr>\n",
       "      <th>7</th>\n",
       "      <td>6826524</td>\n",
       "      <td>SL</td>\n",
       "      <td>Reelecciones.</td>\n",
       "      <td>consejero</td>\n",
       "      <td>46_5</td>\n",
       "      <td>RATO OLAY JOSE RAMON</td>\n",
       "      <td>11/02/2010</td>\n",
       "      <td>B15371222</td>\n",
       "      <td>CENTRAL ELECTRODOMESTICOS NOROESTE</td>\n",
       "    </tr>\n",
       "    <tr>\n",
       "      <th>8</th>\n",
       "      <td>6826525</td>\n",
       "      <td>SL</td>\n",
       "      <td>Reelecciones.</td>\n",
       "      <td>presidente</td>\n",
       "      <td>46_13</td>\n",
       "      <td>RATO OLAY JOSE RAMON</td>\n",
       "      <td>11/02/2010</td>\n",
       "      <td>B15371222</td>\n",
       "      <td>CENTRAL ELECTRODOMESTICOS NOROESTE</td>\n",
       "    </tr>\n",
       "    <tr>\n",
       "      <th>9</th>\n",
       "      <td>6826526</td>\n",
       "      <td>SL</td>\n",
       "      <td>Ceses/Dimisiones.</td>\n",
       "      <td>consejero</td>\n",
       "      <td>42_5</td>\n",
       "      <td>SANESTEBAN VEZ MARCIAL</td>\n",
       "      <td>11/02/2010</td>\n",
       "      <td>B15371222</td>\n",
       "      <td>CENTRAL ELECTRODOMESTICOS NOROESTE</td>\n",
       "    </tr>\n",
       "    <tr>\n",
       "      <th>10</th>\n",
       "      <td>6826527</td>\n",
       "      <td>SL</td>\n",
       "      <td>Ceses/Dimisiones.</td>\n",
       "      <td>consejero</td>\n",
       "      <td>42_5</td>\n",
       "      <td>GARCIA FERNANDEZ ANTONIO</td>\n",
       "      <td>11/02/2010</td>\n",
       "      <td>B15371222</td>\n",
       "      <td>CENTRAL ELECTRODOMESTICOS NOROESTE</td>\n",
       "    </tr>\n",
       "    <tr>\n",
       "      <th>11</th>\n",
       "      <td>6826528</td>\n",
       "      <td>SL</td>\n",
       "      <td>Ceses/Dimisiones.</td>\n",
       "      <td>secretario</td>\n",
       "      <td>42_9</td>\n",
       "      <td>SANESTEBAN VEZ MARCIAL</td>\n",
       "      <td>11/02/2010</td>\n",
       "      <td>B15371222</td>\n",
       "      <td>CENTRAL ELECTRODOMESTICOS NOROESTE</td>\n",
       "    </tr>\n",
       "    <tr>\n",
       "      <th>12</th>\n",
       "      <td>6826529</td>\n",
       "      <td>SL</td>\n",
       "      <td>Modificaciones estatutarias.</td>\n",
       "      <td>otros</td>\n",
       "      <td>702</td>\n",
       "      <td>NaN</td>\n",
       "      <td>11/02/2010</td>\n",
       "      <td>B15371222</td>\n",
       "      <td>CENTRAL ELECTRODOMESTICOS NOROESTE</td>\n",
       "    </tr>\n",
       "    <tr>\n",
       "      <th>13</th>\n",
       "      <td>6826530</td>\n",
       "      <td>SL</td>\n",
       "      <td>Modificaciones estatutarias.</td>\n",
       "      <td>otros</td>\n",
       "      <td>702</td>\n",
       "      <td>NaN</td>\n",
       "      <td>11/02/2010</td>\n",
       "      <td>B70180260</td>\n",
       "      <td>GENS DIGITAL INCORPORATE</td>\n",
       "    </tr>\n",
       "    <tr>\n",
       "      <th>14</th>\n",
       "      <td>6826531</td>\n",
       "      <td>SL</td>\n",
       "      <td>Cambio de domicilio social.</td>\n",
       "      <td>NaN</td>\n",
       "      <td>603</td>\n",
       "      <td>NaN</td>\n",
       "      <td>11/02/2010</td>\n",
       "      <td>B70180260</td>\n",
       "      <td>GENS DIGITAL INCORPORATE</td>\n",
       "    </tr>\n",
       "    <tr>\n",
       "      <th>15</th>\n",
       "      <td>6826532</td>\n",
       "      <td>SL</td>\n",
       "      <td>Modificaciones estatutarias.</td>\n",
       "      <td>otros</td>\n",
       "      <td>702</td>\n",
       "      <td>NaN</td>\n",
       "      <td>11/02/2010</td>\n",
       "      <td>B70159405</td>\n",
       "      <td>ENCOMUN ANALISIS</td>\n",
       "    </tr>\n",
       "    <tr>\n",
       "      <th>16</th>\n",
       "      <td>6826533</td>\n",
       "      <td>SL</td>\n",
       "      <td>Cambio de domicilio social.</td>\n",
       "      <td>NaN</td>\n",
       "      <td>603</td>\n",
       "      <td>NaN</td>\n",
       "      <td>11/02/2010</td>\n",
       "      <td>B70159405</td>\n",
       "      <td>ENCOMUN ANALISIS</td>\n",
       "    </tr>\n",
       "    <tr>\n",
       "      <th>17</th>\n",
       "      <td>6826534</td>\n",
       "      <td>SL</td>\n",
       "      <td>Situación concursal.</td>\n",
       "      <td>num_concurso</td>\n",
       "      <td>26</td>\n",
       "      <td>141/2009</td>\n",
       "      <td>11/02/2010</td>\n",
       "      <td>B15447634</td>\n",
       "      <td>CARNICAS ALBINO</td>\n",
       "    </tr>\n",
       "    <tr>\n",
       "      <th>18</th>\n",
       "      <td>6826535</td>\n",
       "      <td>SL</td>\n",
       "      <td>Nombramientos.</td>\n",
       "      <td>auditor</td>\n",
       "      <td>44_25</td>\n",
       "      <td>AUCTOR SL</td>\n",
       "      <td>11/02/2010</td>\n",
       "      <td>B15856248</td>\n",
       "      <td>URBANIZADORA PENINSULAR</td>\n",
       "    </tr>\n",
       "    <tr>\n",
       "      <th>19</th>\n",
       "      <td>6826536</td>\n",
       "      <td>SL</td>\n",
       "      <td>Reelecciones.</td>\n",
       "      <td>auditor</td>\n",
       "      <td>46_25</td>\n",
       "      <td>AUCTOR SL</td>\n",
       "      <td>11/02/2010</td>\n",
       "      <td>B15804404</td>\n",
       "      <td>RALOCASA</td>\n",
       "    </tr>\n",
       "    <tr>\n",
       "      <th>20</th>\n",
       "      <td>6826537</td>\n",
       "      <td>SL</td>\n",
       "      <td>Nombramientos.</td>\n",
       "      <td>admin_unico</td>\n",
       "      <td>44_2</td>\n",
       "      <td>VEYMOSAN SL</td>\n",
       "      <td>11/02/2010</td>\n",
       "      <td>NaN</td>\n",
       "      <td>MAEXPA GRUPO INMOBILIARIO</td>\n",
       "    </tr>\n",
       "    <tr>\n",
       "      <th>21</th>\n",
       "      <td>6826538</td>\n",
       "      <td>SL</td>\n",
       "      <td>Reelecciones.</td>\n",
       "      <td>auditor</td>\n",
       "      <td>46_25</td>\n",
       "      <td>AUCTOR SL</td>\n",
       "      <td>11/02/2010</td>\n",
       "      <td>NaN</td>\n",
       "      <td>MAEXPA GRUPO INMOBILIARIO</td>\n",
       "    </tr>\n",
       "    <tr>\n",
       "      <th>22</th>\n",
       "      <td>6826539</td>\n",
       "      <td>SL</td>\n",
       "      <td>Constitución.</td>\n",
       "      <td>NaN</td>\n",
       "      <td>40</td>\n",
       "      <td>NaN</td>\n",
       "      <td>11/02/2010</td>\n",
       "      <td>NaN</td>\n",
       "      <td>MAEXPA GRUPO INMOBILIARIO</td>\n",
       "    </tr>\n",
       "    <tr>\n",
       "      <th>23</th>\n",
       "      <td>6826540</td>\n",
       "      <td>SL</td>\n",
       "      <td>Nombramientos.</td>\n",
       "      <td>apoderado_solid</td>\n",
       "      <td>44_22</td>\n",
       "      <td>HERVES ALVAREZ PEDRO</td>\n",
       "      <td>11/02/2010</td>\n",
       "      <td>B70237375</td>\n",
       "      <td>BREACAR SANTIAGO</td>\n",
       "    </tr>\n",
       "    <tr>\n",
       "      <th>24</th>\n",
       "      <td>6826541</td>\n",
       "      <td>SL</td>\n",
       "      <td>Nombramientos.</td>\n",
       "      <td>apoderado_solid</td>\n",
       "      <td>44_22</td>\n",
       "      <td>BREA HERVES MARIA ELENA</td>\n",
       "      <td>11/02/2010</td>\n",
       "      <td>B70237375</td>\n",
       "      <td>BREACAR SANTIAGO</td>\n",
       "    </tr>\n",
       "    <tr>\n",
       "      <th>25</th>\n",
       "      <td>6826542</td>\n",
       "      <td>SL</td>\n",
       "      <td>Nombramientos.</td>\n",
       "      <td>apoderado_solid</td>\n",
       "      <td>44_22</td>\n",
       "      <td>BREA HERVES JOSE LUIS</td>\n",
       "      <td>11/02/2010</td>\n",
       "      <td>B70237375</td>\n",
       "      <td>BREACAR SANTIAGO</td>\n",
       "    </tr>\n",
       "    <tr>\n",
       "      <th>26</th>\n",
       "      <td>6826543</td>\n",
       "      <td>SL</td>\n",
       "      <td>Reelecciones.</td>\n",
       "      <td>auditor</td>\n",
       "      <td>46_25</td>\n",
       "      <td>AUCTOR SL</td>\n",
       "      <td>11/02/2010</td>\n",
       "      <td>B15647795</td>\n",
       "      <td>GEXPA GESTION</td>\n",
       "    </tr>\n",
       "    <tr>\n",
       "      <th>27</th>\n",
       "      <td>6826544</td>\n",
       "      <td>SL</td>\n",
       "      <td>Nombramientos.</td>\n",
       "      <td>liquidador</td>\n",
       "      <td>44_15</td>\n",
       "      <td>FERNANDEZ LORENZO JOSE RAMON</td>\n",
       "      <td>11/02/2010</td>\n",
       "      <td>B15920358</td>\n",
       "      <td>INSTITUTO PEDIATRICO</td>\n",
       "    </tr>\n",
       "    <tr>\n",
       "      <th>28</th>\n",
       "      <td>6826545</td>\n",
       "      <td>SL</td>\n",
       "      <td>Ceses/Dimisiones.</td>\n",
       "      <td>admin_unico</td>\n",
       "      <td>42_2</td>\n",
       "      <td>FERNANDEZ LORENZO JOSE RAMON</td>\n",
       "      <td>11/02/2010</td>\n",
       "      <td>B15920358</td>\n",
       "      <td>INSTITUTO PEDIATRICO</td>\n",
       "    </tr>\n",
       "    <tr>\n",
       "      <th>29</th>\n",
       "      <td>6826546</td>\n",
       "      <td>SL</td>\n",
       "      <td>Disolución.</td>\n",
       "      <td>voluntaria</td>\n",
       "      <td>16</td>\n",
       "      <td>Voluntaria.</td>\n",
       "      <td>11/02/2010</td>\n",
       "      <td>B15920358</td>\n",
       "      <td>INSTITUTO PEDIATRICO</td>\n",
       "    </tr>\n",
       "    <tr>\n",
       "      <th>...</th>\n",
       "      <td>...</td>\n",
       "      <td>...</td>\n",
       "      <td>...</td>\n",
       "      <td>...</td>\n",
       "      <td>...</td>\n",
       "      <td>...</td>\n",
       "      <td>...</td>\n",
       "      <td>...</td>\n",
       "      <td>...</td>\n",
       "    </tr>\n",
       "    <tr>\n",
       "      <th>833302</th>\n",
       "      <td>4349900</td>\n",
       "      <td>SL</td>\n",
       "      <td>Disolución.</td>\n",
       "      <td>voluntaria</td>\n",
       "      <td>16</td>\n",
       "      <td>Voluntaria.</td>\n",
       "      <td>31/03/2015</td>\n",
       "      <td>NaN</td>\n",
       "      <td>AUTOMATICOS C.L.</td>\n",
       "    </tr>\n",
       "    <tr>\n",
       "      <th>833303</th>\n",
       "      <td>4349901</td>\n",
       "      <td>SL</td>\n",
       "      <td>Extinción.</td>\n",
       "      <td>otros</td>\n",
       "      <td>16_1</td>\n",
       "      <td>NaN</td>\n",
       "      <td>31/03/2015</td>\n",
       "      <td>NaN</td>\n",
       "      <td>AUTOMATICOS C.L.</td>\n",
       "    </tr>\n",
       "    <tr>\n",
       "      <th>833304</th>\n",
       "      <td>4349902</td>\n",
       "      <td>SL</td>\n",
       "      <td>Nombramientos.</td>\n",
       "      <td>apoderado</td>\n",
       "      <td>44_21</td>\n",
       "      <td>LOPEZ RIVAS LUIS</td>\n",
       "      <td>31/03/2015</td>\n",
       "      <td>B04799581</td>\n",
       "      <td>RUSTICAS ROQUETAS 001</td>\n",
       "    </tr>\n",
       "    <tr>\n",
       "      <th>833305</th>\n",
       "      <td>4349903</td>\n",
       "      <td>SOCIEDAD LIMITADA</td>\n",
       "      <td>Modificaciones estatutarias.</td>\n",
       "      <td>otros</td>\n",
       "      <td>702</td>\n",
       "      <td>NaN</td>\n",
       "      <td>31/03/2015</td>\n",
       "      <td>B04711941</td>\n",
       "      <td>ASPAPROS</td>\n",
       "    </tr>\n",
       "    <tr>\n",
       "      <th>833306</th>\n",
       "      <td>4349904</td>\n",
       "      <td>SOCIEDAD LIMITADA</td>\n",
       "      <td>Ampliacion del objeto social.</td>\n",
       "      <td>NaN</td>\n",
       "      <td>NaN</td>\n",
       "      <td>NaN</td>\n",
       "      <td>31/03/2015</td>\n",
       "      <td>B04711941</td>\n",
       "      <td>ASPAPROS</td>\n",
       "    </tr>\n",
       "    <tr>\n",
       "      <th>833307</th>\n",
       "      <td>4349905</td>\n",
       "      <td>SLL</td>\n",
       "      <td>Situación concursal.</td>\n",
       "      <td>num_concurso</td>\n",
       "      <td>26</td>\n",
       "      <td>513/2014</td>\n",
       "      <td>31/03/2015</td>\n",
       "      <td>B04625489</td>\n",
       "      <td>TALLER DE CHAPA Y PINTURA HNOS POVEDANO</td>\n",
       "    </tr>\n",
       "    <tr>\n",
       "      <th>833308</th>\n",
       "      <td>4349906</td>\n",
       "      <td>SA EN LIQUIDACION</td>\n",
       "      <td>Situación concursal.</td>\n",
       "      <td>num_concurso</td>\n",
       "      <td>26</td>\n",
       "      <td>485/2013</td>\n",
       "      <td>31/03/2015</td>\n",
       "      <td>A04111308</td>\n",
       "      <td>CRUMAR</td>\n",
       "    </tr>\n",
       "    <tr>\n",
       "      <th>833309</th>\n",
       "      <td>4349907</td>\n",
       "      <td>SOCIEDAD LIMITADA</td>\n",
       "      <td>Nombramientos.</td>\n",
       "      <td>admin_unico</td>\n",
       "      <td>44_2</td>\n",
       "      <td>FLORES FLORES MARIA DEL CARMEN</td>\n",
       "      <td>31/03/2015</td>\n",
       "      <td>B04812285</td>\n",
       "      <td>BEALMERIA PROMOTORES</td>\n",
       "    </tr>\n",
       "    <tr>\n",
       "      <th>833310</th>\n",
       "      <td>4349908</td>\n",
       "      <td>SOCIEDAD LIMITADA</td>\n",
       "      <td>Declaración de unipersonalidad.</td>\n",
       "      <td>socio_unico</td>\n",
       "      <td>50_1</td>\n",
       "      <td>NUÑEZ QUILES PEDRO ANTONIO</td>\n",
       "      <td>31/03/2015</td>\n",
       "      <td>B04812285</td>\n",
       "      <td>BEALMERIA PROMOTORES</td>\n",
       "    </tr>\n",
       "    <tr>\n",
       "      <th>833311</th>\n",
       "      <td>4349909</td>\n",
       "      <td>SOCIEDAD LIMITADA</td>\n",
       "      <td>Constitución.</td>\n",
       "      <td>NaN</td>\n",
       "      <td>40</td>\n",
       "      <td>NaN</td>\n",
       "      <td>31/03/2015</td>\n",
       "      <td>B04812285</td>\n",
       "      <td>BEALMERIA PROMOTORES</td>\n",
       "    </tr>\n",
       "    <tr>\n",
       "      <th>833312</th>\n",
       "      <td>4349910</td>\n",
       "      <td>SOCIEDAD LIMITADA</td>\n",
       "      <td>Nombramientos.</td>\n",
       "      <td>admin_unico</td>\n",
       "      <td>44_2</td>\n",
       "      <td>RODRIGUEZ  HANNIKAINEN  KENNET  DAVEN</td>\n",
       "      <td>31/03/2015</td>\n",
       "      <td>B04776456</td>\n",
       "      <td>MORE LIFE VAP</td>\n",
       "    </tr>\n",
       "    <tr>\n",
       "      <th>833313</th>\n",
       "      <td>4349911</td>\n",
       "      <td>SOCIEDAD LIMITADA</td>\n",
       "      <td>Declaración de unipersonalidad.</td>\n",
       "      <td>socio_unico</td>\n",
       "      <td>50_1</td>\n",
       "      <td>RODRIGUEZ HANNIKAINEN KENNET DAVEN</td>\n",
       "      <td>31/03/2015</td>\n",
       "      <td>B04776456</td>\n",
       "      <td>MORE LIFE VAP</td>\n",
       "    </tr>\n",
       "    <tr>\n",
       "      <th>833314</th>\n",
       "      <td>4349912</td>\n",
       "      <td>SOCIEDAD LIMITADA</td>\n",
       "      <td>Cambio de domicilio social.</td>\n",
       "      <td>NaN</td>\n",
       "      <td>603</td>\n",
       "      <td>NaN</td>\n",
       "      <td>31/03/2015</td>\n",
       "      <td>B04776456</td>\n",
       "      <td>MORE LIFE VAP</td>\n",
       "    </tr>\n",
       "    <tr>\n",
       "      <th>833315</th>\n",
       "      <td>4349913</td>\n",
       "      <td>SOCIEDAD LIMITADA</td>\n",
       "      <td>Nombramientos.</td>\n",
       "      <td>admin_unico</td>\n",
       "      <td>44_2</td>\n",
       "      <td>PECO MOLINA DAVID</td>\n",
       "      <td>31/03/2015</td>\n",
       "      <td>B04812301</td>\n",
       "      <td>MEZUR INSTALACIONES</td>\n",
       "    </tr>\n",
       "    <tr>\n",
       "      <th>833316</th>\n",
       "      <td>4349914</td>\n",
       "      <td>SOCIEDAD LIMITADA</td>\n",
       "      <td>Declaración de unipersonalidad.</td>\n",
       "      <td>socio_unico</td>\n",
       "      <td>50_1</td>\n",
       "      <td>PECO MOLINA DAVID</td>\n",
       "      <td>31/03/2015</td>\n",
       "      <td>B04812301</td>\n",
       "      <td>MEZUR INSTALACIONES</td>\n",
       "    </tr>\n",
       "    <tr>\n",
       "      <th>833317</th>\n",
       "      <td>4349915</td>\n",
       "      <td>SL</td>\n",
       "      <td>Fe de erratas.</td>\n",
       "      <td>otros</td>\n",
       "      <td>700</td>\n",
       "      <td>NaN</td>\n",
       "      <td>31/03/2015</td>\n",
       "      <td>B06413397</td>\n",
       "      <td>FEGA-2004</td>\n",
       "    </tr>\n",
       "    <tr>\n",
       "      <th>833318</th>\n",
       "      <td>4349916</td>\n",
       "      <td>SL</td>\n",
       "      <td>Nombramientos.</td>\n",
       "      <td>apoderado</td>\n",
       "      <td>44_21</td>\n",
       "      <td>MERA GOMEZ LEONOR</td>\n",
       "      <td>31/03/2015</td>\n",
       "      <td>B06462121</td>\n",
       "      <td>SOL DEL GUADIANA</td>\n",
       "    </tr>\n",
       "    <tr>\n",
       "      <th>833319</th>\n",
       "      <td>4349917</td>\n",
       "      <td>SL</td>\n",
       "      <td>Nombramientos.</td>\n",
       "      <td>apoderado</td>\n",
       "      <td>44_21</td>\n",
       "      <td>MERA GOMEZ LEONOR</td>\n",
       "      <td>31/03/2015</td>\n",
       "      <td>B06495568</td>\n",
       "      <td>APORTES ENERGETICOS</td>\n",
       "    </tr>\n",
       "    <tr>\n",
       "      <th>833320</th>\n",
       "      <td>4349918</td>\n",
       "      <td>SL</td>\n",
       "      <td>Nombramientos.</td>\n",
       "      <td>apoderado</td>\n",
       "      <td>44_21</td>\n",
       "      <td>MERA GOMEZ LEONOR</td>\n",
       "      <td>31/03/2015</td>\n",
       "      <td>NaN</td>\n",
       "      <td>SUMINISTRO DE MATERIALES DE CONSTRUCCION EXTRE...</td>\n",
       "    </tr>\n",
       "    <tr>\n",
       "      <th>833321</th>\n",
       "      <td>4349919</td>\n",
       "      <td>SL</td>\n",
       "      <td>Nombramientos.</td>\n",
       "      <td>apoderado</td>\n",
       "      <td>44_21</td>\n",
       "      <td>SERRANO EPAIZABAL ALBERTO</td>\n",
       "      <td>31/03/2015</td>\n",
       "      <td>B82109703</td>\n",
       "      <td>SUMAN INGENIERIA Y SERVICIOS DE SEGURIDAD</td>\n",
       "    </tr>\n",
       "    <tr>\n",
       "      <th>833322</th>\n",
       "      <td>4349920</td>\n",
       "      <td>SA</td>\n",
       "      <td>Nombramientos.</td>\n",
       "      <td>auditor</td>\n",
       "      <td>44_25</td>\n",
       "      <td>ESTEO SANCHEZ FRANCISCO</td>\n",
       "      <td>31/03/2015</td>\n",
       "      <td>A06009104</td>\n",
       "      <td>JOCA INGENIERIA Y CONSTRUCCIONES</td>\n",
       "    </tr>\n",
       "    <tr>\n",
       "      <th>833323</th>\n",
       "      <td>4349921</td>\n",
       "      <td>SL</td>\n",
       "      <td>Nombramientos.</td>\n",
       "      <td>admin_unico</td>\n",
       "      <td>44_2</td>\n",
       "      <td>GARCIA SANTAMARIA JUAN FELIX</td>\n",
       "      <td>31/03/2015</td>\n",
       "      <td>B06675037</td>\n",
       "      <td>RESTAMERIDA</td>\n",
       "    </tr>\n",
       "    <tr>\n",
       "      <th>833324</th>\n",
       "      <td>4349922</td>\n",
       "      <td>SL</td>\n",
       "      <td>Constitución.</td>\n",
       "      <td>NaN</td>\n",
       "      <td>40</td>\n",
       "      <td>NaN</td>\n",
       "      <td>31/03/2015</td>\n",
       "      <td>B06675037</td>\n",
       "      <td>RESTAMERIDA</td>\n",
       "    </tr>\n",
       "    <tr>\n",
       "      <th>833325</th>\n",
       "      <td>4349923</td>\n",
       "      <td>SL</td>\n",
       "      <td>Modificaciones estatutarias.</td>\n",
       "      <td>otros</td>\n",
       "      <td>702</td>\n",
       "      <td>NaN</td>\n",
       "      <td>31/03/2015</td>\n",
       "      <td>B06477244</td>\n",
       "      <td>OLEOVENZA 2014</td>\n",
       "    </tr>\n",
       "    <tr>\n",
       "      <th>833326</th>\n",
       "      <td>4349924</td>\n",
       "      <td>SL</td>\n",
       "      <td>Ampliación de capital.</td>\n",
       "      <td>NaN</td>\n",
       "      <td>18</td>\n",
       "      <td>NaN</td>\n",
       "      <td>31/03/2015</td>\n",
       "      <td>B06477244</td>\n",
       "      <td>OLEOVENZA 2014</td>\n",
       "    </tr>\n",
       "    <tr>\n",
       "      <th>833327</th>\n",
       "      <td>4349925</td>\n",
       "      <td>SL</td>\n",
       "      <td>Modificaciones estatutarias.</td>\n",
       "      <td>otros</td>\n",
       "      <td>702</td>\n",
       "      <td>NaN</td>\n",
       "      <td>31/03/2015</td>\n",
       "      <td>B06667158</td>\n",
       "      <td>CIFUCANO</td>\n",
       "    </tr>\n",
       "    <tr>\n",
       "      <th>833328</th>\n",
       "      <td>4349926</td>\n",
       "      <td>SL</td>\n",
       "      <td>Ampliación de capital.</td>\n",
       "      <td>NaN</td>\n",
       "      <td>18</td>\n",
       "      <td>NaN</td>\n",
       "      <td>31/03/2015</td>\n",
       "      <td>B06667158</td>\n",
       "      <td>CIFUCANO</td>\n",
       "    </tr>\n",
       "    <tr>\n",
       "      <th>833329</th>\n",
       "      <td>4349927</td>\n",
       "      <td>SL</td>\n",
       "      <td>Nombramientos.</td>\n",
       "      <td>admin_unico</td>\n",
       "      <td>44_2</td>\n",
       "      <td>GARCIA GUILLEN MANUEL JESUS</td>\n",
       "      <td>31/03/2015</td>\n",
       "      <td>B06671903</td>\n",
       "      <td>NUTREX AGRIFOOD</td>\n",
       "    </tr>\n",
       "    <tr>\n",
       "      <th>833330</th>\n",
       "      <td>4349928</td>\n",
       "      <td>SL</td>\n",
       "      <td>Declaración de unipersonalidad.</td>\n",
       "      <td>socio_unico</td>\n",
       "      <td>50_1</td>\n",
       "      <td>GARCIA GUILLEN MANUEL JESUS</td>\n",
       "      <td>31/03/2015</td>\n",
       "      <td>B06671903</td>\n",
       "      <td>NUTREX AGRIFOOD</td>\n",
       "    </tr>\n",
       "    <tr>\n",
       "      <th>833331</th>\n",
       "      <td>4349929</td>\n",
       "      <td>SL</td>\n",
       "      <td>Constitución.</td>\n",
       "      <td>NaN</td>\n",
       "      <td>40</td>\n",
       "      <td>NaN</td>\n",
       "      <td>31/03/2015</td>\n",
       "      <td>B06671903</td>\n",
       "      <td>NUTREX AGRIFOOD</td>\n",
       "    </tr>\n",
       "  </tbody>\n",
       "</table>\n",
       "<p>1666664 rows × 9 columns</p>\n",
       "</div>"
      ],
      "text/plain": [
       "          rowID              razon                           evento  \\\n",
       "0       6826517                 SL                   Nombramientos.   \n",
       "1       6826518                 SL                   Nombramientos.   \n",
       "2       6826519                 SL                   Nombramientos.   \n",
       "3       6826520                 SL                   Nombramientos.   \n",
       "4       6826521                 SL                   Nombramientos.   \n",
       "5       6826522                 SL                    Reelecciones.   \n",
       "6       6826523                 SL                    Reelecciones.   \n",
       "7       6826524                 SL                    Reelecciones.   \n",
       "8       6826525                 SL                    Reelecciones.   \n",
       "9       6826526                 SL                Ceses/Dimisiones.   \n",
       "10      6826527                 SL                Ceses/Dimisiones.   \n",
       "11      6826528                 SL                Ceses/Dimisiones.   \n",
       "12      6826529                 SL     Modificaciones estatutarias.   \n",
       "13      6826530                 SL     Modificaciones estatutarias.   \n",
       "14      6826531                 SL      Cambio de domicilio social.   \n",
       "15      6826532                 SL     Modificaciones estatutarias.   \n",
       "16      6826533                 SL      Cambio de domicilio social.   \n",
       "17      6826534                 SL             Situación concursal.   \n",
       "18      6826535                 SL                   Nombramientos.   \n",
       "19      6826536                 SL                    Reelecciones.   \n",
       "20      6826537                 SL                   Nombramientos.   \n",
       "21      6826538                 SL                    Reelecciones.   \n",
       "22      6826539                 SL                    Constitución.   \n",
       "23      6826540                 SL                   Nombramientos.   \n",
       "24      6826541                 SL                   Nombramientos.   \n",
       "25      6826542                 SL                   Nombramientos.   \n",
       "26      6826543                 SL                    Reelecciones.   \n",
       "27      6826544                 SL                   Nombramientos.   \n",
       "28      6826545                 SL                Ceses/Dimisiones.   \n",
       "29      6826546                 SL                      Disolución.   \n",
       "...         ...                ...                              ...   \n",
       "833302  4349900                 SL                      Disolución.   \n",
       "833303  4349901                 SL                       Extinción.   \n",
       "833304  4349902                 SL                   Nombramientos.   \n",
       "833305  4349903  SOCIEDAD LIMITADA     Modificaciones estatutarias.   \n",
       "833306  4349904  SOCIEDAD LIMITADA    Ampliacion del objeto social.   \n",
       "833307  4349905                SLL             Situación concursal.   \n",
       "833308  4349906  SA EN LIQUIDACION             Situación concursal.   \n",
       "833309  4349907  SOCIEDAD LIMITADA                   Nombramientos.   \n",
       "833310  4349908  SOCIEDAD LIMITADA  Declaración de unipersonalidad.   \n",
       "833311  4349909  SOCIEDAD LIMITADA                    Constitución.   \n",
       "833312  4349910  SOCIEDAD LIMITADA                   Nombramientos.   \n",
       "833313  4349911  SOCIEDAD LIMITADA  Declaración de unipersonalidad.   \n",
       "833314  4349912  SOCIEDAD LIMITADA      Cambio de domicilio social.   \n",
       "833315  4349913  SOCIEDAD LIMITADA                   Nombramientos.   \n",
       "833316  4349914  SOCIEDAD LIMITADA  Declaración de unipersonalidad.   \n",
       "833317  4349915                 SL                   Fe de erratas.   \n",
       "833318  4349916                 SL                   Nombramientos.   \n",
       "833319  4349917                 SL                   Nombramientos.   \n",
       "833320  4349918                 SL                   Nombramientos.   \n",
       "833321  4349919                 SL                   Nombramientos.   \n",
       "833322  4349920                 SA                   Nombramientos.   \n",
       "833323  4349921                 SL                   Nombramientos.   \n",
       "833324  4349922                 SL                    Constitución.   \n",
       "833325  4349923                 SL     Modificaciones estatutarias.   \n",
       "833326  4349924                 SL           Ampliación de capital.   \n",
       "833327  4349925                 SL     Modificaciones estatutarias.   \n",
       "833328  4349926                 SL           Ampliación de capital.   \n",
       "833329  4349927                 SL                   Nombramientos.   \n",
       "833330  4349928                 SL  Declaración de unipersonalidad.   \n",
       "833331  4349929                 SL                    Constitución.   \n",
       "\n",
       "              subevento codevento                                  actor  \\\n",
       "0        vicepresidente     44_14              PENA RUSHTON JUAN ANTONIO   \n",
       "1            secretario      44_9                    BABIO  LOPEZ  JESUS   \n",
       "2             consejero      44_5          QUEIJO  COLLAZO  MARIA OTILIA   \n",
       "3             consejero      44_5                GONZALEZ  CONDE  CARLOS   \n",
       "4             consejero      44_5                DOMINGUEZ  VILA  MARCOS   \n",
       "5             consejero      46_5              PENA RUSHTON JUAN ANTONIO   \n",
       "6             consejero      46_5                      BABIO LOPEZ JESUS   \n",
       "7             consejero      46_5                   RATO OLAY JOSE RAMON   \n",
       "8            presidente     46_13                   RATO OLAY JOSE RAMON   \n",
       "9             consejero      42_5                 SANESTEBAN VEZ MARCIAL   \n",
       "10            consejero      42_5               GARCIA FERNANDEZ ANTONIO   \n",
       "11           secretario      42_9                 SANESTEBAN VEZ MARCIAL   \n",
       "12                otros       702                                    NaN   \n",
       "13                otros       702                                    NaN   \n",
       "14                  NaN       603                                    NaN   \n",
       "15                otros       702                                    NaN   \n",
       "16                  NaN       603                                    NaN   \n",
       "17         num_concurso        26                               141/2009   \n",
       "18              auditor     44_25                              AUCTOR SL   \n",
       "19              auditor     46_25                              AUCTOR SL   \n",
       "20          admin_unico      44_2                            VEYMOSAN SL   \n",
       "21              auditor     46_25                              AUCTOR SL   \n",
       "22                  NaN        40                                    NaN   \n",
       "23      apoderado_solid     44_22                   HERVES ALVAREZ PEDRO   \n",
       "24      apoderado_solid     44_22                BREA HERVES MARIA ELENA   \n",
       "25      apoderado_solid     44_22                  BREA HERVES JOSE LUIS   \n",
       "26              auditor     46_25                              AUCTOR SL   \n",
       "27           liquidador     44_15           FERNANDEZ LORENZO JOSE RAMON   \n",
       "28          admin_unico      42_2           FERNANDEZ LORENZO JOSE RAMON   \n",
       "29           voluntaria        16                            Voluntaria.   \n",
       "...                 ...       ...                                    ...   \n",
       "833302       voluntaria        16                            Voluntaria.   \n",
       "833303            otros      16_1                                    NaN   \n",
       "833304        apoderado     44_21                       LOPEZ RIVAS LUIS   \n",
       "833305            otros       702                                    NaN   \n",
       "833306              NaN       NaN                                    NaN   \n",
       "833307     num_concurso        26                               513/2014   \n",
       "833308     num_concurso        26                               485/2013   \n",
       "833309      admin_unico      44_2         FLORES FLORES MARIA DEL CARMEN   \n",
       "833310      socio_unico      50_1             NUÑEZ QUILES PEDRO ANTONIO   \n",
       "833311              NaN        40                                    NaN   \n",
       "833312      admin_unico      44_2  RODRIGUEZ  HANNIKAINEN  KENNET  DAVEN   \n",
       "833313      socio_unico      50_1     RODRIGUEZ HANNIKAINEN KENNET DAVEN   \n",
       "833314              NaN       603                                    NaN   \n",
       "833315      admin_unico      44_2                      PECO MOLINA DAVID   \n",
       "833316      socio_unico      50_1                      PECO MOLINA DAVID   \n",
       "833317            otros       700                                    NaN   \n",
       "833318        apoderado     44_21                      MERA GOMEZ LEONOR   \n",
       "833319        apoderado     44_21                      MERA GOMEZ LEONOR   \n",
       "833320        apoderado     44_21                      MERA GOMEZ LEONOR   \n",
       "833321        apoderado     44_21              SERRANO EPAIZABAL ALBERTO   \n",
       "833322          auditor     44_25                ESTEO SANCHEZ FRANCISCO   \n",
       "833323      admin_unico      44_2           GARCIA SANTAMARIA JUAN FELIX   \n",
       "833324              NaN        40                                    NaN   \n",
       "833325            otros       702                                    NaN   \n",
       "833326              NaN        18                                    NaN   \n",
       "833327            otros       702                                    NaN   \n",
       "833328              NaN        18                                    NaN   \n",
       "833329      admin_unico      44_2            GARCIA GUILLEN MANUEL JESUS   \n",
       "833330      socio_unico      50_1            GARCIA GUILLEN MANUEL JESUS   \n",
       "833331              NaN        40                                    NaN   \n",
       "\n",
       "       fecha_publicacion        cif  \\\n",
       "0             11/02/2010  B15371222   \n",
       "1             11/02/2010  B15371222   \n",
       "2             11/02/2010  B15371222   \n",
       "3             11/02/2010  B15371222   \n",
       "4             11/02/2010  B15371222   \n",
       "5             11/02/2010  B15371222   \n",
       "6             11/02/2010  B15371222   \n",
       "7             11/02/2010  B15371222   \n",
       "8             11/02/2010  B15371222   \n",
       "9             11/02/2010  B15371222   \n",
       "10            11/02/2010  B15371222   \n",
       "11            11/02/2010  B15371222   \n",
       "12            11/02/2010  B15371222   \n",
       "13            11/02/2010  B70180260   \n",
       "14            11/02/2010  B70180260   \n",
       "15            11/02/2010  B70159405   \n",
       "16            11/02/2010  B70159405   \n",
       "17            11/02/2010  B15447634   \n",
       "18            11/02/2010  B15856248   \n",
       "19            11/02/2010  B15804404   \n",
       "20            11/02/2010        NaN   \n",
       "21            11/02/2010        NaN   \n",
       "22            11/02/2010        NaN   \n",
       "23            11/02/2010  B70237375   \n",
       "24            11/02/2010  B70237375   \n",
       "25            11/02/2010  B70237375   \n",
       "26            11/02/2010  B15647795   \n",
       "27            11/02/2010  B15920358   \n",
       "28            11/02/2010  B15920358   \n",
       "29            11/02/2010  B15920358   \n",
       "...                  ...        ...   \n",
       "833302        31/03/2015        NaN   \n",
       "833303        31/03/2015        NaN   \n",
       "833304        31/03/2015  B04799581   \n",
       "833305        31/03/2015  B04711941   \n",
       "833306        31/03/2015  B04711941   \n",
       "833307        31/03/2015  B04625489   \n",
       "833308        31/03/2015  A04111308   \n",
       "833309        31/03/2015  B04812285   \n",
       "833310        31/03/2015  B04812285   \n",
       "833311        31/03/2015  B04812285   \n",
       "833312        31/03/2015  B04776456   \n",
       "833313        31/03/2015  B04776456   \n",
       "833314        31/03/2015  B04776456   \n",
       "833315        31/03/2015  B04812301   \n",
       "833316        31/03/2015  B04812301   \n",
       "833317        31/03/2015  B06413397   \n",
       "833318        31/03/2015  B06462121   \n",
       "833319        31/03/2015  B06495568   \n",
       "833320        31/03/2015        NaN   \n",
       "833321        31/03/2015  B82109703   \n",
       "833322        31/03/2015  A06009104   \n",
       "833323        31/03/2015  B06675037   \n",
       "833324        31/03/2015  B06675037   \n",
       "833325        31/03/2015  B06477244   \n",
       "833326        31/03/2015  B06477244   \n",
       "833327        31/03/2015  B06667158   \n",
       "833328        31/03/2015  B06667158   \n",
       "833329        31/03/2015  B06671903   \n",
       "833330        31/03/2015  B06671903   \n",
       "833331        31/03/2015  B06671903   \n",
       "\n",
       "                                                   nombre  \n",
       "0                      CENTRAL ELECTRODOMESTICOS NOROESTE  \n",
       "1                      CENTRAL ELECTRODOMESTICOS NOROESTE  \n",
       "2                      CENTRAL ELECTRODOMESTICOS NOROESTE  \n",
       "3                      CENTRAL ELECTRODOMESTICOS NOROESTE  \n",
       "4                      CENTRAL ELECTRODOMESTICOS NOROESTE  \n",
       "5                      CENTRAL ELECTRODOMESTICOS NOROESTE  \n",
       "6                      CENTRAL ELECTRODOMESTICOS NOROESTE  \n",
       "7                      CENTRAL ELECTRODOMESTICOS NOROESTE  \n",
       "8                      CENTRAL ELECTRODOMESTICOS NOROESTE  \n",
       "9                      CENTRAL ELECTRODOMESTICOS NOROESTE  \n",
       "10                     CENTRAL ELECTRODOMESTICOS NOROESTE  \n",
       "11                     CENTRAL ELECTRODOMESTICOS NOROESTE  \n",
       "12                     CENTRAL ELECTRODOMESTICOS NOROESTE  \n",
       "13                               GENS DIGITAL INCORPORATE  \n",
       "14                               GENS DIGITAL INCORPORATE  \n",
       "15                                       ENCOMUN ANALISIS  \n",
       "16                                       ENCOMUN ANALISIS  \n",
       "17                                        CARNICAS ALBINO  \n",
       "18                                URBANIZADORA PENINSULAR  \n",
       "19                                               RALOCASA  \n",
       "20                              MAEXPA GRUPO INMOBILIARIO  \n",
       "21                              MAEXPA GRUPO INMOBILIARIO  \n",
       "22                              MAEXPA GRUPO INMOBILIARIO  \n",
       "23                                       BREACAR SANTIAGO  \n",
       "24                                       BREACAR SANTIAGO  \n",
       "25                                       BREACAR SANTIAGO  \n",
       "26                                          GEXPA GESTION  \n",
       "27                                   INSTITUTO PEDIATRICO  \n",
       "28                                   INSTITUTO PEDIATRICO  \n",
       "29                                   INSTITUTO PEDIATRICO  \n",
       "...                                                   ...  \n",
       "833302                                   AUTOMATICOS C.L.  \n",
       "833303                                   AUTOMATICOS C.L.  \n",
       "833304                              RUSTICAS ROQUETAS 001  \n",
       "833305                                           ASPAPROS  \n",
       "833306                                           ASPAPROS  \n",
       "833307            TALLER DE CHAPA Y PINTURA HNOS POVEDANO  \n",
       "833308                                             CRUMAR  \n",
       "833309                               BEALMERIA PROMOTORES  \n",
       "833310                               BEALMERIA PROMOTORES  \n",
       "833311                               BEALMERIA PROMOTORES  \n",
       "833312                                      MORE LIFE VAP  \n",
       "833313                                      MORE LIFE VAP  \n",
       "833314                                      MORE LIFE VAP  \n",
       "833315                                MEZUR INSTALACIONES  \n",
       "833316                                MEZUR INSTALACIONES  \n",
       "833317                                          FEGA-2004  \n",
       "833318                                   SOL DEL GUADIANA  \n",
       "833319                                APORTES ENERGETICOS  \n",
       "833320  SUMINISTRO DE MATERIALES DE CONSTRUCCION EXTRE...  \n",
       "833321          SUMAN INGENIERIA Y SERVICIOS DE SEGURIDAD  \n",
       "833322                   JOCA INGENIERIA Y CONSTRUCCIONES  \n",
       "833323                                        RESTAMERIDA  \n",
       "833324                                        RESTAMERIDA  \n",
       "833325                                     OLEOVENZA 2014  \n",
       "833326                                     OLEOVENZA 2014  \n",
       "833327                                           CIFUCANO  \n",
       "833328                                           CIFUCANO  \n",
       "833329                                    NUTREX AGRIFOOD  \n",
       "833330                                    NUTREX AGRIFOOD  \n",
       "833331                                    NUTREX AGRIFOOD  \n",
       "\n",
       "[1666664 rows x 9 columns]"
      ]
     },
     "execution_count": 48,
     "metadata": {},
     "output_type": "execute_result"
    }
   ],
   "source": [
    "dfeventsNew"
   ]
  },
  {
   "cell_type": "code",
   "execution_count": 49,
   "metadata": {
    "collapsed": true
   },
   "outputs": [],
   "source": [
    "dfeventsNew=dfeventsNew.dropna()"
   ]
  },
  {
   "cell_type": "code",
   "execution_count": 50,
   "metadata": {
    "collapsed": false
   },
   "outputs": [
    {
     "data": {
      "text/plain": [
       "0         6826517\n",
       "1         6826518\n",
       "2         6826519\n",
       "3         6826520\n",
       "4         6826521\n",
       "5         6826522\n",
       "6         6826523\n",
       "7         6826524\n",
       "8         6826525\n",
       "9         6826526\n",
       "10        6826527\n",
       "11        6826528\n",
       "17        6826534\n",
       "18        6826535\n",
       "19        6826536\n",
       "23        6826540\n",
       "24        6826541\n",
       "25        6826542\n",
       "26        6826543\n",
       "27        6826544\n",
       "28        6826545\n",
       "29        6826546\n",
       "46        6826563\n",
       "49        6826566\n",
       "50        6826567\n",
       "51        6826568\n",
       "52        6826569\n",
       "58        6826575\n",
       "59        6826576\n",
       "60        6826577\n",
       "           ...   \n",
       "833271    4349869\n",
       "833272    4349870\n",
       "833281    4349879\n",
       "833283    4349881\n",
       "833284    4349882\n",
       "833286    4349884\n",
       "833287    4349885\n",
       "833292    4349890\n",
       "833294    4349892\n",
       "833295    4349893\n",
       "833296    4349894\n",
       "833297    4349895\n",
       "833298    4349896\n",
       "833299    4349897\n",
       "833304    4349902\n",
       "833307    4349905\n",
       "833308    4349906\n",
       "833309    4349907\n",
       "833310    4349908\n",
       "833312    4349910\n",
       "833313    4349911\n",
       "833315    4349913\n",
       "833316    4349914\n",
       "833318    4349916\n",
       "833319    4349917\n",
       "833321    4349919\n",
       "833322    4349920\n",
       "833323    4349921\n",
       "833329    4349927\n",
       "833330    4349928\n",
       "Name: rowID, dtype: int64"
      ]
     },
     "execution_count": 50,
     "metadata": {},
     "output_type": "execute_result"
    }
   ],
   "source": [
    "dfeventsNew['rowID'].drop_duplicates()"
   ]
  },
  {
   "cell_type": "code",
   "execution_count": 53,
   "metadata": {
    "collapsed": false
   },
   "outputs": [
    {
     "data": {
      "text/plain": [
       "(1002673, 9)"
      ]
     },
     "execution_count": 53,
     "metadata": {},
     "output_type": "execute_result"
    }
   ],
   "source": [
    "dfeventsNew.shape"
   ]
  },
  {
   "cell_type": "code",
   "execution_count": 51,
   "metadata": {
    "collapsed": false
   },
   "outputs": [
    {
     "data": {
      "text/plain": [
       "array([u'SL', u'SA', u'SA EN LIQUIDACION', u'SOCIEDAD LIMITADA',\n",
       "       u'SOCIEDAD ANONIMA', u'SL EN LIQUIDACION', u'SLP EN LIQUIDACION',\n",
       "       u'SLP', u'SLL', u'SICAV SA', u'SOCIEDAD CIVIL PROFESIONAL',\n",
       "       u'SOCIEDAD DE RESPONSABILIDAD LIMITADA', u'SGA SOCIEDAD LIMITADA',\n",
       "       u'SOCIEDAD LIMITADA EN LIQUIDACION', u'SRL', u'SOCIEDAD',\n",
       "       u'SOCIEDAD LIMITADA PROFESIONAL', u'SA SOCIEDAD', u'SAL', u'S L',\n",
       "       u'SOCIEDAD ANONIMA EN LIQUIDACION', u'SOCIETAT LIMITADA', u'S A',\n",
       "       u'SMA SOCIEDAD', u'SOCIETAT ANONIMA', u'SC', u'SAP', u'S L P',\n",
       "       u'SICAV', u'SPA SOCIEDAD', u'SICAV SA EN LIQUIDACION',\n",
       "       u'SBA SOCIEDAD', u'SA SICAV', u'SAL EN LIQUIDACION',\n",
       "       u'SOL SOCIEDAD ANONIMA', u'SOCIEDAD ANONIMA PROFESIONAL',\n",
       "       u'SICAV SOCIEDAD ANONIMA', u'SA EN LIQUIDACION EN LIQUIDACION',\n",
       "       u'S L L', u'SLL EN LIQUIDACION', u'STIGI SOCIEDAD LIMITADA',\n",
       "       u'SOCIEDAD DE RESPONSABILIDAD LIMITADA EN LIQUIDACION',\n",
       "       u'SA SOCIEDAD LIMITADA', u'STAZU SOCIEDAD ANONIMA',\n",
       "       u'SAT SOCIEDAD LIMITADA', u'SA SOCIEDAD ANONIMA',\n",
       "       u'SAL SOCIEDAD LIMITADA', u'SALOU SOCIEDAD LIMITADA', u'SSA',\n",
       "       u'SMA SOCIEDAD LIMITADA', u'SOL SOCIEDAD LIMITADA',\n",
       "       u'SOCIEDAD LIMITADA UNIPERSONAL', u'SL SOCIEDAD',\n",
       "       u'SLP SOCIEDAD ANONIMA', u'SEL SOCIEDAD LIMITADA',\n",
       "       u'SRL EN LIQUIDACION', u'SOCIEDAD CIVIL', u'SLA SOCIEDAD LIMITADA',\n",
       "       u'SOCIEDAD DE RESPONSABILIDAD LIMITADA PROFESIONAL',\n",
       "       u'SL EN LIQUIDACION EN LIQUIDACION', u'SEA SOCIEDAD LIMITADA',\n",
       "       u'SPA SOCIEDAD LIMITADA', u'EN LIQUIDACION', u'S I C A V SA',\n",
       "       u'STA SOCIEDAD LIMITADA', u'SMA SOCIEDAD ANONIMA', u'SOCIETAT',\n",
       "       u'SAL SOCIEDAD LIMITADA EN LIQUIDACION', u'SCL SOCIEDAD LIMITADA',\n",
       "       u'SAL EN LIQUIDACION EN LIQUIDACION', u'SPIMI SOCIEDAD LIMITADA',\n",
       "       u'SA SOCIEDAD ANONIMA EN LIQUIDACION', u'S L EN LIQUIDACION',\n",
       "       u'SLA SOCIEDAD ANONIMA PROFESIONAL', u'SCA SOCIEDAD LIMITADA',\n",
       "       u'SIA SOCIEDAD LIMITADA', u'SOA SOCIEDAD LIMITADA',\n",
       "       u'SOCIEDAD DE RESPONSABILIDAD',\n",
       "       u'SOL SOCIEDAD DE RESPONSABILIDAD LIMITADA', u'SCL',\n",
       "       u'SRAJU SOCIEDAD LIMITADA', u'SCA SOCIEDAD ANONIMA',\n",
       "       u'START SOCIEDAD LIMITADA',\n",
       "       u'SOCIEDAD CIVIL PROFESIONAL EN LIQUIDACION',\n",
       "       u'SAL SOCIEDAD ANONIMA EN LIQUIDACION', u'SPA SOCIEDAD ANONIMA',\n",
       "       u'SOCIEDAD ANONIMA UNIPERSONAL', u'SIL SOCIEDAD LIMITADA',\n",
       "       u'SA SOCIEDAD LIMITADA EN LIQUIDACION', u'SMA', u'SAT',\n",
       "       u'SAL SOCIEDAD ANONIMA', u'SAT SOCIEDAD ANONIMA',\n",
       "       u'SOL SOCIEDAD LIMITADA EN LIQUIDACION',\n",
       "       u'SIA SOCIEDAD LIMITADA PROFESIONAL', u'SIL SOCIEDAD ANONIMA',\n",
       "       u'SCA', u'SCL EN LIQUIDACION', u'SOCIETAT LIMITADA EN LIQUIDACION',\n",
       "       u'S L L EN LIQUIDACION', u'SEART SOCIEDAD LIMITADA'], dtype=object)"
      ]
     },
     "execution_count": 51,
     "metadata": {},
     "output_type": "execute_result"
    }
   ],
   "source": [
    "# Modificaciones variable razon\n",
    "\n",
    "dfeventsNew['razon'].unique()"
   ]
  },
  {
   "cell_type": "code",
   "execution_count": 60,
   "metadata": {
    "collapsed": false
   },
   "outputs": [
    {
     "name": "stderr",
     "output_type": "stream",
     "text": [
      "/home/ec2-user/anaconda2/lib/python2.7/site-packages/ipykernel/__main__.py:3: SettingWithCopyWarning: \n",
      "A value is trying to be set on a copy of a slice from a DataFrame\n",
      "\n",
      "See the caveats in the documentation: http://pandas.pydata.org/pandas-docs/stable/indexing.html#indexing-view-versus-copy\n",
      "  app.launch_new_instance()\n"
     ]
    },
    {
     "name": "stdout",
     "output_type": "stream",
     "text": [
      "None\n"
     ]
    },
    {
     "name": "stderr",
     "output_type": "stream",
     "text": [
      "/home/ec2-user/anaconda2/lib/python2.7/site-packages/ipykernel/__main__.py:4: SettingWithCopyWarning: \n",
      "A value is trying to be set on a copy of a slice from a DataFrame\n",
      "\n",
      "See the caveats in the documentation: http://pandas.pydata.org/pandas-docs/stable/indexing.html#indexing-view-versus-copy\n"
     ]
    },
    {
     "name": "stdout",
     "output_type": "stream",
     "text": [
      "None\n"
     ]
    },
    {
     "name": "stderr",
     "output_type": "stream",
     "text": [
      "/home/ec2-user/anaconda2/lib/python2.7/site-packages/ipykernel/__main__.py:5: SettingWithCopyWarning: \n",
      "A value is trying to be set on a copy of a slice from a DataFrame\n",
      "\n",
      "See the caveats in the documentation: http://pandas.pydata.org/pandas-docs/stable/indexing.html#indexing-view-versus-copy\n"
     ]
    },
    {
     "name": "stdout",
     "output_type": "stream",
     "text": [
      "None\n"
     ]
    },
    {
     "name": "stderr",
     "output_type": "stream",
     "text": [
      "/home/ec2-user/anaconda2/lib/python2.7/site-packages/ipykernel/__main__.py:6: SettingWithCopyWarning: \n",
      "A value is trying to be set on a copy of a slice from a DataFrame\n",
      "\n",
      "See the caveats in the documentation: http://pandas.pydata.org/pandas-docs/stable/indexing.html#indexing-view-versus-copy\n"
     ]
    },
    {
     "name": "stdout",
     "output_type": "stream",
     "text": [
      "None\n"
     ]
    },
    {
     "name": "stderr",
     "output_type": "stream",
     "text": [
      "/home/ec2-user/anaconda2/lib/python2.7/site-packages/ipykernel/__main__.py:7: SettingWithCopyWarning: \n",
      "A value is trying to be set on a copy of a slice from a DataFrame\n",
      "\n",
      "See the caveats in the documentation: http://pandas.pydata.org/pandas-docs/stable/indexing.html#indexing-view-versus-copy\n"
     ]
    },
    {
     "name": "stdout",
     "output_type": "stream",
     "text": [
      "None\n"
     ]
    },
    {
     "name": "stderr",
     "output_type": "stream",
     "text": [
      "/home/ec2-user/anaconda2/lib/python2.7/site-packages/ipykernel/__main__.py:8: SettingWithCopyWarning: \n",
      "A value is trying to be set on a copy of a slice from a DataFrame\n",
      "\n",
      "See the caveats in the documentation: http://pandas.pydata.org/pandas-docs/stable/indexing.html#indexing-view-versus-copy\n"
     ]
    },
    {
     "name": "stdout",
     "output_type": "stream",
     "text": [
      "None\n"
     ]
    },
    {
     "name": "stderr",
     "output_type": "stream",
     "text": [
      "/home/ec2-user/anaconda2/lib/python2.7/site-packages/ipykernel/__main__.py:9: SettingWithCopyWarning: \n",
      "A value is trying to be set on a copy of a slice from a DataFrame\n",
      "\n",
      "See the caveats in the documentation: http://pandas.pydata.org/pandas-docs/stable/indexing.html#indexing-view-versus-copy\n"
     ]
    },
    {
     "name": "stdout",
     "output_type": "stream",
     "text": [
      "None\n"
     ]
    },
    {
     "name": "stderr",
     "output_type": "stream",
     "text": [
      "/home/ec2-user/anaconda2/lib/python2.7/site-packages/ipykernel/__main__.py:10: SettingWithCopyWarning: \n",
      "A value is trying to be set on a copy of a slice from a DataFrame\n",
      "\n",
      "See the caveats in the documentation: http://pandas.pydata.org/pandas-docs/stable/indexing.html#indexing-view-versus-copy\n"
     ]
    },
    {
     "name": "stdout",
     "output_type": "stream",
     "text": [
      "None\n"
     ]
    },
    {
     "name": "stderr",
     "output_type": "stream",
     "text": [
      "/home/ec2-user/anaconda2/lib/python2.7/site-packages/ipykernel/__main__.py:11: SettingWithCopyWarning: \n",
      "A value is trying to be set on a copy of a slice from a DataFrame\n",
      "\n",
      "See the caveats in the documentation: http://pandas.pydata.org/pandas-docs/stable/indexing.html#indexing-view-versus-copy\n"
     ]
    },
    {
     "name": "stdout",
     "output_type": "stream",
     "text": [
      "None\n"
     ]
    },
    {
     "name": "stderr",
     "output_type": "stream",
     "text": [
      "/home/ec2-user/anaconda2/lib/python2.7/site-packages/ipykernel/__main__.py:12: SettingWithCopyWarning: \n",
      "A value is trying to be set on a copy of a slice from a DataFrame\n",
      "\n",
      "See the caveats in the documentation: http://pandas.pydata.org/pandas-docs/stable/indexing.html#indexing-view-versus-copy\n"
     ]
    },
    {
     "name": "stdout",
     "output_type": "stream",
     "text": [
      "None\n"
     ]
    },
    {
     "name": "stderr",
     "output_type": "stream",
     "text": [
      "/home/ec2-user/anaconda2/lib/python2.7/site-packages/ipykernel/__main__.py:13: SettingWithCopyWarning: \n",
      "A value is trying to be set on a copy of a slice from a DataFrame\n",
      "\n",
      "See the caveats in the documentation: http://pandas.pydata.org/pandas-docs/stable/indexing.html#indexing-view-versus-copy\n"
     ]
    },
    {
     "name": "stdout",
     "output_type": "stream",
     "text": [
      "None\n"
     ]
    },
    {
     "name": "stderr",
     "output_type": "stream",
     "text": [
      "/home/ec2-user/anaconda2/lib/python2.7/site-packages/ipykernel/__main__.py:14: SettingWithCopyWarning: \n",
      "A value is trying to be set on a copy of a slice from a DataFrame\n",
      "\n",
      "See the caveats in the documentation: http://pandas.pydata.org/pandas-docs/stable/indexing.html#indexing-view-versus-copy\n"
     ]
    },
    {
     "name": "stdout",
     "output_type": "stream",
     "text": [
      "None\n"
     ]
    },
    {
     "name": "stderr",
     "output_type": "stream",
     "text": [
      "/home/ec2-user/anaconda2/lib/python2.7/site-packages/ipykernel/__main__.py:15: SettingWithCopyWarning: \n",
      "A value is trying to be set on a copy of a slice from a DataFrame\n",
      "\n",
      "See the caveats in the documentation: http://pandas.pydata.org/pandas-docs/stable/indexing.html#indexing-view-versus-copy\n"
     ]
    },
    {
     "name": "stdout",
     "output_type": "stream",
     "text": [
      "None\n"
     ]
    },
    {
     "name": "stderr",
     "output_type": "stream",
     "text": [
      "/home/ec2-user/anaconda2/lib/python2.7/site-packages/ipykernel/__main__.py:16: SettingWithCopyWarning: \n",
      "A value is trying to be set on a copy of a slice from a DataFrame\n",
      "\n",
      "See the caveats in the documentation: http://pandas.pydata.org/pandas-docs/stable/indexing.html#indexing-view-versus-copy\n"
     ]
    },
    {
     "name": "stdout",
     "output_type": "stream",
     "text": [
      "None\n"
     ]
    },
    {
     "name": "stderr",
     "output_type": "stream",
     "text": [
      "/home/ec2-user/anaconda2/lib/python2.7/site-packages/ipykernel/__main__.py:17: SettingWithCopyWarning: \n",
      "A value is trying to be set on a copy of a slice from a DataFrame\n",
      "\n",
      "See the caveats in the documentation: http://pandas.pydata.org/pandas-docs/stable/indexing.html#indexing-view-versus-copy\n"
     ]
    },
    {
     "name": "stdout",
     "output_type": "stream",
     "text": [
      "None\n"
     ]
    },
    {
     "name": "stderr",
     "output_type": "stream",
     "text": [
      "/home/ec2-user/anaconda2/lib/python2.7/site-packages/ipykernel/__main__.py:18: SettingWithCopyWarning: \n",
      "A value is trying to be set on a copy of a slice from a DataFrame\n",
      "\n",
      "See the caveats in the documentation: http://pandas.pydata.org/pandas-docs/stable/indexing.html#indexing-view-versus-copy\n"
     ]
    },
    {
     "name": "stdout",
     "output_type": "stream",
     "text": [
      "None\n"
     ]
    },
    {
     "name": "stderr",
     "output_type": "stream",
     "text": [
      "/home/ec2-user/anaconda2/lib/python2.7/site-packages/ipykernel/__main__.py:19: SettingWithCopyWarning: \n",
      "A value is trying to be set on a copy of a slice from a DataFrame\n",
      "\n",
      "See the caveats in the documentation: http://pandas.pydata.org/pandas-docs/stable/indexing.html#indexing-view-versus-copy\n"
     ]
    },
    {
     "name": "stdout",
     "output_type": "stream",
     "text": [
      "None\n"
     ]
    },
    {
     "name": "stderr",
     "output_type": "stream",
     "text": [
      "/home/ec2-user/anaconda2/lib/python2.7/site-packages/ipykernel/__main__.py:20: SettingWithCopyWarning: \n",
      "A value is trying to be set on a copy of a slice from a DataFrame\n",
      "\n",
      "See the caveats in the documentation: http://pandas.pydata.org/pandas-docs/stable/indexing.html#indexing-view-versus-copy\n"
     ]
    },
    {
     "name": "stdout",
     "output_type": "stream",
     "text": [
      "None\n"
     ]
    },
    {
     "name": "stderr",
     "output_type": "stream",
     "text": [
      "/home/ec2-user/anaconda2/lib/python2.7/site-packages/ipykernel/__main__.py:21: SettingWithCopyWarning: \n",
      "A value is trying to be set on a copy of a slice from a DataFrame\n",
      "\n",
      "See the caveats in the documentation: http://pandas.pydata.org/pandas-docs/stable/indexing.html#indexing-view-versus-copy\n"
     ]
    },
    {
     "name": "stdout",
     "output_type": "stream",
     "text": [
      "None\n"
     ]
    },
    {
     "name": "stderr",
     "output_type": "stream",
     "text": [
      "/home/ec2-user/anaconda2/lib/python2.7/site-packages/ipykernel/__main__.py:22: SettingWithCopyWarning: \n",
      "A value is trying to be set on a copy of a slice from a DataFrame\n",
      "\n",
      "See the caveats in the documentation: http://pandas.pydata.org/pandas-docs/stable/indexing.html#indexing-view-versus-copy\n"
     ]
    },
    {
     "name": "stdout",
     "output_type": "stream",
     "text": [
      "None\n"
     ]
    },
    {
     "name": "stderr",
     "output_type": "stream",
     "text": [
      "/home/ec2-user/anaconda2/lib/python2.7/site-packages/ipykernel/__main__.py:23: SettingWithCopyWarning: \n",
      "A value is trying to be set on a copy of a slice from a DataFrame\n",
      "\n",
      "See the caveats in the documentation: http://pandas.pydata.org/pandas-docs/stable/indexing.html#indexing-view-versus-copy\n"
     ]
    },
    {
     "name": "stdout",
     "output_type": "stream",
     "text": [
      "None\n"
     ]
    },
    {
     "name": "stderr",
     "output_type": "stream",
     "text": [
      "/home/ec2-user/anaconda2/lib/python2.7/site-packages/ipykernel/__main__.py:24: SettingWithCopyWarning: \n",
      "A value is trying to be set on a copy of a slice from a DataFrame\n",
      "\n",
      "See the caveats in the documentation: http://pandas.pydata.org/pandas-docs/stable/indexing.html#indexing-view-versus-copy\n"
     ]
    },
    {
     "name": "stdout",
     "output_type": "stream",
     "text": [
      "None\n"
     ]
    },
    {
     "name": "stderr",
     "output_type": "stream",
     "text": [
      "/home/ec2-user/anaconda2/lib/python2.7/site-packages/ipykernel/__main__.py:25: SettingWithCopyWarning: \n",
      "A value is trying to be set on a copy of a slice from a DataFrame\n",
      "\n",
      "See the caveats in the documentation: http://pandas.pydata.org/pandas-docs/stable/indexing.html#indexing-view-versus-copy\n"
     ]
    },
    {
     "name": "stdout",
     "output_type": "stream",
     "text": [
      "None\n"
     ]
    },
    {
     "name": "stderr",
     "output_type": "stream",
     "text": [
      "/home/ec2-user/anaconda2/lib/python2.7/site-packages/ipykernel/__main__.py:26: SettingWithCopyWarning: \n",
      "A value is trying to be set on a copy of a slice from a DataFrame\n",
      "\n",
      "See the caveats in the documentation: http://pandas.pydata.org/pandas-docs/stable/indexing.html#indexing-view-versus-copy\n"
     ]
    },
    {
     "name": "stdout",
     "output_type": "stream",
     "text": [
      "None\n"
     ]
    },
    {
     "name": "stderr",
     "output_type": "stream",
     "text": [
      "/home/ec2-user/anaconda2/lib/python2.7/site-packages/ipykernel/__main__.py:27: SettingWithCopyWarning: \n",
      "A value is trying to be set on a copy of a slice from a DataFrame\n",
      "\n",
      "See the caveats in the documentation: http://pandas.pydata.org/pandas-docs/stable/indexing.html#indexing-view-versus-copy\n"
     ]
    },
    {
     "name": "stdout",
     "output_type": "stream",
     "text": [
      "None\n"
     ]
    },
    {
     "name": "stderr",
     "output_type": "stream",
     "text": [
      "/home/ec2-user/anaconda2/lib/python2.7/site-packages/ipykernel/__main__.py:28: SettingWithCopyWarning: \n",
      "A value is trying to be set on a copy of a slice from a DataFrame\n",
      "\n",
      "See the caveats in the documentation: http://pandas.pydata.org/pandas-docs/stable/indexing.html#indexing-view-versus-copy\n"
     ]
    },
    {
     "name": "stdout",
     "output_type": "stream",
     "text": [
      "None\n"
     ]
    },
    {
     "name": "stderr",
     "output_type": "stream",
     "text": [
      "/home/ec2-user/anaconda2/lib/python2.7/site-packages/ipykernel/__main__.py:29: SettingWithCopyWarning: \n",
      "A value is trying to be set on a copy of a slice from a DataFrame\n",
      "\n",
      "See the caveats in the documentation: http://pandas.pydata.org/pandas-docs/stable/indexing.html#indexing-view-versus-copy\n"
     ]
    },
    {
     "name": "stdout",
     "output_type": "stream",
     "text": [
      "None\n"
     ]
    },
    {
     "name": "stderr",
     "output_type": "stream",
     "text": [
      "/home/ec2-user/anaconda2/lib/python2.7/site-packages/ipykernel/__main__.py:30: SettingWithCopyWarning: \n",
      "A value is trying to be set on a copy of a slice from a DataFrame\n",
      "\n",
      "See the caveats in the documentation: http://pandas.pydata.org/pandas-docs/stable/indexing.html#indexing-view-versus-copy\n"
     ]
    },
    {
     "name": "stdout",
     "output_type": "stream",
     "text": [
      "None\n"
     ]
    },
    {
     "name": "stderr",
     "output_type": "stream",
     "text": [
      "/home/ec2-user/anaconda2/lib/python2.7/site-packages/ipykernel/__main__.py:31: SettingWithCopyWarning: \n",
      "A value is trying to be set on a copy of a slice from a DataFrame\n",
      "\n",
      "See the caveats in the documentation: http://pandas.pydata.org/pandas-docs/stable/indexing.html#indexing-view-versus-copy\n"
     ]
    },
    {
     "name": "stdout",
     "output_type": "stream",
     "text": [
      "None\n"
     ]
    },
    {
     "name": "stderr",
     "output_type": "stream",
     "text": [
      "/home/ec2-user/anaconda2/lib/python2.7/site-packages/ipykernel/__main__.py:32: SettingWithCopyWarning: \n",
      "A value is trying to be set on a copy of a slice from a DataFrame\n",
      "\n",
      "See the caveats in the documentation: http://pandas.pydata.org/pandas-docs/stable/indexing.html#indexing-view-versus-copy\n"
     ]
    },
    {
     "name": "stdout",
     "output_type": "stream",
     "text": [
      "None\n"
     ]
    },
    {
     "name": "stderr",
     "output_type": "stream",
     "text": [
      "/home/ec2-user/anaconda2/lib/python2.7/site-packages/ipykernel/__main__.py:33: SettingWithCopyWarning: \n",
      "A value is trying to be set on a copy of a slice from a DataFrame\n",
      "\n",
      "See the caveats in the documentation: http://pandas.pydata.org/pandas-docs/stable/indexing.html#indexing-view-versus-copy\n"
     ]
    },
    {
     "name": "stdout",
     "output_type": "stream",
     "text": [
      "None\n"
     ]
    },
    {
     "name": "stderr",
     "output_type": "stream",
     "text": [
      "/home/ec2-user/anaconda2/lib/python2.7/site-packages/ipykernel/__main__.py:34: SettingWithCopyWarning: \n",
      "A value is trying to be set on a copy of a slice from a DataFrame\n",
      "\n",
      "See the caveats in the documentation: http://pandas.pydata.org/pandas-docs/stable/indexing.html#indexing-view-versus-copy\n"
     ]
    },
    {
     "name": "stdout",
     "output_type": "stream",
     "text": [
      "None\n"
     ]
    },
    {
     "name": "stderr",
     "output_type": "stream",
     "text": [
      "/home/ec2-user/anaconda2/lib/python2.7/site-packages/ipykernel/__main__.py:35: SettingWithCopyWarning: \n",
      "A value is trying to be set on a copy of a slice from a DataFrame\n",
      "\n",
      "See the caveats in the documentation: http://pandas.pydata.org/pandas-docs/stable/indexing.html#indexing-view-versus-copy\n"
     ]
    },
    {
     "name": "stdout",
     "output_type": "stream",
     "text": [
      "None\n"
     ]
    },
    {
     "name": "stderr",
     "output_type": "stream",
     "text": [
      "/home/ec2-user/anaconda2/lib/python2.7/site-packages/ipykernel/__main__.py:36: SettingWithCopyWarning: \n",
      "A value is trying to be set on a copy of a slice from a DataFrame\n",
      "\n",
      "See the caveats in the documentation: http://pandas.pydata.org/pandas-docs/stable/indexing.html#indexing-view-versus-copy\n"
     ]
    },
    {
     "name": "stdout",
     "output_type": "stream",
     "text": [
      "None\n"
     ]
    },
    {
     "name": "stderr",
     "output_type": "stream",
     "text": [
      "/home/ec2-user/anaconda2/lib/python2.7/site-packages/ipykernel/__main__.py:37: SettingWithCopyWarning: \n",
      "A value is trying to be set on a copy of a slice from a DataFrame\n",
      "\n",
      "See the caveats in the documentation: http://pandas.pydata.org/pandas-docs/stable/indexing.html#indexing-view-versus-copy\n"
     ]
    },
    {
     "name": "stdout",
     "output_type": "stream",
     "text": [
      "None\n"
     ]
    },
    {
     "name": "stderr",
     "output_type": "stream",
     "text": [
      "/home/ec2-user/anaconda2/lib/python2.7/site-packages/ipykernel/__main__.py:38: SettingWithCopyWarning: \n",
      "A value is trying to be set on a copy of a slice from a DataFrame\n",
      "\n",
      "See the caveats in the documentation: http://pandas.pydata.org/pandas-docs/stable/indexing.html#indexing-view-versus-copy\n"
     ]
    },
    {
     "name": "stdout",
     "output_type": "stream",
     "text": [
      "None\n"
     ]
    },
    {
     "name": "stderr",
     "output_type": "stream",
     "text": [
      "/home/ec2-user/anaconda2/lib/python2.7/site-packages/ipykernel/__main__.py:39: SettingWithCopyWarning: \n",
      "A value is trying to be set on a copy of a slice from a DataFrame\n",
      "\n",
      "See the caveats in the documentation: http://pandas.pydata.org/pandas-docs/stable/indexing.html#indexing-view-versus-copy\n"
     ]
    },
    {
     "name": "stdout",
     "output_type": "stream",
     "text": [
      "None\n"
     ]
    },
    {
     "name": "stderr",
     "output_type": "stream",
     "text": [
      "/home/ec2-user/anaconda2/lib/python2.7/site-packages/ipykernel/__main__.py:40: SettingWithCopyWarning: \n",
      "A value is trying to be set on a copy of a slice from a DataFrame\n",
      "\n",
      "See the caveats in the documentation: http://pandas.pydata.org/pandas-docs/stable/indexing.html#indexing-view-versus-copy\n"
     ]
    },
    {
     "name": "stdout",
     "output_type": "stream",
     "text": [
      "None\n"
     ]
    },
    {
     "name": "stderr",
     "output_type": "stream",
     "text": [
      "/home/ec2-user/anaconda2/lib/python2.7/site-packages/ipykernel/__main__.py:41: SettingWithCopyWarning: \n",
      "A value is trying to be set on a copy of a slice from a DataFrame\n",
      "\n",
      "See the caveats in the documentation: http://pandas.pydata.org/pandas-docs/stable/indexing.html#indexing-view-versus-copy\n"
     ]
    },
    {
     "name": "stdout",
     "output_type": "stream",
     "text": [
      "None\n"
     ]
    },
    {
     "name": "stderr",
     "output_type": "stream",
     "text": [
      "/home/ec2-user/anaconda2/lib/python2.7/site-packages/ipykernel/__main__.py:42: SettingWithCopyWarning: \n",
      "A value is trying to be set on a copy of a slice from a DataFrame\n",
      "\n",
      "See the caveats in the documentation: http://pandas.pydata.org/pandas-docs/stable/indexing.html#indexing-view-versus-copy\n"
     ]
    },
    {
     "name": "stdout",
     "output_type": "stream",
     "text": [
      "None\n"
     ]
    },
    {
     "name": "stderr",
     "output_type": "stream",
     "text": [
      "/home/ec2-user/anaconda2/lib/python2.7/site-packages/ipykernel/__main__.py:43: SettingWithCopyWarning: \n",
      "A value is trying to be set on a copy of a slice from a DataFrame\n",
      "\n",
      "See the caveats in the documentation: http://pandas.pydata.org/pandas-docs/stable/indexing.html#indexing-view-versus-copy\n"
     ]
    },
    {
     "name": "stdout",
     "output_type": "stream",
     "text": [
      "None\n"
     ]
    },
    {
     "name": "stderr",
     "output_type": "stream",
     "text": [
      "/home/ec2-user/anaconda2/lib/python2.7/site-packages/ipykernel/__main__.py:44: SettingWithCopyWarning: \n",
      "A value is trying to be set on a copy of a slice from a DataFrame\n",
      "\n",
      "See the caveats in the documentation: http://pandas.pydata.org/pandas-docs/stable/indexing.html#indexing-view-versus-copy\n"
     ]
    },
    {
     "name": "stdout",
     "output_type": "stream",
     "text": [
      "None\n"
     ]
    },
    {
     "name": "stderr",
     "output_type": "stream",
     "text": [
      "/home/ec2-user/anaconda2/lib/python2.7/site-packages/ipykernel/__main__.py:45: SettingWithCopyWarning: \n",
      "A value is trying to be set on a copy of a slice from a DataFrame\n",
      "\n",
      "See the caveats in the documentation: http://pandas.pydata.org/pandas-docs/stable/indexing.html#indexing-view-versus-copy\n"
     ]
    },
    {
     "name": "stdout",
     "output_type": "stream",
     "text": [
      "None\n"
     ]
    },
    {
     "name": "stderr",
     "output_type": "stream",
     "text": [
      "/home/ec2-user/anaconda2/lib/python2.7/site-packages/ipykernel/__main__.py:46: SettingWithCopyWarning: \n",
      "A value is trying to be set on a copy of a slice from a DataFrame\n",
      "\n",
      "See the caveats in the documentation: http://pandas.pydata.org/pandas-docs/stable/indexing.html#indexing-view-versus-copy\n"
     ]
    },
    {
     "name": "stdout",
     "output_type": "stream",
     "text": [
      "None\n"
     ]
    },
    {
     "name": "stderr",
     "output_type": "stream",
     "text": [
      "/home/ec2-user/anaconda2/lib/python2.7/site-packages/ipykernel/__main__.py:47: SettingWithCopyWarning: \n",
      "A value is trying to be set on a copy of a slice from a DataFrame\n",
      "\n",
      "See the caveats in the documentation: http://pandas.pydata.org/pandas-docs/stable/indexing.html#indexing-view-versus-copy\n"
     ]
    },
    {
     "name": "stdout",
     "output_type": "stream",
     "text": [
      "None\n"
     ]
    },
    {
     "name": "stderr",
     "output_type": "stream",
     "text": [
      "/home/ec2-user/anaconda2/lib/python2.7/site-packages/ipykernel/__main__.py:48: SettingWithCopyWarning: \n",
      "A value is trying to be set on a copy of a slice from a DataFrame\n",
      "\n",
      "See the caveats in the documentation: http://pandas.pydata.org/pandas-docs/stable/indexing.html#indexing-view-versus-copy\n"
     ]
    },
    {
     "name": "stdout",
     "output_type": "stream",
     "text": [
      "None\n"
     ]
    },
    {
     "name": "stderr",
     "output_type": "stream",
     "text": [
      "/home/ec2-user/anaconda2/lib/python2.7/site-packages/ipykernel/__main__.py:49: SettingWithCopyWarning: \n",
      "A value is trying to be set on a copy of a slice from a DataFrame\n",
      "\n",
      "See the caveats in the documentation: http://pandas.pydata.org/pandas-docs/stable/indexing.html#indexing-view-versus-copy\n"
     ]
    },
    {
     "name": "stdout",
     "output_type": "stream",
     "text": [
      "None\n"
     ]
    },
    {
     "name": "stderr",
     "output_type": "stream",
     "text": [
      "/home/ec2-user/anaconda2/lib/python2.7/site-packages/ipykernel/__main__.py:50: SettingWithCopyWarning: \n",
      "A value is trying to be set on a copy of a slice from a DataFrame\n",
      "\n",
      "See the caveats in the documentation: http://pandas.pydata.org/pandas-docs/stable/indexing.html#indexing-view-versus-copy\n"
     ]
    },
    {
     "name": "stdout",
     "output_type": "stream",
     "text": [
      "None\n"
     ]
    },
    {
     "name": "stderr",
     "output_type": "stream",
     "text": [
      "/home/ec2-user/anaconda2/lib/python2.7/site-packages/ipykernel/__main__.py:51: SettingWithCopyWarning: \n",
      "A value is trying to be set on a copy of a slice from a DataFrame\n",
      "\n",
      "See the caveats in the documentation: http://pandas.pydata.org/pandas-docs/stable/indexing.html#indexing-view-versus-copy\n"
     ]
    },
    {
     "name": "stdout",
     "output_type": "stream",
     "text": [
      "None\n"
     ]
    },
    {
     "name": "stderr",
     "output_type": "stream",
     "text": [
      "/home/ec2-user/anaconda2/lib/python2.7/site-packages/ipykernel/__main__.py:52: SettingWithCopyWarning: \n",
      "A value is trying to be set on a copy of a slice from a DataFrame\n",
      "\n",
      "See the caveats in the documentation: http://pandas.pydata.org/pandas-docs/stable/indexing.html#indexing-view-versus-copy\n"
     ]
    },
    {
     "name": "stdout",
     "output_type": "stream",
     "text": [
      "None\n"
     ]
    },
    {
     "name": "stderr",
     "output_type": "stream",
     "text": [
      "/home/ec2-user/anaconda2/lib/python2.7/site-packages/ipykernel/__main__.py:53: SettingWithCopyWarning: \n",
      "A value is trying to be set on a copy of a slice from a DataFrame\n",
      "\n",
      "See the caveats in the documentation: http://pandas.pydata.org/pandas-docs/stable/indexing.html#indexing-view-versus-copy\n"
     ]
    },
    {
     "name": "stdout",
     "output_type": "stream",
     "text": [
      "None\n"
     ]
    },
    {
     "name": "stderr",
     "output_type": "stream",
     "text": [
      "/home/ec2-user/anaconda2/lib/python2.7/site-packages/ipykernel/__main__.py:54: SettingWithCopyWarning: \n",
      "A value is trying to be set on a copy of a slice from a DataFrame\n",
      "\n",
      "See the caveats in the documentation: http://pandas.pydata.org/pandas-docs/stable/indexing.html#indexing-view-versus-copy\n"
     ]
    },
    {
     "name": "stdout",
     "output_type": "stream",
     "text": [
      "None\n"
     ]
    },
    {
     "name": "stderr",
     "output_type": "stream",
     "text": [
      "/home/ec2-user/anaconda2/lib/python2.7/site-packages/ipykernel/__main__.py:55: SettingWithCopyWarning: \n",
      "A value is trying to be set on a copy of a slice from a DataFrame\n",
      "\n",
      "See the caveats in the documentation: http://pandas.pydata.org/pandas-docs/stable/indexing.html#indexing-view-versus-copy\n"
     ]
    },
    {
     "name": "stdout",
     "output_type": "stream",
     "text": [
      "None\n"
     ]
    },
    {
     "name": "stderr",
     "output_type": "stream",
     "text": [
      "/home/ec2-user/anaconda2/lib/python2.7/site-packages/ipykernel/__main__.py:56: SettingWithCopyWarning: \n",
      "A value is trying to be set on a copy of a slice from a DataFrame\n",
      "\n",
      "See the caveats in the documentation: http://pandas.pydata.org/pandas-docs/stable/indexing.html#indexing-view-versus-copy\n"
     ]
    },
    {
     "name": "stdout",
     "output_type": "stream",
     "text": [
      "None\n"
     ]
    },
    {
     "name": "stderr",
     "output_type": "stream",
     "text": [
      "/home/ec2-user/anaconda2/lib/python2.7/site-packages/ipykernel/__main__.py:57: SettingWithCopyWarning: \n",
      "A value is trying to be set on a copy of a slice from a DataFrame\n",
      "\n",
      "See the caveats in the documentation: http://pandas.pydata.org/pandas-docs/stable/indexing.html#indexing-view-versus-copy\n"
     ]
    },
    {
     "name": "stdout",
     "output_type": "stream",
     "text": [
      "None\n"
     ]
    },
    {
     "name": "stderr",
     "output_type": "stream",
     "text": [
      "/home/ec2-user/anaconda2/lib/python2.7/site-packages/ipykernel/__main__.py:58: SettingWithCopyWarning: \n",
      "A value is trying to be set on a copy of a slice from a DataFrame\n",
      "\n",
      "See the caveats in the documentation: http://pandas.pydata.org/pandas-docs/stable/indexing.html#indexing-view-versus-copy\n"
     ]
    },
    {
     "name": "stdout",
     "output_type": "stream",
     "text": [
      "None\n"
     ]
    },
    {
     "name": "stderr",
     "output_type": "stream",
     "text": [
      "/home/ec2-user/anaconda2/lib/python2.7/site-packages/ipykernel/__main__.py:59: SettingWithCopyWarning: \n",
      "A value is trying to be set on a copy of a slice from a DataFrame\n",
      "\n",
      "See the caveats in the documentation: http://pandas.pydata.org/pandas-docs/stable/indexing.html#indexing-view-versus-copy\n"
     ]
    },
    {
     "name": "stdout",
     "output_type": "stream",
     "text": [
      "None\n"
     ]
    },
    {
     "name": "stderr",
     "output_type": "stream",
     "text": [
      "/home/ec2-user/anaconda2/lib/python2.7/site-packages/ipykernel/__main__.py:60: SettingWithCopyWarning: \n",
      "A value is trying to be set on a copy of a slice from a DataFrame\n",
      "\n",
      "See the caveats in the documentation: http://pandas.pydata.org/pandas-docs/stable/indexing.html#indexing-view-versus-copy\n"
     ]
    },
    {
     "name": "stdout",
     "output_type": "stream",
     "text": [
      "None\n"
     ]
    },
    {
     "name": "stderr",
     "output_type": "stream",
     "text": [
      "/home/ec2-user/anaconda2/lib/python2.7/site-packages/ipykernel/__main__.py:61: SettingWithCopyWarning: \n",
      "A value is trying to be set on a copy of a slice from a DataFrame\n",
      "\n",
      "See the caveats in the documentation: http://pandas.pydata.org/pandas-docs/stable/indexing.html#indexing-view-versus-copy\n"
     ]
    },
    {
     "name": "stdout",
     "output_type": "stream",
     "text": [
      "None\n"
     ]
    },
    {
     "name": "stderr",
     "output_type": "stream",
     "text": [
      "/home/ec2-user/anaconda2/lib/python2.7/site-packages/ipykernel/__main__.py:62: SettingWithCopyWarning: \n",
      "A value is trying to be set on a copy of a slice from a DataFrame\n",
      "\n",
      "See the caveats in the documentation: http://pandas.pydata.org/pandas-docs/stable/indexing.html#indexing-view-versus-copy\n"
     ]
    },
    {
     "name": "stdout",
     "output_type": "stream",
     "text": [
      "None\n"
     ]
    },
    {
     "name": "stderr",
     "output_type": "stream",
     "text": [
      "/home/ec2-user/anaconda2/lib/python2.7/site-packages/ipykernel/__main__.py:63: SettingWithCopyWarning: \n",
      "A value is trying to be set on a copy of a slice from a DataFrame\n",
      "\n",
      "See the caveats in the documentation: http://pandas.pydata.org/pandas-docs/stable/indexing.html#indexing-view-versus-copy\n"
     ]
    },
    {
     "name": "stdout",
     "output_type": "stream",
     "text": [
      "None\n"
     ]
    },
    {
     "name": "stderr",
     "output_type": "stream",
     "text": [
      "/home/ec2-user/anaconda2/lib/python2.7/site-packages/ipykernel/__main__.py:64: SettingWithCopyWarning: \n",
      "A value is trying to be set on a copy of a slice from a DataFrame\n",
      "\n",
      "See the caveats in the documentation: http://pandas.pydata.org/pandas-docs/stable/indexing.html#indexing-view-versus-copy\n"
     ]
    },
    {
     "name": "stdout",
     "output_type": "stream",
     "text": [
      "None\n"
     ]
    },
    {
     "name": "stderr",
     "output_type": "stream",
     "text": [
      "/home/ec2-user/anaconda2/lib/python2.7/site-packages/ipykernel/__main__.py:65: SettingWithCopyWarning: \n",
      "A value is trying to be set on a copy of a slice from a DataFrame\n",
      "\n",
      "See the caveats in the documentation: http://pandas.pydata.org/pandas-docs/stable/indexing.html#indexing-view-versus-copy\n"
     ]
    },
    {
     "name": "stdout",
     "output_type": "stream",
     "text": [
      "None\n"
     ]
    },
    {
     "name": "stderr",
     "output_type": "stream",
     "text": [
      "/home/ec2-user/anaconda2/lib/python2.7/site-packages/ipykernel/__main__.py:66: SettingWithCopyWarning: \n",
      "A value is trying to be set on a copy of a slice from a DataFrame\n",
      "\n",
      "See the caveats in the documentation: http://pandas.pydata.org/pandas-docs/stable/indexing.html#indexing-view-versus-copy\n"
     ]
    },
    {
     "name": "stdout",
     "output_type": "stream",
     "text": [
      "None\n"
     ]
    },
    {
     "name": "stderr",
     "output_type": "stream",
     "text": [
      "/home/ec2-user/anaconda2/lib/python2.7/site-packages/ipykernel/__main__.py:67: SettingWithCopyWarning: \n",
      "A value is trying to be set on a copy of a slice from a DataFrame\n",
      "\n",
      "See the caveats in the documentation: http://pandas.pydata.org/pandas-docs/stable/indexing.html#indexing-view-versus-copy\n"
     ]
    },
    {
     "name": "stdout",
     "output_type": "stream",
     "text": [
      "None\n"
     ]
    },
    {
     "name": "stderr",
     "output_type": "stream",
     "text": [
      "/home/ec2-user/anaconda2/lib/python2.7/site-packages/ipykernel/__main__.py:68: SettingWithCopyWarning: \n",
      "A value is trying to be set on a copy of a slice from a DataFrame\n",
      "\n",
      "See the caveats in the documentation: http://pandas.pydata.org/pandas-docs/stable/indexing.html#indexing-view-versus-copy\n"
     ]
    },
    {
     "name": "stdout",
     "output_type": "stream",
     "text": [
      "None\n"
     ]
    },
    {
     "name": "stderr",
     "output_type": "stream",
     "text": [
      "/home/ec2-user/anaconda2/lib/python2.7/site-packages/ipykernel/__main__.py:69: SettingWithCopyWarning: \n",
      "A value is trying to be set on a copy of a slice from a DataFrame\n",
      "\n",
      "See the caveats in the documentation: http://pandas.pydata.org/pandas-docs/stable/indexing.html#indexing-view-versus-copy\n"
     ]
    },
    {
     "name": "stdout",
     "output_type": "stream",
     "text": [
      "None\n"
     ]
    },
    {
     "name": "stderr",
     "output_type": "stream",
     "text": [
      "/home/ec2-user/anaconda2/lib/python2.7/site-packages/ipykernel/__main__.py:70: SettingWithCopyWarning: \n",
      "A value is trying to be set on a copy of a slice from a DataFrame\n",
      "\n",
      "See the caveats in the documentation: http://pandas.pydata.org/pandas-docs/stable/indexing.html#indexing-view-versus-copy\n"
     ]
    },
    {
     "name": "stdout",
     "output_type": "stream",
     "text": [
      "None\n"
     ]
    },
    {
     "name": "stderr",
     "output_type": "stream",
     "text": [
      "/home/ec2-user/anaconda2/lib/python2.7/site-packages/ipykernel/__main__.py:71: SettingWithCopyWarning: \n",
      "A value is trying to be set on a copy of a slice from a DataFrame\n",
      "\n",
      "See the caveats in the documentation: http://pandas.pydata.org/pandas-docs/stable/indexing.html#indexing-view-versus-copy\n"
     ]
    },
    {
     "name": "stdout",
     "output_type": "stream",
     "text": [
      "None\n"
     ]
    },
    {
     "name": "stderr",
     "output_type": "stream",
     "text": [
      "/home/ec2-user/anaconda2/lib/python2.7/site-packages/ipykernel/__main__.py:74: SettingWithCopyWarning: \n",
      "A value is trying to be set on a copy of a slice from a DataFrame\n",
      "\n",
      "See the caveats in the documentation: http://pandas.pydata.org/pandas-docs/stable/indexing.html#indexing-view-versus-copy\n"
     ]
    },
    {
     "name": "stdout",
     "output_type": "stream",
     "text": [
      "None\n"
     ]
    },
    {
     "name": "stderr",
     "output_type": "stream",
     "text": [
      "/home/ec2-user/anaconda2/lib/python2.7/site-packages/ipykernel/__main__.py:75: SettingWithCopyWarning: \n",
      "A value is trying to be set on a copy of a slice from a DataFrame\n",
      "\n",
      "See the caveats in the documentation: http://pandas.pydata.org/pandas-docs/stable/indexing.html#indexing-view-versus-copy\n"
     ]
    },
    {
     "name": "stdout",
     "output_type": "stream",
     "text": [
      "None\n"
     ]
    },
    {
     "name": "stderr",
     "output_type": "stream",
     "text": [
      "/home/ec2-user/anaconda2/lib/python2.7/site-packages/ipykernel/__main__.py:76: SettingWithCopyWarning: \n",
      "A value is trying to be set on a copy of a slice from a DataFrame\n",
      "\n",
      "See the caveats in the documentation: http://pandas.pydata.org/pandas-docs/stable/indexing.html#indexing-view-versus-copy\n"
     ]
    },
    {
     "name": "stdout",
     "output_type": "stream",
     "text": [
      "None\n"
     ]
    },
    {
     "name": "stderr",
     "output_type": "stream",
     "text": [
      "/home/ec2-user/anaconda2/lib/python2.7/site-packages/ipykernel/__main__.py:77: SettingWithCopyWarning: \n",
      "A value is trying to be set on a copy of a slice from a DataFrame\n",
      "\n",
      "See the caveats in the documentation: http://pandas.pydata.org/pandas-docs/stable/indexing.html#indexing-view-versus-copy\n"
     ]
    },
    {
     "name": "stdout",
     "output_type": "stream",
     "text": [
      "None\n"
     ]
    },
    {
     "name": "stderr",
     "output_type": "stream",
     "text": [
      "/home/ec2-user/anaconda2/lib/python2.7/site-packages/ipykernel/__main__.py:78: SettingWithCopyWarning: \n",
      "A value is trying to be set on a copy of a slice from a DataFrame\n",
      "\n",
      "See the caveats in the documentation: http://pandas.pydata.org/pandas-docs/stable/indexing.html#indexing-view-versus-copy\n"
     ]
    },
    {
     "name": "stdout",
     "output_type": "stream",
     "text": [
      "None\n"
     ]
    },
    {
     "name": "stderr",
     "output_type": "stream",
     "text": [
      "/home/ec2-user/anaconda2/lib/python2.7/site-packages/ipykernel/__main__.py:79: SettingWithCopyWarning: \n",
      "A value is trying to be set on a copy of a slice from a DataFrame\n",
      "\n",
      "See the caveats in the documentation: http://pandas.pydata.org/pandas-docs/stable/indexing.html#indexing-view-versus-copy\n"
     ]
    },
    {
     "name": "stdout",
     "output_type": "stream",
     "text": [
      "None\n"
     ]
    },
    {
     "name": "stderr",
     "output_type": "stream",
     "text": [
      "/home/ec2-user/anaconda2/lib/python2.7/site-packages/ipykernel/__main__.py:80: SettingWithCopyWarning: \n",
      "A value is trying to be set on a copy of a slice from a DataFrame\n",
      "\n",
      "See the caveats in the documentation: http://pandas.pydata.org/pandas-docs/stable/indexing.html#indexing-view-versus-copy\n"
     ]
    },
    {
     "name": "stdout",
     "output_type": "stream",
     "text": [
      "None\n"
     ]
    },
    {
     "name": "stderr",
     "output_type": "stream",
     "text": [
      "/home/ec2-user/anaconda2/lib/python2.7/site-packages/ipykernel/__main__.py:81: SettingWithCopyWarning: \n",
      "A value is trying to be set on a copy of a slice from a DataFrame\n",
      "\n",
      "See the caveats in the documentation: http://pandas.pydata.org/pandas-docs/stable/indexing.html#indexing-view-versus-copy\n"
     ]
    },
    {
     "name": "stdout",
     "output_type": "stream",
     "text": [
      "None\n"
     ]
    },
    {
     "name": "stderr",
     "output_type": "stream",
     "text": [
      "/home/ec2-user/anaconda2/lib/python2.7/site-packages/ipykernel/__main__.py:82: SettingWithCopyWarning: \n",
      "A value is trying to be set on a copy of a slice from a DataFrame\n",
      "\n",
      "See the caveats in the documentation: http://pandas.pydata.org/pandas-docs/stable/indexing.html#indexing-view-versus-copy\n"
     ]
    },
    {
     "name": "stdout",
     "output_type": "stream",
     "text": [
      "None\n"
     ]
    },
    {
     "name": "stderr",
     "output_type": "stream",
     "text": [
      "/home/ec2-user/anaconda2/lib/python2.7/site-packages/ipykernel/__main__.py:83: SettingWithCopyWarning: \n",
      "A value is trying to be set on a copy of a slice from a DataFrame\n",
      "\n",
      "See the caveats in the documentation: http://pandas.pydata.org/pandas-docs/stable/indexing.html#indexing-view-versus-copy\n"
     ]
    },
    {
     "name": "stdout",
     "output_type": "stream",
     "text": [
      "None\n"
     ]
    },
    {
     "name": "stderr",
     "output_type": "stream",
     "text": [
      "/home/ec2-user/anaconda2/lib/python2.7/site-packages/ipykernel/__main__.py:84: SettingWithCopyWarning: \n",
      "A value is trying to be set on a copy of a slice from a DataFrame\n",
      "\n",
      "See the caveats in the documentation: http://pandas.pydata.org/pandas-docs/stable/indexing.html#indexing-view-versus-copy\n"
     ]
    },
    {
     "name": "stdout",
     "output_type": "stream",
     "text": [
      "None\n"
     ]
    },
    {
     "name": "stderr",
     "output_type": "stream",
     "text": [
      "/home/ec2-user/anaconda2/lib/python2.7/site-packages/ipykernel/__main__.py:85: SettingWithCopyWarning: \n",
      "A value is trying to be set on a copy of a slice from a DataFrame\n",
      "\n",
      "See the caveats in the documentation: http://pandas.pydata.org/pandas-docs/stable/indexing.html#indexing-view-versus-copy\n"
     ]
    },
    {
     "name": "stdout",
     "output_type": "stream",
     "text": [
      "None\n",
      "None\n"
     ]
    },
    {
     "name": "stderr",
     "output_type": "stream",
     "text": [
      "/home/ec2-user/anaconda2/lib/python2.7/site-packages/ipykernel/__main__.py:86: SettingWithCopyWarning: \n",
      "A value is trying to be set on a copy of a slice from a DataFrame\n",
      "\n",
      "See the caveats in the documentation: http://pandas.pydata.org/pandas-docs/stable/indexing.html#indexing-view-versus-copy\n"
     ]
    }
   ],
   "source": [
    "dfeventsNew\n",
    "\n",
    "print dfeventsNew.replace('SOCIEDAD ANONIMA','SA',regex=True,inplace=True)\n",
    "print dfeventsNew.replace('SOCIEDAD LIMITADA','SL',regex=True,inplace=True)\n",
    "print dfeventsNew.replace('SOCIEDAD DE RESPONSABILIDAD LIMITADA','SL',regex=True,inplace=True)\n",
    "print dfeventsNew.replace('SOCIEDAD ANONIMA SOCIEDAD','SA',regex=True,inplace=True)\n",
    "print dfeventsNew.replace('SAL','SA',regex=True,inplace=True)\n",
    "print dfeventsNew.replace('S L','SL',regex=True,inplace=True)\n",
    "print dfeventsNew.replace('SOCIETAT LIMITADA','SL',regex=True,inplace=True)\n",
    "print dfeventsNew.replace('S A','SA',regex=True,inplace=True)\n",
    "print dfeventsNew.replace('SOCIETAT ANONIMA','SA',regex=True,inplace=True)\n",
    "print dfeventsNew.replace('SOCIEDAD LIMITADA PROFESIONAL','SLP',regex=True,inplace=True)\n",
    "print dfeventsNew.replace('SA PROFESIONAL','SA',regex=True,inplace=True)\n",
    "print dfeventsNew.replace('SOCIEDAD DE RESPONSABILIDAD LIMITADA EN LIQUIDACION','SRL EN LIQUIDACION',regex=True,inplace=True)\n",
    "print dfeventsNew.replace('SA EN LIQUIDACION EN LIQUIDACION','SA EN LIQUIDACION',regex=True,inplace=True)\n",
    "print dfeventsNew.replace('SOCIEDAD DE RESPONSABILIDAD LIMITADA PROFESIONAL','SRL',regex=True,inplace=True)\n",
    "print dfeventsNew.replace('SA SOCIEDAD','SA',regex=True,inplace=True)\n",
    "print dfeventsNew.replace('SOL SOCIEDAD DE RESPONSABILIDAD LIMITADA','SRL',regex=True,inplace=True)\n",
    "print dfeventsNew.replace('SAT SOCIEDAD LIMITADA','SAT',regex=True,inplace=True)\n",
    "print dfeventsNew.replace('S L EN LIQUIDACION','SL EN LIQUIDACION',regex=True,inplace=True)\n",
    "print dfeventsNew.replace('SAL EN LIQUIDACION EN LIQUIDACION','SAL EN LIQUIDACION',regex=True,inplace=True)\n",
    "print dfeventsNew.replace('SL P','SL PROFESIONAL',regex=True,inplace=True)\n",
    "print dfeventsNew.replace('SAL SOCIEDAD LIMITADA EN LIQUIDACION','SAL EN LIQUIDACION',regex=True,inplace=True)\n",
    "print dfeventsNew.replace('SALOU SOCIEDAD LIMITADA','SL',regex=True,inplace=True)\n",
    "print dfeventsNew.replace('S I C A V SA','SICAV',regex=True,inplace=True)\n",
    "print dfeventsNew.replace('SICAV SA','SICAV',regex=True,inplace=True)\n",
    "print dfeventsNew.replace('STIGI SOCIEDAD LIMITADA','SL',regex=True,inplace=True)\n",
    "print dfeventsNew.replace('SOCIEDAD DE RESPONSABILIDAD','SL',regex=True,inplace=True)\n",
    "print dfeventsNew.replace('SA SA EN LIQUIDACION','SA EN LIQUIDACION',regex=True,inplace=True)\n",
    "print dfeventsNew.replace('SL UNIPERSONAL','SL',regex=True,inplace=True)\n",
    "print dfeventsNew.replace('SL SOCIEDAD','SL',regex=True,inplace=True)\n",
    "print dfeventsNew.replace('SCL SL','SL',regex=True,inplace=True)\n",
    "print dfeventsNew.replace('SPIMI SL','SL',regex=True,inplace=True)\n",
    "print dfeventsNew.replace('SLA SA','SA',regex=True,inplace=True)\n",
    "print dfeventsNew.replace('SCA SL','SL',regex=True,inplace=True)\n",
    "print dfeventsNew.replace('SIA SL','SL',regex=True,inplace=True)\n",
    "print dfeventsNew.replace('SOA SL','SL',regex=True,inplace=True)\n",
    "print dfeventsNew.replace('SMA SA','SA',regex=True,inplace=True)\n",
    "print dfeventsNew.replace('STA SL','SL',regex=True,inplace=True)\n",
    "print dfeventsNew.replace('SEA SL','SL',regex=True,inplace=True)\n",
    "print dfeventsNew.replace('SPA SL','SL',regex=True,inplace=True)\n",
    "print dfeventsNew.replace('SLP SA','SA',regex=True,inplace=True)\n",
    "print dfeventsNew.replace('SL P','SA',regex=True,inplace=True)\n",
    "print dfeventsNew.replace('SEL SL','SL',regex=True,inplace=True)\n",
    "print dfeventsNew.replace('SLP','SL',regex=True,inplace=True)\n",
    "print dfeventsNew.replace('SLL','SL',regex=True,inplace=True)\n",
    "print dfeventsNew.replace('SGA SL','SL',regex=True,inplace=True)\n",
    "print dfeventsNew.replace('SRL','SL',regex=True,inplace=True)\n",
    "print dfeventsNew.replace('STIGI SL','SL',regex=True,inplace=True)\n",
    "print dfeventsNew.replace('STAZU SA','SA',regex=True,inplace=True)\n",
    "print dfeventsNew.replace('SAT SL','SL',regex=True,inplace=True)\n",
    "print dfeventsNew.replace('SA SA','SA',regex=True,inplace=True)\n",
    "print dfeventsNew.replace('SAOU SL','SL',regex=True,inplace=True)\n",
    "print dfeventsNew.replace('SSA','SA',regex=True,inplace=True)\n",
    "print dfeventsNew.replace('SMA SL','SL',regex=True,inplace=True)\n",
    "print dfeventsNew.replace('SOL SL','SL',regex=True,inplace=True)\n",
    "print dfeventsNew.replace('SOCIEDAD CIVIL PROFESIONAL','SCL',regex=True,inplace=True)\n",
    "print dfeventsNew.replace('SAP','SA',regex=True,inplace=True)\n",
    "print dfeventsNew.replace('SA SICAV','SICAV',regex=True,inplace=True)\n",
    "print dfeventsNew.replace('SOL SA','SA',regex=True,inplace=True)\n",
    "print dfeventsNew.replace('SL L','SL',regex=True,inplace=True)\n",
    "print dfeventsNew.replace('SRAJU SL','SL',regex=True,inplace=True)\n",
    "print dfeventsNew.replace('SCA SA','SA',regex=True,inplace=True)\n",
    "print dfeventsNew.replace('START SL','SL',regex=True,inplace=True)\n",
    "print dfeventsNew.replace('SA UNIPERSONAL','SA',regex=True,inplace=True)\n",
    "print dfeventsNew.replace('SIL SL','SL',regex=True,inplace=True)\n",
    "print dfeventsNew.replace('SLA SL','SL',regex=True,inplace=True)\n",
    "print dfeventsNew.replace('SAT SA','SA',regex=True,inplace=True)\n",
    "print dfeventsNew.replace('SIL SA','SA',regex=True,inplace=True)\n",
    "print dfeventsNew.replace('SEART SL','SL',regex=True,inplace=True)\n",
    "print dfeventsNew.replace('SPA SA','SA',regex=True,inplace=True)\n",
    "\n",
    "\n",
    "print dfeventsNew.replace('SMA',np.nan,regex=True,inplace=True)\n",
    "print dfeventsNew.replace('SAT',np.nan,regex=True,inplace=True)\n",
    "print dfeventsNew.replace('SCA',np.nan,regex=True,inplace=True)\n",
    "print dfeventsNew.replace('SA SL EN LIQUIDACION',np.nan,regex=True,inplace=True)\n",
    "print dfeventsNew.replace('SCL',np.nan,regex=True,inplace=True)\n",
    "print dfeventsNew.replace('EN LIQUIDACION',np.nan,regex=True,inplace=True)\n",
    "print dfeventsNew.replace('SOCIETAT',np.nan,regex=True,inplace=True)\n",
    "print dfeventsNew.replace('SAROFESIONALROFESIONAL',np.nan,regex=True,inplace=True)\n",
    "print dfeventsNew.replace('SOCIEDAD',np.nan,regex=True,inplace=True)\n",
    "print dfeventsNew.replace('SMA SOCIEDAD',np.nan,regex=True,inplace=True)\n",
    "print dfeventsNew.replace('SOCIETAT',np.nan,regex=True,inplace=True)\n",
    "print dfeventsNew.replace('SAROFESIONAL',np.nan,regex=True,inplace=True)\n",
    "print dfeventsNew.replace('SA SL',np.nan,regex=True,inplace=True)"
   ]
  },
  {
   "cell_type": "code",
   "execution_count": 61,
   "metadata": {
    "collapsed": false
   },
   "outputs": [
    {
     "data": {
      "text/plain": [
       "array([u'SL', u'SA', nan, u'SICAV', u'SC'], dtype=object)"
      ]
     },
     "execution_count": 61,
     "metadata": {},
     "output_type": "execute_result"
    }
   ],
   "source": [
    "dfeventsNew['razon'].unique()"
   ]
  },
  {
   "cell_type": "code",
   "execution_count": 62,
   "metadata": {
    "collapsed": true
   },
   "outputs": [],
   "source": [
    "dfeventsNew=dfeventsNew.dropna()"
   ]
  },
  {
   "cell_type": "code",
   "execution_count": 63,
   "metadata": {
    "collapsed": false
   },
   "outputs": [
    {
     "data": {
      "text/plain": [
       "array([u'Nombramientos.', u'Reelecciones.', u'Ceses/Dimisiones.',\n",
       "       u'Situaci\\xf3n concursal.', u'Disoluci\\xf3n.',\n",
       "       u'Modificaciones estatutarias.',\n",
       "       u'Declaraci\\xf3n de unipersonalidad.', u'Revocaciones.',\n",
       "       u'Sociedad unipersonal.', u'Fusi\\xf3n por absorci\\xf3n.',\n",
       "       u'Declaraci\\xf3n  de unipersonalidad.',\n",
       "       u'Articulo 378.5 del Reglamento del Registro Mercantil.',\n",
       "       u'Escisi\\xf3n parcial.', u'Escisi\\xf3n total.', u'Otros conceptos',\n",
       "       u'Transformaci\\xf3n de sociedad.', u'P\\xe1gina web de la sociedad.'], dtype=object)"
      ]
     },
     "execution_count": 63,
     "metadata": {},
     "output_type": "execute_result"
    }
   ],
   "source": [
    "# Modificaciones variable evento\n",
    "\n",
    "dfeventsNew['evento'].unique()"
   ]
  },
  {
   "cell_type": "code",
   "execution_count": 64,
   "metadata": {
    "collapsed": false,
    "scrolled": true
   },
   "outputs": [
    {
     "name": "stdout",
     "output_type": "stream",
     "text": [
      "None\n"
     ]
    }
   ],
   "source": [
    "print dfeventsNew.replace('Declaración  de unipersonalidad.','Declaración de unipersonalidad.',regex=True,inplace=True)"
   ]
  },
  {
   "cell_type": "code",
   "execution_count": 65,
   "metadata": {
    "collapsed": false
   },
   "outputs": [
    {
     "data": {
      "text/plain": [
       "array([u'vicepresidente', u'secretario', u'consejero', u'presidente',\n",
       "       u'num0concurso', u'auditor', u'apoderado0solid', u'liquidador',\n",
       "       u'admin0unico', u'voluntaria', u'admin0solid',\n",
       "       u'cambio0organo0admin', u'apoderado', u'apoderado0mancom',\n",
       "       u'consejero0delegado', u'admin0mancom', u'socio0unico',\n",
       "       u'consejero0delegado0mancom', u'representan', u'socio',\n",
       "       u'apoderado0solid0mancom', u'secretario0noconsej',\n",
       "       u'vicesecretario0noconsej', u'consejero0delegado0solid',\n",
       "       u'vicesecretario', u'benef0absorcion', u'no0aprobac0cuentas',\n",
       "       u'escindidas', u'gerente', u'entidad0gestora', u'admin0conc',\n",
       "       u'insolvencia', u'cambio0socio0unico', u'crea0web',\n",
       "       u'miem0cons0rector'], dtype=object)"
      ]
     },
     "execution_count": 65,
     "metadata": {},
     "output_type": "execute_result"
    }
   ],
   "source": [
    "# Modificaciones variable subeventos. No necesita.\n",
    "\n",
    "dfeventsNew['subevento'].unique()"
   ]
  },
  {
   "cell_type": "code",
   "execution_count": 59,
   "metadata": {
    "collapsed": false
   },
   "outputs": [
    {
     "name": "stdout",
     "output_type": "stream",
     "text": [
      "None\n"
     ]
    },
    {
     "name": "stderr",
     "output_type": "stream",
     "text": [
      "/home/ec2-user/anaconda2/lib/python2.7/site-packages/ipykernel/__main__.py:1: SettingWithCopyWarning: \n",
      "A value is trying to be set on a copy of a slice from a DataFrame\n",
      "\n",
      "See the caveats in the documentation: http://pandas.pydata.org/pandas-docs/stable/indexing.html#indexing-view-versus-copy\n",
      "  if __name__ == '__main__':\n"
     ]
    },
    {
     "data": {
      "text/plain": [
       "0          44014\n",
       "1           4409\n",
       "2           4405\n",
       "3           4405\n",
       "4           4405\n",
       "5           4605\n",
       "6           4605\n",
       "7           4605\n",
       "8          46013\n",
       "9           4205\n",
       "10          4205\n",
       "11          4209\n",
       "17            26\n",
       "18         44025\n",
       "19         46025\n",
       "23         44022\n",
       "24         44022\n",
       "25         44022\n",
       "26         46025\n",
       "27         44015\n",
       "28          4202\n",
       "29            16\n",
       "46          4402\n",
       "49          4403\n",
       "50          4403\n",
       "51          4202\n",
       "52        702003\n",
       "58         44021\n",
       "59         44023\n",
       "60         44023\n",
       "           ...  \n",
       "833271     44021\n",
       "833272      4402\n",
       "833281      4402\n",
       "833283      4402\n",
       "833284      5001\n",
       "833286      4404\n",
       "833287      4204\n",
       "833292      4402\n",
       "833294      4402\n",
       "833295      4203\n",
       "833296      4203\n",
       "833297      4203\n",
       "833298      5001\n",
       "833299    702003\n",
       "833304     44021\n",
       "833307        26\n",
       "833308        26\n",
       "833309      4402\n",
       "833310      5001\n",
       "833312      4402\n",
       "833313      5001\n",
       "833315      4402\n",
       "833316      5001\n",
       "833318     44021\n",
       "833319     44021\n",
       "833321     44021\n",
       "833322     44025\n",
       "833323      4402\n",
       "833329      4402\n",
       "833330      5001\n",
       "Name: codevento, dtype: int64"
      ]
     },
     "execution_count": 59,
     "metadata": {},
     "output_type": "execute_result"
    }
   ],
   "source": [
    "print dfeventsNew.replace('_','0',regex=True,inplace=True)\n",
    "dfeventsNew['codevento'].astype(int)"
   ]
  },
  {
   "cell_type": "code",
   "execution_count": 66,
   "metadata": {
    "collapsed": true
   },
   "outputs": [],
   "source": [
    "dfeventsNew.to_csv('BORMEEvents.csv', encoding='utf-8')\n"
   ]
  },
  {
   "cell_type": "code",
   "execution_count": null,
   "metadata": {
    "collapsed": true
   },
   "outputs": [],
   "source": []
  }
 ],
 "metadata": {
  "anaconda-cloud": {},
  "kernelspec": {
   "display_name": "Python [default]",
   "language": "python",
   "name": "python2"
  },
  "language_info": {
   "codemirror_mode": {
    "name": "ipython",
    "version": 2
   },
   "file_extension": ".py",
   "mimetype": "text/x-python",
   "name": "python",
   "nbconvert_exporter": "python",
   "pygments_lexer": "ipython2",
   "version": "2.7.13"
  }
 },
 "nbformat": 4,
 "nbformat_minor": 2
}
